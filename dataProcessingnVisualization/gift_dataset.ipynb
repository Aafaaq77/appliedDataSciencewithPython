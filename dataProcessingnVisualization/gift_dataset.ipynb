{
  "nbformat": 4,
  "nbformat_minor": 0,
  "metadata": {
    "colab": {
      "name": "Untitled8.ipynb",
      "provenance": [],
      "authorship_tag": "ABX9TyMrwePXFIb3TJ0v8RluPwbN",
      "include_colab_link": true
    },
    "kernelspec": {
      "name": "python3",
      "display_name": "Python 3"
    },
    "language_info": {
      "name": "python"
    }
  },
  "cells": [
    {
      "cell_type": "markdown",
      "metadata": {
        "id": "view-in-github",
        "colab_type": "text"
      },
      "source": [
        "<a href=\"https://colab.research.google.com/github/Aafaaq77/appliedDataSciencewithPython/blob/main/%20dataProcessingnVisualization/gift_dataset.ipynb\" target=\"_parent\"><img src=\"https://colab.research.google.com/assets/colab-badge.svg\" alt=\"Open In Colab\"/></a>"
      ]
    },
    {
      "cell_type": "code",
      "metadata": {
        "id": "Q-9VKoPnsJCM"
      },
      "source": [
        "import json\n",
        "import gzip\n",
        "import pandas as pd"
      ],
      "execution_count": 1,
      "outputs": []
    },
    {
      "cell_type": "markdown",
      "metadata": {
        "id": "h-sqbuC9wXKf"
      },
      "source": [
        "Data from this [link](https://nijianmo.github.io/amazon/index.html)"
      ]
    },
    {
      "cell_type": "code",
      "metadata": {
        "id": "tvFi2kG7tRbA"
      },
      "source": [
        "path = 'Gift_Cards.json.gz'"
      ],
      "execution_count": 2,
      "outputs": []
    },
    {
      "cell_type": "code",
      "metadata": {
        "id": "0HB1IL-mtcAK"
      },
      "source": [
        "def parse(path):\n",
        "  g = gzip.open(path, 'r')\n",
        "  for l in g:\n",
        "    yield json.loads(l)"
      ],
      "execution_count": 3,
      "outputs": []
    },
    {
      "cell_type": "code",
      "metadata": {
        "id": "dhIJOpxOthXQ"
      },
      "source": [
        "with gzip.open(path, 'rb') as f:\n",
        "    line = f.readline()"
      ],
      "execution_count": 4,
      "outputs": []
    },
    {
      "cell_type": "code",
      "metadata": {
        "colab": {
          "base_uri": "https://localhost:8080/"
        },
        "id": "3vxX9nhtvmeB",
        "outputId": "a60f7caa-e17a-4e61-b1d7-2facdbb92bf6"
      },
      "source": [
        "line"
      ],
      "execution_count": 5,
      "outputs": [
        {
          "output_type": "execute_result",
          "data": {
            "text/plain": [
              "b'{\"overall\": 1.0, \"vote\": \"25\", \"verified\": false, \"reviewTime\": \"12 19, 2008\", \"reviewerID\": \"APV13CM0919JD\", \"asin\": \"B001GXRQW0\", \"style\": {\"Gift Amount:\": \" 50\"}, \"reviewerName\": \"LEH\", \"reviewText\": \"Amazon,\\\\nI am shopping for Amazon.com gift cards for Christmas gifts and am really so disappointed that out of five choices there isn\\'t one that says \\\\\"Merry Christmas\\\\\" or mentions Christmas at all!  I am sure I am not alone in wanting a card that reflects the actual \\\\\"holiday\\\\\" we are celebrating. On principle, I cannot send a Amazon gift card this Christmas.  What\\'s up with all the Political Correctness?  Bad marketing decision.\\\\nLynn\", \"summary\": \"Merry Christmas.\", \"unixReviewTime\": 1229644800}\\n'"
            ]
          },
          "metadata": {
            "tags": []
          },
          "execution_count": 5
        }
      ]
    },
    {
      "cell_type": "code",
      "metadata": {
        "colab": {
          "base_uri": "https://localhost:8080/"
        },
        "id": "utWISk1fvrmt",
        "outputId": "e7ae9ee3-1c21-4d58-9e6d-e07cbe05b1b3"
      },
      "source": [
        "json.loads(line)"
      ],
      "execution_count": 6,
      "outputs": [
        {
          "output_type": "execute_result",
          "data": {
            "text/plain": [
              "{'asin': 'B001GXRQW0',\n",
              " 'overall': 1.0,\n",
              " 'reviewText': 'Amazon,\\nI am shopping for Amazon.com gift cards for Christmas gifts and am really so disappointed that out of five choices there isn\\'t one that says \"Merry Christmas\" or mentions Christmas at all!  I am sure I am not alone in wanting a card that reflects the actual \"holiday\" we are celebrating. On principle, I cannot send a Amazon gift card this Christmas.  What\\'s up with all the Political Correctness?  Bad marketing decision.\\nLynn',\n",
              " 'reviewTime': '12 19, 2008',\n",
              " 'reviewerID': 'APV13CM0919JD',\n",
              " 'reviewerName': 'LEH',\n",
              " 'style': {'Gift Amount:': ' 50'},\n",
              " 'summary': 'Merry Christmas.',\n",
              " 'unixReviewTime': 1229644800,\n",
              " 'verified': False,\n",
              " 'vote': '25'}"
            ]
          },
          "metadata": {
            "tags": []
          },
          "execution_count": 6
        }
      ]
    },
    {
      "cell_type": "code",
      "metadata": {
        "colab": {
          "base_uri": "https://localhost:8080/",
          "height": 86
        },
        "id": "8Brz2p_Mv2xd",
        "outputId": "80cdbeb5-cc80-4419-d610-edd9b19d4515"
      },
      "source": [
        "first_line = json.loads(line)\n",
        "first_line['reviewText']"
      ],
      "execution_count": 7,
      "outputs": [
        {
          "output_type": "execute_result",
          "data": {
            "application/vnd.google.colaboratory.intrinsic+json": {
              "type": "string"
            },
            "text/plain": [
              "'Amazon,\\nI am shopping for Amazon.com gift cards for Christmas gifts and am really so disappointed that out of five choices there isn\\'t one that says \"Merry Christmas\" or mentions Christmas at all!  I am sure I am not alone in wanting a card that reflects the actual \"holiday\" we are celebrating. On principle, I cannot send a Amazon gift card this Christmas.  What\\'s up with all the Political Correctness?  Bad marketing decision.\\nLynn'"
            ]
          },
          "metadata": {
            "tags": []
          },
          "execution_count": 7
        }
      ]
    },
    {
      "cell_type": "code",
      "metadata": {
        "colab": {
          "base_uri": "https://localhost:8080/"
        },
        "id": "-2lukBD31xBq",
        "outputId": "275b6f2f-857d-4c1e-e09b-84c6382ab911"
      },
      "source": [
        "dataset = []\n",
        "with gzip.open(path, 'rb') as f:\n",
        "    for line in f:\n",
        "        dataset.append(json.loads(line))\n",
        "\n",
        "dataset[:2]"
      ],
      "execution_count": 8,
      "outputs": [
        {
          "output_type": "execute_result",
          "data": {
            "text/plain": [
              "[{'asin': 'B001GXRQW0',\n",
              "  'overall': 1.0,\n",
              "  'reviewText': 'Amazon,\\nI am shopping for Amazon.com gift cards for Christmas gifts and am really so disappointed that out of five choices there isn\\'t one that says \"Merry Christmas\" or mentions Christmas at all!  I am sure I am not alone in wanting a card that reflects the actual \"holiday\" we are celebrating. On principle, I cannot send a Amazon gift card this Christmas.  What\\'s up with all the Political Correctness?  Bad marketing decision.\\nLynn',\n",
              "  'reviewTime': '12 19, 2008',\n",
              "  'reviewerID': 'APV13CM0919JD',\n",
              "  'reviewerName': 'LEH',\n",
              "  'style': {'Gift Amount:': ' 50'},\n",
              "  'summary': 'Merry Christmas.',\n",
              "  'unixReviewTime': 1229644800,\n",
              "  'verified': False,\n",
              "  'vote': '25'},\n",
              " {'asin': 'B001GXRQW0',\n",
              "  'overall': 5.0,\n",
              "  'reviewText': 'I got this gift card from a friend, and it was the best! The site has so much to choose from... great gift.',\n",
              "  'reviewTime': '12 17, 2008',\n",
              "  'reviewerID': 'A3G8U1G1V082SN',\n",
              "  'reviewerName': 'Tali',\n",
              "  'style': {'Gift Amount:': ' 50'},\n",
              "  'summary': 'Gift card with best selection',\n",
              "  'unixReviewTime': 1229472000,\n",
              "  'verified': False}]"
            ]
          },
          "metadata": {
            "tags": []
          },
          "execution_count": 8
        }
      ]
    },
    {
      "cell_type": "markdown",
      "metadata": {
        "id": "fBmDsgL12q1f"
      },
      "source": [
        "#### Basic statistics \n",
        "- Average Rating"
      ]
    },
    {
      "cell_type": "code",
      "metadata": {
        "colab": {
          "base_uri": "https://localhost:8080/"
        },
        "id": "COQAyNoN2Nxy",
        "outputId": "67af2e0c-ed4c-4f81-be2c-731cab800003"
      },
      "source": [
        "ratings = 0\n",
        "for rev in dataset:\n",
        "    ratings += rev['overall']\n",
        "\n",
        "avg_rating = ratings/len(dataset)\n",
        "avg_rating"
      ],
      "execution_count": 9,
      "outputs": [
        {
          "output_type": "execute_result",
          "data": {
            "text/plain": [
              "4.671970324877373"
            ]
          },
          "metadata": {
            "tags": []
          },
          "execution_count": 9
        }
      ]
    },
    {
      "cell_type": "code",
      "metadata": {
        "colab": {
          "base_uri": "https://localhost:8080/"
        },
        "id": "C5vNs6_14c5K",
        "outputId": "d1145a82-a6b1-4573-a2ba-13f9d9f77862"
      },
      "source": [
        "# avg rating for verified reviews\n",
        "ratings = 0\n",
        "num_verified = 0\n",
        "for rev in dataset:\n",
        "    if rev['verified']:\n",
        "        ratings += rev['overall']\n",
        "        num_verified += 1\n",
        "\n",
        "avg_rating = ratings/num_verified\n",
        "avg_rating"
      ],
      "execution_count": 10,
      "outputs": [
        {
          "output_type": "execute_result",
          "data": {
            "text/plain": [
              "4.712392485369329"
            ]
          },
          "metadata": {
            "tags": []
          },
          "execution_count": 10
        }
      ]
    },
    {
      "cell_type": "code",
      "metadata": {
        "colab": {
          "base_uri": "https://localhost:8080/",
          "height": 250
        },
        "id": "clJ--Ojm54ho",
        "outputId": "bf1cef51-e6c9-407f-a989-8bfa263e9305"
      },
      "source": [
        "pd.DataFrame(dataset[:2])"
      ],
      "execution_count": 11,
      "outputs": [
        {
          "output_type": "execute_result",
          "data": {
            "text/html": [
              "<div>\n",
              "<style scoped>\n",
              "    .dataframe tbody tr th:only-of-type {\n",
              "        vertical-align: middle;\n",
              "    }\n",
              "\n",
              "    .dataframe tbody tr th {\n",
              "        vertical-align: top;\n",
              "    }\n",
              "\n",
              "    .dataframe thead th {\n",
              "        text-align: right;\n",
              "    }\n",
              "</style>\n",
              "<table border=\"1\" class=\"dataframe\">\n",
              "  <thead>\n",
              "    <tr style=\"text-align: right;\">\n",
              "      <th></th>\n",
              "      <th>overall</th>\n",
              "      <th>vote</th>\n",
              "      <th>verified</th>\n",
              "      <th>reviewTime</th>\n",
              "      <th>reviewerID</th>\n",
              "      <th>asin</th>\n",
              "      <th>style</th>\n",
              "      <th>reviewerName</th>\n",
              "      <th>reviewText</th>\n",
              "      <th>summary</th>\n",
              "      <th>unixReviewTime</th>\n",
              "    </tr>\n",
              "  </thead>\n",
              "  <tbody>\n",
              "    <tr>\n",
              "      <th>0</th>\n",
              "      <td>1.0</td>\n",
              "      <td>25</td>\n",
              "      <td>False</td>\n",
              "      <td>12 19, 2008</td>\n",
              "      <td>APV13CM0919JD</td>\n",
              "      <td>B001GXRQW0</td>\n",
              "      <td>{'Gift Amount:': ' 50'}</td>\n",
              "      <td>LEH</td>\n",
              "      <td>Amazon,\\nI am shopping for Amazon.com gift car...</td>\n",
              "      <td>Merry Christmas.</td>\n",
              "      <td>1229644800</td>\n",
              "    </tr>\n",
              "    <tr>\n",
              "      <th>1</th>\n",
              "      <td>5.0</td>\n",
              "      <td>NaN</td>\n",
              "      <td>False</td>\n",
              "      <td>12 17, 2008</td>\n",
              "      <td>A3G8U1G1V082SN</td>\n",
              "      <td>B001GXRQW0</td>\n",
              "      <td>{'Gift Amount:': ' 50'}</td>\n",
              "      <td>Tali</td>\n",
              "      <td>I got this gift card from a friend, and it was...</td>\n",
              "      <td>Gift card with best selection</td>\n",
              "      <td>1229472000</td>\n",
              "    </tr>\n",
              "  </tbody>\n",
              "</table>\n",
              "</div>"
            ],
            "text/plain": [
              "   overall vote  ...                        summary unixReviewTime\n",
              "0      1.0   25  ...               Merry Christmas.     1229644800\n",
              "1      5.0  NaN  ...  Gift card with best selection     1229472000\n",
              "\n",
              "[2 rows x 11 columns]"
            ]
          },
          "metadata": {
            "tags": []
          },
          "execution_count": 11
        }
      ]
    },
    {
      "cell_type": "markdown",
      "metadata": {
        "id": "hrhOB50t7o3w"
      },
      "source": [
        "This time doing it with pandas.\n",
        "It also produces the same results\n"
      ]
    },
    {
      "cell_type": "code",
      "metadata": {
        "colab": {
          "base_uri": "https://localhost:8080/"
        },
        "id": "cFQZNAEI7Vei",
        "outputId": "32193627-bd8c-4a33-a374-c048d852964b"
      },
      "source": [
        "cols = ['overall', 'verified', 'reviewerID', 'summary', 'asin']\n",
        "df = pd.DataFrame(dataset)\n",
        "df = df[cols]\n",
        "df['overall'].mean()"
      ],
      "execution_count": 12,
      "outputs": [
        {
          "output_type": "execute_result",
          "data": {
            "text/plain": [
              "4.671970324877373"
            ]
          },
          "metadata": {
            "tags": []
          },
          "execution_count": 12
        }
      ]
    },
    {
      "cell_type": "code",
      "metadata": {
        "colab": {
          "base_uri": "https://localhost:8080/"
        },
        "id": "3POyfpei78Jp",
        "outputId": "d9ec0bd8-0585-4ad6-c74a-acc0f3af3653"
      },
      "source": [
        "df_verified = df[df['verified'] == True]\n",
        "df_verified['overall'].mean()"
      ],
      "execution_count": 13,
      "outputs": [
        {
          "output_type": "execute_result",
          "data": {
            "text/plain": [
              "4.712392485369329"
            ]
          },
          "metadata": {
            "tags": []
          },
          "execution_count": 13
        }
      ]
    },
    {
      "cell_type": "code",
      "metadata": {
        "colab": {
          "base_uri": "https://localhost:8080/"
        },
        "id": "OEtbN0IE8HCZ",
        "outputId": "d7bbb285-db31-4f5c-d105-4d2c564248fa"
      },
      "source": [
        "with gzip.open('Industrial_and_Scientific_5.json.gz', 'rb') as f:\n",
        "    line = f.readline()\n",
        "\n",
        "json.loads(line)"
      ],
      "execution_count": 14,
      "outputs": [
        {
          "output_type": "execute_result",
          "data": {
            "text/plain": [
              "{'asin': 'B0000223SI',\n",
              " 'overall': 5.0,\n",
              " 'reviewText': \"This worked really well for what I used it for. So for my purposes it is getting full marks. This is an all around great, durable, and afforable sandpaper.\\n\\nPros:\\n-Grit cuts really fast and evenly. No random deep scratches like I have seen in some cheaper paper\\n-Didn't even have a hint of clogging up.\\n-The adhesive is just what I needed. No permanent, but wasn't going anywhere.\\n\\nCons:\\n-None\",\n",
              " 'reviewTime': '11 27, 2017',\n",
              " 'reviewerID': 'A1JB7HFWHRYHT7',\n",
              " 'reviewerName': 'Alex W.',\n",
              " 'style': {'Size:': ' 1-(Pack)'},\n",
              " 'summary': \"Couldn't have been happier with it's performance\",\n",
              " 'unixReviewTime': 1511740800,\n",
              " 'verified': True}"
            ]
          },
          "metadata": {
            "tags": []
          },
          "execution_count": 14
        }
      ]
    },
    {
      "cell_type": "code",
      "metadata": {
        "id": "c7rFyapz8jzA"
      },
      "source": [
        "import numpy as np\n",
        "stats_df = df.groupby('asin').agg(avg_rating=('overall', np.mean), total_reviews=('reviewerID', 'count'))"
      ],
      "execution_count": 15,
      "outputs": []
    },
    {
      "cell_type": "markdown",
      "metadata": {
        "id": "UUOj8m-j_oRl"
      },
      "source": [
        "#### Most bought products with their average ratings and number of reviews"
      ]
    },
    {
      "cell_type": "code",
      "metadata": {
        "colab": {
          "base_uri": "https://localhost:8080/",
          "height": 390
        },
        "id": "kERvGJdi8-yV",
        "outputId": "ab6beb5b-aa92-4e32-a594-61e80fca3579"
      },
      "source": [
        "stats_df.sort_values('total_reviews', ascending=False).head(10)"
      ],
      "execution_count": 16,
      "outputs": [
        {
          "output_type": "execute_result",
          "data": {
            "text/html": [
              "<div>\n",
              "<style scoped>\n",
              "    .dataframe tbody tr th:only-of-type {\n",
              "        vertical-align: middle;\n",
              "    }\n",
              "\n",
              "    .dataframe tbody tr th {\n",
              "        vertical-align: top;\n",
              "    }\n",
              "\n",
              "    .dataframe thead th {\n",
              "        text-align: right;\n",
              "    }\n",
              "</style>\n",
              "<table border=\"1\" class=\"dataframe\">\n",
              "  <thead>\n",
              "    <tr style=\"text-align: right;\">\n",
              "      <th></th>\n",
              "      <th>avg_rating</th>\n",
              "      <th>total_reviews</th>\n",
              "    </tr>\n",
              "    <tr>\n",
              "      <th>asin</th>\n",
              "      <th></th>\n",
              "      <th></th>\n",
              "    </tr>\n",
              "  </thead>\n",
              "  <tbody>\n",
              "    <tr>\n",
              "      <th>B004Q7CK9M</th>\n",
              "      <td>4.616712</td>\n",
              "      <td>8174</td>\n",
              "    </tr>\n",
              "    <tr>\n",
              "      <th>B004LLIKVU</th>\n",
              "      <td>4.669188</td>\n",
              "      <td>5420</td>\n",
              "    </tr>\n",
              "    <tr>\n",
              "      <th>B0091JKVU0</th>\n",
              "      <td>4.765921</td>\n",
              "      <td>3486</td>\n",
              "    </tr>\n",
              "    <tr>\n",
              "      <th>B00JDQJZWG</th>\n",
              "      <td>4.762921</td>\n",
              "      <td>2999</td>\n",
              "    </tr>\n",
              "    <tr>\n",
              "      <th>B0091JKY0M</th>\n",
              "      <td>4.680774</td>\n",
              "      <td>2481</td>\n",
              "    </tr>\n",
              "    <tr>\n",
              "      <th>B014S24DAI</th>\n",
              "      <td>4.746620</td>\n",
              "      <td>2293</td>\n",
              "    </tr>\n",
              "    <tr>\n",
              "      <th>B004LLIKY2</th>\n",
              "      <td>4.718442</td>\n",
              "      <td>2234</td>\n",
              "    </tr>\n",
              "    <tr>\n",
              "      <th>B0066AZGD4</th>\n",
              "      <td>4.640576</td>\n",
              "      <td>2223</td>\n",
              "    </tr>\n",
              "    <tr>\n",
              "      <th>B00H5BMH44</th>\n",
              "      <td>4.810418</td>\n",
              "      <td>2131</td>\n",
              "    </tr>\n",
              "    <tr>\n",
              "      <th>B0091JL3OI</th>\n",
              "      <td>4.789825</td>\n",
              "      <td>1946</td>\n",
              "    </tr>\n",
              "  </tbody>\n",
              "</table>\n",
              "</div>"
            ],
            "text/plain": [
              "            avg_rating  total_reviews\n",
              "asin                                 \n",
              "B004Q7CK9M    4.616712           8174\n",
              "B004LLIKVU    4.669188           5420\n",
              "B0091JKVU0    4.765921           3486\n",
              "B00JDQJZWG    4.762921           2999\n",
              "B0091JKY0M    4.680774           2481\n",
              "B014S24DAI    4.746620           2293\n",
              "B004LLIKY2    4.718442           2234\n",
              "B0066AZGD4    4.640576           2223\n",
              "B00H5BMH44    4.810418           2131\n",
              "B0091JL3OI    4.789825           1946"
            ]
          },
          "metadata": {
            "tags": []
          },
          "execution_count": 16
        }
      ]
    },
    {
      "cell_type": "markdown",
      "metadata": {
        "id": "2k7dDcj_AUDG"
      },
      "source": [
        "Which fraction of purchases are verified?\n",
        "more than 93%"
      ]
    },
    {
      "cell_type": "code",
      "metadata": {
        "colab": {
          "base_uri": "https://localhost:8080/"
        },
        "id": "msgk6by2_JlG",
        "outputId": "ce02f636-d2f9-4253-d31c-3750d8e8d563"
      },
      "source": [
        "df_verified.shape[0]/df.shape[0]"
      ],
      "execution_count": 17,
      "outputs": [
        {
          "output_type": "execute_result",
          "data": {
            "text/plain": [
              "0.9391483348506053"
            ]
          },
          "metadata": {
            "tags": []
          },
          "execution_count": 17
        }
      ]
    },
    {
      "cell_type": "markdown",
      "metadata": {
        "id": "J4hf8FTKCKbh"
      },
      "source": [
        "Computing rating distribution using a dict and then using pandas"
      ]
    },
    {
      "cell_type": "code",
      "metadata": {
        "id": "2uTbr6ZlATFk"
      },
      "source": [
        "from collections import defaultdict"
      ],
      "execution_count": 18,
      "outputs": []
    },
    {
      "cell_type": "code",
      "metadata": {
        "colab": {
          "base_uri": "https://localhost:8080/"
        },
        "id": "Jv8nhITECa9R",
        "outputId": "a798c894-3fa2-4fab-cd48-4dda84dd6134"
      },
      "source": [
        "rating_counts = defaultdict(int)\n",
        "for rev in dataset:\n",
        "    rating_counts[rev['overall']] += 1\n",
        "\n",
        "rating_counts"
      ],
      "execution_count": 19,
      "outputs": [
        {
          "output_type": "execute_result",
          "data": {
            "text/plain": [
              "defaultdict(int, {1.0: 7165, 2.0: 1644, 3.0: 2996, 4.0: 8700, 5.0: 126689})"
            ]
          },
          "metadata": {
            "tags": []
          },
          "execution_count": 19
        }
      ]
    },
    {
      "cell_type": "code",
      "metadata": {
        "colab": {
          "base_uri": "https://localhost:8080/"
        },
        "id": "Ek_AM57rCu0G",
        "outputId": "f8b859e5-ee34-4139-d4c8-a3a24bd78d41"
      },
      "source": [
        "# or using pandas\n",
        "df['overall'].value_counts()"
      ],
      "execution_count": 20,
      "outputs": [
        {
          "output_type": "execute_result",
          "data": {
            "text/plain": [
              "5.0    126689\n",
              "4.0      8700\n",
              "1.0      7165\n",
              "3.0      2996\n",
              "2.0      1644\n",
              "Name: overall, dtype: int64"
            ]
          },
          "metadata": {
            "tags": []
          },
          "execution_count": 20
        }
      ]
    },
    {
      "cell_type": "code",
      "metadata": {
        "colab": {
          "base_uri": "https://localhost:8080/"
        },
        "id": "Y0p7-dLNC_-z",
        "outputId": "4d658924-4774-47ba-bd3a-924eb188c9c4"
      },
      "source": [
        "# number of verified and non-verified purchases using a defaultdict\n",
        "verified = defaultdict(int)\n",
        "for rev in dataset:\n",
        "    verified[rev['verified']] += 1\n",
        "\n",
        "verified\n"
      ],
      "execution_count": 21,
      "outputs": [
        {
          "output_type": "execute_result",
          "data": {
            "text/plain": [
              "defaultdict(int, {False: 8957, True: 138237})"
            ]
          },
          "metadata": {
            "tags": []
          },
          "execution_count": 21
        }
      ]
    },
    {
      "cell_type": "code",
      "metadata": {
        "colab": {
          "base_uri": "https://localhost:8080/"
        },
        "id": "ZagMKDjPDYE_",
        "outputId": "31d3ad66-47b8-4756-a597-31f2df0251db"
      },
      "source": [
        "df['verified'].value_counts()"
      ],
      "execution_count": 22,
      "outputs": [
        {
          "output_type": "execute_result",
          "data": {
            "text/plain": [
              "True     138237\n",
              "False      8957\n",
              "Name: verified, dtype: int64"
            ]
          },
          "metadata": {
            "tags": []
          },
          "execution_count": 22
        }
      ]
    },
    {
      "cell_type": "markdown",
      "metadata": {
        "id": "O6Zj_B330BzE"
      },
      "source": [
        "Most popular product with defaultdict and looping through dataset"
      ]
    },
    {
      "cell_type": "code",
      "metadata": {
        "id": "1f5oJ7DwDsoV"
      },
      "source": [
        "prod_counts = defaultdict(int)\n",
        "for rev in dataset:\n",
        "    prod_counts[rev['asin']] += 1\n",
        "\n",
        "# prod_counts"
      ],
      "execution_count": 24,
      "outputs": []
    },
    {
      "cell_type": "code",
      "metadata": {
        "colab": {
          "base_uri": "https://localhost:8080/"
        },
        "id": "81eCKcaH0inb",
        "outputId": "54ae1ca2-e08a-48e1-d825-12326db0b5a9"
      },
      "source": [
        "df['asin'].value_counts()"
      ],
      "execution_count": 25,
      "outputs": [
        {
          "output_type": "execute_result",
          "data": {
            "text/plain": [
              "B004Q7CK9M    8174\n",
              "B004LLIKVU    5420\n",
              "B0091JKVU0    3486\n",
              "B00JDQJZWG    2999\n",
              "B0091JKY0M    2481\n",
              "              ... \n",
              "B015NLC8KU       1\n",
              "B00PG25106       1\n",
              "B00G4IVA4W       1\n",
              "B00GYIP7AA       1\n",
              "B00GXSDGYU       1\n",
              "Name: asin, Length: 1548, dtype: int64"
            ]
          },
          "metadata": {
            "tags": []
          },
          "execution_count": 25
        }
      ]
    },
    {
      "cell_type": "code",
      "metadata": {
        "colab": {
          "base_uri": "https://localhost:8080/",
          "height": 235
        },
        "id": "IuZ4X_Xk0xpF",
        "outputId": "ba3bf9f3-44fd-4b5f-f242-9e96342871a0"
      },
      "source": [
        "# Best avergae rating: Already did it with pandas\n",
        "stats_df.head()"
      ],
      "execution_count": 26,
      "outputs": [
        {
          "output_type": "execute_result",
          "data": {
            "text/html": [
              "<div>\n",
              "<style scoped>\n",
              "    .dataframe tbody tr th:only-of-type {\n",
              "        vertical-align: middle;\n",
              "    }\n",
              "\n",
              "    .dataframe tbody tr th {\n",
              "        vertical-align: top;\n",
              "    }\n",
              "\n",
              "    .dataframe thead th {\n",
              "        text-align: right;\n",
              "    }\n",
              "</style>\n",
              "<table border=\"1\" class=\"dataframe\">\n",
              "  <thead>\n",
              "    <tr style=\"text-align: right;\">\n",
              "      <th></th>\n",
              "      <th>avg_rating</th>\n",
              "      <th>total_reviews</th>\n",
              "    </tr>\n",
              "    <tr>\n",
              "      <th>asin</th>\n",
              "      <th></th>\n",
              "      <th></th>\n",
              "    </tr>\n",
              "  </thead>\n",
              "  <tbody>\n",
              "    <tr>\n",
              "      <th>1619923009</th>\n",
              "      <td>4.750000</td>\n",
              "      <td>4</td>\n",
              "    </tr>\n",
              "    <tr>\n",
              "      <th>B001BKEWF2</th>\n",
              "      <td>5.000000</td>\n",
              "      <td>1</td>\n",
              "    </tr>\n",
              "    <tr>\n",
              "      <th>B001GXRQW0</th>\n",
              "      <td>4.090652</td>\n",
              "      <td>706</td>\n",
              "    </tr>\n",
              "    <tr>\n",
              "      <th>B001H53QE4</th>\n",
              "      <td>3.625000</td>\n",
              "      <td>8</td>\n",
              "    </tr>\n",
              "    <tr>\n",
              "      <th>B001H53QEO</th>\n",
              "      <td>3.000000</td>\n",
              "      <td>3</td>\n",
              "    </tr>\n",
              "  </tbody>\n",
              "</table>\n",
              "</div>"
            ],
            "text/plain": [
              "            avg_rating  total_reviews\n",
              "asin                                 \n",
              "1619923009    4.750000              4\n",
              "B001BKEWF2    5.000000              1\n",
              "B001GXRQW0    4.090652            706\n",
              "B001H53QE4    3.625000              8\n",
              "B001H53QEO    3.000000              3"
            ]
          },
          "metadata": {
            "tags": []
          },
          "execution_count": 26
        }
      ]
    },
    {
      "cell_type": "code",
      "metadata": {
        "colab": {
          "base_uri": "https://localhost:8080/",
          "height": 390
        },
        "id": "9O_JaG3z1PSt",
        "outputId": "b3cce11e-cdf6-487a-822b-8901554692ba"
      },
      "source": [
        "stats_df[stats_df['total_reviews'] > 50].sort_values('avg_rating', ascending=False).iloc[:10]"
      ],
      "execution_count": 29,
      "outputs": [
        {
          "output_type": "execute_result",
          "data": {
            "text/html": [
              "<div>\n",
              "<style scoped>\n",
              "    .dataframe tbody tr th:only-of-type {\n",
              "        vertical-align: middle;\n",
              "    }\n",
              "\n",
              "    .dataframe tbody tr th {\n",
              "        vertical-align: top;\n",
              "    }\n",
              "\n",
              "    .dataframe thead th {\n",
              "        text-align: right;\n",
              "    }\n",
              "</style>\n",
              "<table border=\"1\" class=\"dataframe\">\n",
              "  <thead>\n",
              "    <tr style=\"text-align: right;\">\n",
              "      <th></th>\n",
              "      <th>avg_rating</th>\n",
              "      <th>total_reviews</th>\n",
              "    </tr>\n",
              "    <tr>\n",
              "      <th>asin</th>\n",
              "      <th></th>\n",
              "      <th></th>\n",
              "    </tr>\n",
              "  </thead>\n",
              "  <tbody>\n",
              "    <tr>\n",
              "      <th>B00BWDHCFK</th>\n",
              "      <td>4.960784</td>\n",
              "      <td>51</td>\n",
              "    </tr>\n",
              "    <tr>\n",
              "      <th>B00H5BM23K</th>\n",
              "      <td>4.953704</td>\n",
              "      <td>108</td>\n",
              "    </tr>\n",
              "    <tr>\n",
              "      <th>B004LLIL5K</th>\n",
              "      <td>4.936709</td>\n",
              "      <td>79</td>\n",
              "    </tr>\n",
              "    <tr>\n",
              "      <th>B00OV98F44</th>\n",
              "      <td>4.923077</td>\n",
              "      <td>52</td>\n",
              "    </tr>\n",
              "    <tr>\n",
              "      <th>B01DCN9GVU</th>\n",
              "      <td>4.921569</td>\n",
              "      <td>51</td>\n",
              "    </tr>\n",
              "    <tr>\n",
              "      <th>B00O3YKYPA</th>\n",
              "      <td>4.920635</td>\n",
              "      <td>63</td>\n",
              "    </tr>\n",
              "    <tr>\n",
              "      <th>B004KNWX94</th>\n",
              "      <td>4.920354</td>\n",
              "      <td>113</td>\n",
              "    </tr>\n",
              "    <tr>\n",
              "      <th>B004KNWX76</th>\n",
              "      <td>4.911504</td>\n",
              "      <td>113</td>\n",
              "    </tr>\n",
              "    <tr>\n",
              "      <th>B00H5BMHS0</th>\n",
              "      <td>4.906667</td>\n",
              "      <td>75</td>\n",
              "    </tr>\n",
              "    <tr>\n",
              "      <th>B00CT79ABW</th>\n",
              "      <td>4.905660</td>\n",
              "      <td>53</td>\n",
              "    </tr>\n",
              "  </tbody>\n",
              "</table>\n",
              "</div>"
            ],
            "text/plain": [
              "            avg_rating  total_reviews\n",
              "asin                                 \n",
              "B00BWDHCFK    4.960784             51\n",
              "B00H5BM23K    4.953704            108\n",
              "B004LLIL5K    4.936709             79\n",
              "B00OV98F44    4.923077             52\n",
              "B01DCN9GVU    4.921569             51\n",
              "B00O3YKYPA    4.920635             63\n",
              "B004KNWX94    4.920354            113\n",
              "B004KNWX76    4.911504            113\n",
              "B00H5BMHS0    4.906667             75\n",
              "B00CT79ABW    4.905660             53"
            ]
          },
          "metadata": {
            "tags": []
          },
          "execution_count": 29
        }
      ]
    },
    {
      "cell_type": "markdown",
      "metadata": {
        "id": "RYkYZmly2Hc0"
      },
      "source": [
        "Some more interesting stats\n",
        "- most active users\n",
        "- which word was used the most"
      ]
    },
    {
      "cell_type": "code",
      "metadata": {
        "colab": {
          "base_uri": "https://localhost:8080/"
        },
        "id": "I43Fybjr1zMn",
        "outputId": "dd84bb69-2a49-4644-8f1f-22a8ed2b05fb"
      },
      "source": [
        "df['reviewerID'].value_counts()"
      ],
      "execution_count": 30,
      "outputs": [
        {
          "output_type": "execute_result",
          "data": {
            "text/plain": [
              "A13H0YP0J8PM6V    39\n",
              "A1U1G73EI5IRZF    32\n",
              "A3OHGWD8LIDZ8K    26\n",
              "A1F2NKB1ZKMO2V    23\n",
              "A2RTTRR421J9KG    22\n",
              "                  ..\n",
              "ACLFURATQG490      1\n",
              "AIL3YCXP3QSPG      1\n",
              "A2YP9U24PNSVIP     1\n",
              "A2G2U7ODN6GBOU     1\n",
              "A21WNEQX5NADT1     1\n",
              "Name: reviewerID, Length: 128877, dtype: int64"
            ]
          },
          "metadata": {
            "tags": []
          },
          "execution_count": 30
        }
      ]
    },
    {
      "cell_type": "code",
      "metadata": {
        "colab": {
          "base_uri": "https://localhost:8080/"
        },
        "id": "xprf5Nho2VYs",
        "outputId": "acda43ff-93e8-4122-dc50-0d9940b0b6c3"
      },
      "source": [
        "word_count = defaultdict(int)\n",
        "common_small_words = ['the', 'in', 'is', 'a', 'i', 'we', 'it', 'that', 'they', 'my', 'to']\n",
        "for rev in dataset:\n",
        "    if 'reviewText' in rev:\n",
        "        for word in rev['reviewText'].split():\n",
        "            if word.strip().lower() not in common_small_words:\n",
        "                word_count[word.strip().lower()] += 1\n",
        "\n",
        "sorted(word_count.items(), key=lambda kv: kv[1], reverse=True)"
      ],
      "execution_count": 37,
      "outputs": [
        {
          "output_type": "execute_result",
          "data": {
            "text/plain": [
              "[('gift', 81859),\n",
              " ('and', 74282),\n",
              " ('for', 52917),\n",
              " ('was', 45238),\n",
              " ('card', 38535),\n",
              " ('this', 32515),\n",
              " ('of', 25352),\n",
              " ('great', 24302),\n",
              " ('amazon', 22002),\n",
              " ('you', 20724),\n",
              " ('on', 19650),\n",
              " ('with', 18772),\n",
              " ('as', 18608),\n",
              " ('easy', 17692),\n",
              " ('so', 16821),\n",
              " ('very', 16559),\n",
              " ('not', 14536),\n",
              " ('have', 13983),\n",
              " ('what', 13962),\n",
              " ('cards', 13184),\n",
              " ('love', 12569),\n",
              " ('can', 12493),\n",
              " ('an', 11461),\n",
              " ('get', 10530),\n",
              " ('be', 10407),\n",
              " ('way', 10231),\n",
              " ('loved', 10222),\n",
              " ('card.', 10096),\n",
              " ('perfect', 9991),\n",
              " ('are', 9748),\n",
              " ('she', 9638),\n",
              " ('but', 9281),\n",
              " ('no', 8881),\n",
              " ('use', 8861),\n",
              " ('just', 8529),\n",
              " ('when', 8451),\n",
              " ('good', 8349),\n",
              " ('buy', 8299),\n",
              " ('at', 8279),\n",
              " ('had', 8261),\n",
              " ('who', 8205),\n",
              " ('from', 8194),\n",
              " ('it.', 8035),\n",
              " ('gift.', 7948),\n",
              " ('or', 7678),\n",
              " ('like', 7532),\n",
              " ('give', 7321),\n",
              " ('would', 7320),\n",
              " ('will', 7207),\n",
              " ('he', 7136),\n",
              " ('always', 7135),\n",
              " ('out', 7060),\n",
              " ('one', 6916),\n",
              " ('nice', 6746),\n",
              " (\"it's\", 6634),\n",
              " ('her', 6379),\n",
              " ('them', 6289),\n",
              " ('all', 6217),\n",
              " ('me', 6165),\n",
              " ('send', 6105),\n",
              " ('these', 5740),\n",
              " ('if', 5700),\n",
              " ('got', 5572),\n",
              " ('christmas', 5543),\n",
              " ('time', 5535),\n",
              " ('purchase', 5456),\n",
              " ('go', 5129),\n",
              " ('received', 5128),\n",
              " ('really', 5102),\n",
              " ('birthday', 5063),\n",
              " ('do', 5029),\n",
              " ('able', 5014),\n",
              " ('your', 4928),\n",
              " ('could', 4911),\n",
              " ('recipient', 4716),\n",
              " ('more', 4555),\n",
              " ('there', 4539),\n",
              " ('has', 4503),\n",
              " ('know', 4497),\n",
              " ('cute', 4372),\n",
              " ('bought', 4355),\n",
              " (\"don't\", 4312),\n",
              " ('arrived', 4304),\n",
              " ('their', 4212),\n",
              " ('sent', 4197),\n",
              " ('were', 4119),\n",
              " ('thank', 4118),\n",
              " ('about', 4019),\n",
              " ('happy', 3956),\n",
              " ('fast', 3954),\n",
              " ('used', 3929),\n",
              " ('because', 3856),\n",
              " ('someone', 3801),\n",
              " ('worked', 3781),\n",
              " ('than', 3771),\n",
              " ('any', 3737),\n",
              " ('-', 3699),\n",
              " ('by', 3662),\n",
              " ('came', 3647),\n",
              " ('quick', 3632),\n",
              " ('much', 3602),\n",
              " ('email', 3599),\n",
              " ('order', 3549),\n",
              " ('how', 3478),\n",
              " ('want', 3472),\n",
              " ('did', 3459),\n",
              " ('box', 3411),\n",
              " ('something', 3352),\n",
              " ('last', 3343),\n",
              " ('loves', 3245),\n",
              " ('his', 3240),\n",
              " ('print', 3200),\n",
              " ('only', 3194),\n",
              " (\"can't\", 3147),\n",
              " ('gifts', 3138),\n",
              " ('up', 3125),\n",
              " ('never', 3101),\n",
              " ('family', 3101),\n",
              " (\"didn't\", 3082),\n",
              " ('card,', 3049),\n",
              " ('made', 3036),\n",
              " ('best', 3024),\n",
              " ('person', 2973),\n",
              " ('amazon.', 2953),\n",
              " ('delivered', 2872),\n",
              " ('make', 2864),\n",
              " ('gift!', 2864),\n",
              " ('it!', 2857),\n",
              " ('purchased', 2819),\n",
              " ('well', 2785),\n",
              " ('convenient', 2730),\n",
              " ('gave', 2709),\n",
              " ('day', 2697),\n",
              " ('cards.', 2689),\n",
              " ('our', 2678),\n",
              " ('little', 2665),\n",
              " ('even', 2657),\n",
              " ('idea', 2627),\n",
              " ('ordered', 2590),\n",
              " ('choose', 2571),\n",
              " ('kindle', 2540),\n",
              " ('been', 2527),\n",
              " ('right', 2514),\n",
              " ('other', 2508),\n",
              " ('wrong', 2486),\n",
              " ('giving', 2480),\n",
              " ('excellent', 2471),\n",
              " ('which', 2454),\n",
              " ('thanks', 2452),\n",
              " ('daughter', 2446),\n",
              " ('some', 2441),\n",
              " ('am', 2430),\n",
              " ('minute', 2420),\n",
              " ('friend', 2420),\n",
              " ('makes', 2407),\n",
              " ('getting', 2378),\n",
              " ('money', 2336),\n",
              " ('wanted', 2334),\n",
              " ('need', 2315),\n",
              " ('sure', 2263),\n",
              " ('after', 2222),\n",
              " ('&', 2211),\n",
              " ('also', 2189),\n",
              " ('find', 2157),\n",
              " ('exactly', 2140),\n",
              " ('using', 2136),\n",
              " ('many', 2129),\n",
              " ('its', 2128),\n",
              " ('then', 2121),\n",
              " ('son', 2107),\n",
              " ('everyone', 2054),\n",
              " ('people', 2021),\n",
              " (\"doesn't\", 2018),\n",
              " ('delivery', 2000),\n",
              " ('present', 1998),\n",
              " ('say', 1991),\n",
              " ('card!', 1986),\n",
              " ('books', 1923),\n",
              " ('shopping', 1907),\n",
              " ('own', 1906),\n",
              " ('again.', 1897),\n",
              " ('tin', 1893),\n",
              " ('being', 1892),\n",
              " (\"i'm\", 1871),\n",
              " ('super', 1862),\n",
              " ('liked', 1848),\n",
              " ('recommend', 1832),\n",
              " ('product', 1819),\n",
              " ('receive', 1817),\n",
              " ('service', 1810),\n",
              " ('since', 1802),\n",
              " ('again', 1797),\n",
              " ('time.', 1792),\n",
              " ('better', 1776),\n",
              " ('next', 1768),\n",
              " ('them.', 1749),\n",
              " ('now', 1743),\n",
              " ('shop', 1723),\n",
              " ('online', 1671),\n",
              " ('having', 1666),\n",
              " ('without', 1652),\n",
              " ('free', 1652),\n",
              " ('buying', 1644),\n",
              " ('another', 1633),\n",
              " ('anything', 1595),\n",
              " ('put', 1588),\n",
              " ('thought', 1585),\n",
              " ('said', 1583),\n",
              " ('went', 1577),\n",
              " ('gift,', 1566),\n",
              " ('new', 1565),\n",
              " ('especially', 1547),\n",
              " ('through', 1545),\n",
              " ('it,', 1540),\n",
              " ('think', 1533),\n",
              " ('store', 1524),\n",
              " ('two', 1512),\n",
              " ('fun', 1504),\n",
              " ('printed', 1491),\n",
              " ('everything', 1486),\n",
              " ('pick', 1485),\n",
              " ('friends', 1480),\n",
              " ('use.', 1477),\n",
              " ('works', 1472),\n",
              " ('shipping', 1464),\n",
              " ('amount', 1457),\n",
              " ('definitely', 1450),\n",
              " ('year', 1449),\n",
              " ('credit', 1433),\n",
              " ('work', 1426),\n",
              " ('.', 1417),\n",
              " ('going', 1411),\n",
              " (':)', 1400),\n",
              " ('hard', 1382),\n",
              " ('anyone', 1382),\n",
              " ('appreciated', 1368),\n",
              " ('needed', 1368),\n",
              " ('simple', 1367),\n",
              " ('such', 1366),\n",
              " ('him', 1363),\n",
              " ('before', 1353),\n",
              " ('option', 1352),\n",
              " ('sending', 1349),\n",
              " ('item', 1347),\n",
              " ('those', 1344),\n",
              " ('first', 1326),\n",
              " ('great!', 1319),\n",
              " ('still', 1307),\n",
              " ('awesome', 1296),\n",
              " ('easy.', 1286),\n",
              " ('see', 1278),\n",
              " ('within', 1275),\n",
              " ('pleased', 1273),\n",
              " ('enjoyed', 1270),\n",
              " ('want.', 1266),\n",
              " ('over', 1263),\n",
              " ('too', 1261),\n",
              " ('quickly', 1257),\n",
              " ('amazon!', 1246),\n",
              " ('problem', 1241),\n",
              " ('every', 1239),\n",
              " ('off', 1236),\n",
              " ('great.', 1233),\n",
              " ('gifts.', 1228),\n",
              " ('most', 1225),\n",
              " ('kids', 1222),\n",
              " ('christmas.', 1219),\n",
              " ('back', 1215),\n",
              " ('things', 1203),\n",
              " ('wish', 1203),\n",
              " ('2', 1202),\n",
              " ('does', 1199),\n",
              " ('wonderful', 1198),\n",
              " ('5', 1182),\n",
              " ('birthday.', 1176),\n",
              " ('away', 1160),\n",
              " ('should', 1154),\n",
              " ('few', 1147),\n",
              " ('special', 1140),\n",
              " ('same', 1138),\n",
              " ('customer', 1132),\n",
              " ('took', 1132),\n",
              " ('sister', 1114),\n",
              " ('account', 1111),\n",
              " ('into', 1110),\n",
              " ('lot', 1100),\n",
              " ('live', 1096),\n",
              " ('different', 1094),\n",
              " ('$50', 1082),\n",
              " ('thing', 1077),\n",
              " ('receiving', 1071),\n",
              " ('pretty', 1068),\n",
              " ('grandson', 1066),\n",
              " ('far', 1061),\n",
              " ('minutes', 1057),\n",
              " ('purchase.', 1055),\n",
              " ('via', 1054),\n",
              " ('deal', 1041),\n",
              " ('ever', 1040),\n",
              " ('why', 1039),\n",
              " ('items', 1034),\n",
              " ('message', 1032),\n",
              " ('amazon,', 1026),\n",
              " ('whatever', 1014),\n",
              " ('choice', 1013),\n",
              " ('pay', 1012),\n",
              " ('nothing', 1011),\n",
              " (\"couldn't\", 1008),\n",
              " ('me.', 1005),\n",
              " ('code', 993),\n",
              " ('problems', 992),\n",
              " ('design', 991),\n",
              " ('day.', 987),\n",
              " (\"i've\", 986),\n",
              " ('told', 985),\n",
              " ('mom', 974),\n",
              " ('!', 970),\n",
              " ('found', 965),\n",
              " ('purchasing', 960),\n",
              " ('come', 958),\n",
              " ('us', 955),\n",
              " ('card?', 954),\n",
              " ('easy,', 954),\n",
              " ('already', 948),\n",
              " ('both', 948),\n",
              " ('almost', 939),\n",
              " ('comes', 938),\n",
              " ('where', 936),\n",
              " ('given', 936),\n",
              " ('several', 935),\n",
              " ('take', 934),\n",
              " ('old', 933),\n",
              " ('granddaughter', 926),\n",
              " ('looking', 923),\n",
              " ('let', 923),\n",
              " ('box.', 920),\n",
              " ('favorite', 918),\n",
              " ('spend', 917),\n",
              " ('process', 909),\n",
              " ('look', 904),\n",
              " ('mail', 903),\n",
              " ('tried', 902),\n",
              " ('picture', 900),\n",
              " ('days', 894),\n",
              " (\"what's\", 892),\n",
              " ('well.', 892),\n",
              " ('packaging', 890),\n",
              " ('home', 880),\n",
              " ('extra', 879),\n",
              " ('expected', 878),\n",
              " ('personal', 874),\n",
              " ('big', 873),\n",
              " ('keep', 868),\n",
              " ('you.', 855),\n",
              " ('instead', 853),\n",
              " ('else', 852),\n",
              " ('add', 851),\n",
              " ('ordering', 849),\n",
              " ('place', 846),\n",
              " ('wanted.', 845),\n",
              " ('holiday', 837),\n",
              " ('each', 834),\n",
              " ('lives', 830),\n",
              " ('cards,', 829),\n",
              " ('enjoy', 822),\n",
              " ('niece', 808),\n",
              " ('actually', 804),\n",
              " ('easier', 801),\n",
              " ('long', 799),\n",
              " ('book', 799),\n",
              " ('this.', 798),\n",
              " ('read', 795),\n",
              " ('looks', 792),\n",
              " ('recipient.', 788),\n",
              " ('receiver', 780),\n",
              " ('highly', 771),\n",
              " ('balance', 770),\n",
              " ('happy.', 770),\n",
              " (\"wasn't\", 763),\n",
              " ('3', 756),\n",
              " ('amazon.com', 755),\n",
              " ('for.', 755),\n",
              " ('food', 755),\n",
              " ('number', 753),\n",
              " ('photo', 752),\n",
              " ('greeting', 741),\n",
              " (\"wouldn't\", 737),\n",
              " ('away.', 733),\n",
              " ('$25', 731),\n",
              " ('perfect!', 728),\n",
              " ('until', 726),\n",
              " ('review', 725),\n",
              " ('expected.', 717),\n",
              " ('wife', 716),\n",
              " ('fine', 714),\n",
              " ('here', 712),\n",
              " ('nephew', 708),\n",
              " ('looked', 708),\n",
              " ('idea.', 707),\n",
              " ('help', 701),\n",
              " ('too.', 698),\n",
              " ('quality', 697),\n",
              " ('easy!', 696),\n",
              " ('worth', 694),\n",
              " ('kindle.', 680),\n",
              " ('email.', 679),\n",
              " ('e-mail', 675),\n",
              " ('available', 674),\n",
              " ('store.', 672),\n",
              " ('recipients', 669),\n",
              " ('called', 668),\n",
              " ('ease', 668),\n",
              " ('convenient.', 668),\n",
              " ('prime', 667),\n",
              " ('ok', 662),\n",
              " ('cannot', 658),\n",
              " ('perfect.', 657),\n",
              " ('times', 657),\n",
              " ('wait', 657),\n",
              " ('absolutely', 656),\n",
              " ('gets', 656),\n",
              " ('husband', 655),\n",
              " ('delivery.', 648),\n",
              " ('convenience', 645),\n",
              " ('wants', 645),\n",
              " (\"that's\", 644),\n",
              " ('immediately', 642),\n",
              " ('certificate', 641),\n",
              " ('may', 639),\n",
              " ('check', 637),\n",
              " ('options', 634),\n",
              " ('redeem', 630),\n",
              " ('easiest', 629),\n",
              " ('value', 629),\n",
              " ('issues', 628),\n",
              " ('making', 628),\n",
              " ('likes', 627),\n",
              " ('out.', 623),\n",
              " ('one.', 620),\n",
              " ('brother', 619),\n",
              " ('whole', 616),\n",
              " ('cards!', 615),\n",
              " ('time,', 614),\n",
              " ('present.', 613),\n",
              " ('from.', 612),\n",
              " ('service.', 610),\n",
              " ('shipped', 607),\n",
              " ('less', 606),\n",
              " ('choices', 604),\n",
              " ('trying', 604),\n",
              " ('however,', 601),\n",
              " ('package', 599),\n",
              " ('while', 598),\n",
              " ('around', 596),\n",
              " ('couple', 595),\n",
              " (\"you're\", 592),\n",
              " ('you!', 592),\n",
              " ('arrive', 592),\n",
              " ('small', 590),\n",
              " ('fact', 590),\n",
              " ('variety', 589),\n",
              " ('cute.', 584),\n",
              " ('price', 581),\n",
              " ('enough', 580),\n",
              " ('dad', 579),\n",
              " ('cool', 579),\n",
              " ('spent', 578),\n",
              " ('done', 576),\n",
              " ('good.', 574),\n",
              " ('quickly.', 572),\n",
              " (\"won't\", 571),\n",
              " ('hit', 570),\n",
              " ('asked', 568),\n",
              " ('excelente', 568),\n",
              " ('cute!', 568),\n",
              " ('beautiful', 567),\n",
              " ('disappointed', 566),\n",
              " ('quite', 566),\n",
              " ('call', 564),\n",
              " ('thrilled', 561),\n",
              " ('timely', 559),\n",
              " ('try', 557),\n",
              " ('received.', 557),\n",
              " ('hope', 555),\n",
              " ('saved', 554),\n",
              " ('chose', 553),\n",
              " ('myself', 550),\n",
              " ('baby', 550),\n",
              " ('once', 548),\n",
              " ('selection', 547),\n",
              " ('needs', 546),\n",
              " ('work.', 545),\n",
              " (',', 543),\n",
              " ('phone', 539),\n",
              " ('handy', 539),\n",
              " (\"i'll\", 529),\n",
              " ('please', 527),\n",
              " ('account.', 527),\n",
              " ('emailed', 526),\n",
              " ('mother', 526),\n",
              " ('though', 524),\n",
              " ('rather', 524),\n",
              " ('$10', 522),\n",
              " ('part', 522),\n",
              " ('paid', 522),\n",
              " ('fast.', 522),\n",
              " ('law', 519),\n",
              " ('e-gift', 517),\n",
              " ('glad', 516),\n",
              " ('three', 512),\n",
              " ('easily', 512),\n",
              " ('paper', 511),\n",
              " ('envelope', 511),\n",
              " ('ask', 509),\n",
              " ('cash', 509),\n",
              " ('useful', 508),\n",
              " ('year.', 507),\n",
              " ('fast,', 504),\n",
              " ('write', 503),\n",
              " ('appreciated.', 503),\n",
              " ('presentation', 501),\n",
              " ('surprise', 499),\n",
              " ('tell', 499),\n",
              " ('4', 498),\n",
              " ('personalize', 497),\n",
              " ('allows', 496),\n",
              " ('great,', 496),\n",
              " ('plus', 495),\n",
              " ('bit', 495),\n",
              " ('nice.', 494),\n",
              " ('giftcard', 492),\n",
              " ('bad', 491),\n",
              " ('supposed', 491),\n",
              " ('product.', 491),\n",
              " ('feel', 490),\n",
              " ('$100', 488),\n",
              " ('save', 487),\n",
              " ('difficult', 485),\n",
              " ('might', 484),\n",
              " ('do.', 482),\n",
              " ('knew', 481),\n",
              " ('ones', 480),\n",
              " ('inside', 476),\n",
              " ('money.', 476),\n",
              " ('minutes.', 476),\n",
              " ('added', 474),\n",
              " ('ready', 474),\n",
              " ('worry', 474),\n",
              " ('all.', 467),\n",
              " ('reading', 466),\n",
              " ('occasion.', 465),\n",
              " ('size', 465),\n",
              " ('starbucks', 465),\n",
              " ('guess', 464),\n",
              " ('stocking', 463),\n",
              " ('during', 458),\n",
              " ('site', 457),\n",
              " ('case', 456),\n",
              " ('again!', 456),\n",
              " ('thanks!', 455),\n",
              " ('grandchildren', 455),\n",
              " ('extremely', 455),\n",
              " ('quick,', 455),\n",
              " ('select', 454),\n",
              " ('says', 453),\n",
              " ('family.', 451),\n",
              " ('young', 450),\n",
              " ('xmas', 449),\n",
              " ('products', 448),\n",
              " ('shipping.', 447),\n",
              " ('home.', 447),\n",
              " ('adorable', 446),\n",
              " ('stars', 444),\n",
              " ('fit', 444),\n",
              " ('lots', 443),\n",
              " ('printing', 443),\n",
              " ('give.', 442),\n",
              " ('restaurant', 441),\n",
              " ('bear', 441),\n",
              " ('gives', 439),\n",
              " ('set', 439),\n",
              " ('kind', 439),\n",
              " ('course', 437),\n",
              " (\"i'd\", 437),\n",
              " ('probably', 436),\n",
              " ('order.', 434),\n",
              " ('real', 434),\n",
              " ('purchases', 433),\n",
              " ('1', 432),\n",
              " ('online.', 431),\n",
              " ('pleased.', 430),\n",
              " ('appreciate', 430),\n",
              " ('plastic', 429),\n",
              " ('someone.', 428),\n",
              " ('experience', 426),\n",
              " ('future.', 425),\n",
              " ('children', 424),\n",
              " ('website', 424),\n",
              " ('date', 424),\n",
              " ('line', 422),\n",
              " ('fine.', 420),\n",
              " ('friend.', 419),\n",
              " ('described.', 418),\n",
              " ('like.', 417),\n",
              " ('personalized', 417),\n",
              " ('doing', 415),\n",
              " ('directly', 415),\n",
              " ('say?', 414),\n",
              " ('hours', 414),\n",
              " ('perfectly', 409),\n",
              " ('idea!', 408),\n",
              " ('upload', 408),\n",
              " ('cant', 407),\n",
              " ('future', 406),\n",
              " ('reviews', 406),\n",
              " ('wedding', 406),\n",
              " ('buy.', 406),\n",
              " ('actual', 405),\n",
              " ('note', 405),\n",
              " ('years', 405),\n",
              " ('tin.', 405),\n",
              " ('lost', 404),\n",
              " ('hand', 404),\n",
              " ('books.', 404),\n",
              " ('late', 404),\n",
              " ('seems', 404),\n",
              " ('grand', 403),\n",
              " ('amazing', 402),\n",
              " ('excited', 402),\n",
              " ('10', 402),\n",
              " (\"amazon's\", 401),\n",
              " ('charge', 400),\n",
              " ('trouble', 400),\n",
              " ('open', 399),\n",
              " ('left', 398),\n",
              " ('--', 398),\n",
              " ('cupcake', 397),\n",
              " ('movie', 395),\n",
              " ('later', 394),\n",
              " ('color', 394),\n",
              " ('second', 392),\n",
              " ('described', 392),\n",
              " ('life', 391),\n",
              " ('anyone.', 391),\n",
              " ('usually', 391),\n",
              " ('instant', 391),\n",
              " ('...', 390),\n",
              " ('stuff', 390),\n",
              " ('satisfied', 388),\n",
              " ('least', 387),\n",
              " ('egift', 387),\n",
              " ('finally', 386),\n",
              " ('local', 385),\n",
              " (\"there's\", 384),\n",
              " ('cost', 383),\n",
              " ('problems.', 383),\n",
              " ('beat', 381),\n",
              " ('return', 380),\n",
              " ('address', 380),\n",
              " ('figure', 380),\n",
              " ('her.', 380),\n",
              " ('care', 379),\n",
              " ('end', 379),\n",
              " ('surprised', 378),\n",
              " ('designs', 378),\n",
              " ('needed.', 377),\n",
              " ('maybe', 376),\n",
              " ('yet', 376),\n",
              " ('deliver', 376),\n",
              " ('member', 374),\n",
              " ('everything.', 374),\n",
              " ('send.', 372),\n",
              " ('up.', 371),\n",
              " ('included', 370),\n",
              " ('well,', 369),\n",
              " ('however', 369),\n",
              " ('mail.', 369),\n",
              " ('college', 369),\n",
              " ('issue', 368),\n",
              " ('uses', 366),\n",
              " ('job', 366),\n",
              " ('type', 365),\n",
              " ('e', 364),\n",
              " ('ability', 363),\n",
              " ('me,', 362),\n",
              " ('show', 362),\n",
              " ('leave', 361),\n",
              " ('problem.', 361),\n",
              " ('computer', 360),\n",
              " ('allow', 359),\n",
              " ('animated', 359),\n",
              " ('five', 358),\n",
              " ('dollars', 358),\n",
              " ('print.', 358),\n",
              " ('thanks.', 357),\n",
              " ('reason', 356),\n",
              " ('graduation', 351),\n",
              " ('waiting', 350),\n",
              " ('too!', 350),\n",
              " ('gifts!', 350),\n",
              " ('birthday,', 348),\n",
              " ('in.', 348),\n",
              " ('santa', 347),\n",
              " ('parents', 346),\n",
              " ('immediately.', 345),\n",
              " ('say.', 344),\n",
              " ('touch', 344),\n",
              " ('simply', 343),\n",
              " ('decided', 343),\n",
              " ('so,', 342),\n",
              " ('dollar', 341),\n",
              " ('to.', 340),\n",
              " ('facebook', 340),\n",
              " ('along', 337),\n",
              " ('boxes', 337),\n",
              " ('takes', 336),\n",
              " ('often', 336),\n",
              " ('grandkids', 336),\n",
              " ('that.', 336),\n",
              " ('nicely', 336),\n",
              " (\"isn't\", 335),\n",
              " ('purchase,', 335),\n",
              " (\"mother's\", 335),\n",
              " ('down', 335),\n",
              " ('offer', 334),\n",
              " ('deal.', 334),\n",
              " ('holder', 333),\n",
              " ('list', 333),\n",
              " ('occasion', 333),\n",
              " ('christmas,', 332),\n",
              " ('them!', 332),\n",
              " ('company', 331),\n",
              " ('others', 331),\n",
              " ('unable', 330),\n",
              " ('correct', 328),\n",
              " ('hassle', 326),\n",
              " ('use,', 326),\n",
              " ('presents', 325),\n",
              " ('friends.', 325),\n",
              " ('met', 325),\n",
              " ('either', 324),\n",
              " ('ended', 324),\n",
              " ('allowed', 323),\n",
              " ('time!', 323),\n",
              " ('download', 322),\n",
              " ('members', 321),\n",
              " (\"they're\", 320),\n",
              " ('house', 320),\n",
              " ('lovely', 320),\n",
              " ('seem', 319),\n",
              " ('birthdays', 319),\n",
              " ('wants.', 319),\n",
              " ('need.', 316),\n",
              " ('awesome!', 315),\n",
              " ('refund', 314),\n",
              " ('perfectly.', 314),\n",
              " ('promptly', 314),\n",
              " ('forgot', 313),\n",
              " ('avid', 313),\n",
              " ('tins', 313),\n",
              " ('turned', 312),\n",
              " ('rate', 312),\n",
              " ('redeemed', 311),\n",
              " ('huge', 310),\n",
              " ('choice.', 310),\n",
              " ('promised.', 310),\n",
              " ('it!!', 310),\n",
              " ('wrap', 310),\n",
              " ('!!', 309),\n",
              " ('eat', 308),\n",
              " ('totally', 307),\n",
              " ('convenient!', 306),\n",
              " ('yes', 306),\n",
              " ('physical', 305),\n",
              " ('across', 303),\n",
              " ('happy!', 301),\n",
              " ('promised', 301),\n",
              " ('day,', 301),\n",
              " ('packaging.', 301),\n",
              " ('person.', 300),\n",
              " ('packaged', 299),\n",
              " ('state', 298),\n",
              " ('continue', 298),\n",
              " ('delighted', 298),\n",
              " ('star', 297),\n",
              " ('opened', 296),\n",
              " ('giving.', 296),\n",
              " ('sometimes', 296),\n",
              " ('shops', 296),\n",
              " ('living', 296),\n",
              " ('convenient,', 296),\n",
              " ('also,', 294),\n",
              " ('fire', 294),\n",
              " ('printable', 294),\n",
              " ('etc.', 293),\n",
              " ('black', 292),\n",
              " ('go.', 292),\n",
              " ('showed', 291),\n",
              " ('full', 291),\n",
              " ('him.', 290),\n",
              " ('there.', 290),\n",
              " (':-)', 289),\n",
              " ('fits', 289),\n",
              " ('attractive', 289),\n",
              " ('say,', 287),\n",
              " ('high', 287),\n",
              " ('get.', 286),\n",
              " (\"father's\", 286),\n",
              " ('stores', 284),\n",
              " ('must', 283),\n",
              " ('believe', 282),\n",
              " ('saying', 282),\n",
              " ('advertised.', 282),\n",
              " ('you,', 281),\n",
              " (\"haven't\", 281),\n",
              " ('them,', 280),\n",
              " ('way.', 280),\n",
              " ('due', 279),\n",
              " ('box,', 279),\n",
              " ('delivery,', 278),\n",
              " ('multiple', 277),\n",
              " ('cute,', 277),\n",
              " ('electronic', 276),\n",
              " ('regular', 274),\n",
              " ('waste', 274),\n",
              " ('instantly', 273),\n",
              " ('solution', 273),\n",
              " ('gifting', 272),\n",
              " ('contact', 271),\n",
              " ('day!', 271),\n",
              " ('accept', 270),\n",
              " ('forward', 270),\n",
              " ('worked.', 270),\n",
              " ('access', 270),\n",
              " ('option.', 269),\n",
              " ('information', 269),\n",
              " ('box!', 269),\n",
              " ('shopping.', 268),\n",
              " ('much.', 268),\n",
              " ('large', 267),\n",
              " ('appropriate', 267),\n",
              " ('include', 266),\n",
              " ('use!', 266),\n",
              " ('matter', 265),\n",
              " ('ideal', 265),\n",
              " ('excelent', 265),\n",
              " ('top', 264),\n",
              " ('certainly', 264),\n",
              " ('advertised', 264),\n",
              " ('activated', 263),\n",
              " ('myself.', 263),\n",
              " ('item.', 263),\n",
              " ('spending', 262),\n",
              " ('deal!', 262),\n",
              " ('wrapped', 262),\n",
              " ('holidays', 261),\n",
              " ('discount', 261),\n",
              " ('week', 261),\n",
              " ('saw', 260),\n",
              " ('red', 259),\n",
              " ('under', 258),\n",
              " ('thinking', 258),\n",
              " ('wide', 256),\n",
              " ('shower', 256),\n",
              " ('nieces', 256),\n",
              " ('days.', 256),\n",
              " ('lightning', 256),\n",
              " ('mailed', 255),\n",
              " ('saves', 255),\n",
              " ('transaction', 254),\n",
              " ('mine', 254),\n",
              " ('remember', 254),\n",
              " ('funny', 254),\n",
              " ('amazon.com.', 253),\n",
              " ('party', 253),\n",
              " ('envelope.', 253),\n",
              " ('daughter.', 253),\n",
              " ('run', 252),\n",
              " ('offers', 251),\n",
              " ('plan', 251),\n",
              " ('change', 250),\n",
              " ('country', 250),\n",
              " ('additional', 249),\n",
              " ('name', 249),\n",
              " ('although', 249),\n",
              " ('this,', 249),\n",
              " ('helpful', 248),\n",
              " ('message.', 247),\n",
              " ('gift!!', 247),\n",
              " ('these.', 246),\n",
              " ('reader', 246),\n",
              " ('soon', 246),\n",
              " ('voucher', 246),\n",
              " ('more.', 245),\n",
              " ('presentation.', 245),\n",
              " ('books,', 245),\n",
              " ('fantastic', 245),\n",
              " ('weeks', 245),\n",
              " ('apply', 245),\n",
              " ('business', 244),\n",
              " ('container', 243),\n",
              " ('charged', 243),\n",
              " ('truly', 242),\n",
              " ('son-in-law', 242),\n",
              " ('want,', 242),\n",
              " ('seemed', 242),\n",
              " ('want!', 241),\n",
              " ('bonus', 241),\n",
              " ('town', 241),\n",
              " ('redeeming', 240),\n",
              " ('white', 240),\n",
              " ('design.', 240),\n",
              " ('intended', 239),\n",
              " ('occasions.', 239),\n",
              " ('card...', 239),\n",
              " ('payment', 239),\n",
              " ('school', 238),\n",
              " ('short', 238),\n",
              " ('miles', 238),\n",
              " ('gifts,', 237),\n",
              " ('prompt', 237),\n",
              " ('past', 237),\n",
              " ('lol', 237),\n",
              " ('balance.', 236),\n",
              " ('world', 236),\n",
              " ('order,', 235),\n",
              " ('girl', 235),\n",
              " ('again,', 235),\n",
              " ('enter', 234),\n",
              " ('user', 234),\n",
              " ('this!', 234),\n",
              " ('requested', 233),\n",
              " ('idea,', 233),\n",
              " ('safe', 232),\n",
              " ('y', 232),\n",
              " ('clear', 232),\n",
              " ('kept', 231),\n",
              " ('goes', 231),\n",
              " ('coffee', 231),\n",
              " ('done.', 231),\n",
              " ('gotten', 230),\n",
              " ('is.', 230),\n",
              " ('receive.', 230),\n",
              " ('father', 229),\n",
              " ('itself', 229),\n",
              " ('issues.', 229),\n",
              " ('everybody', 229),\n",
              " ('smile', 228),\n",
              " ('picked', 228),\n",
              " ('load', 228),\n",
              " ('quick.', 228),\n",
              " ('here.', 228),\n",
              " ('helped', 227),\n",
              " ('decide', 227),\n",
              " ('yourself', 227),\n",
              " ('de', 227),\n",
              " ('relatives', 227),\n",
              " ('fandango', 227),\n",
              " ('wrapping', 226),\n",
              " ('offered', 226),\n",
              " ('good!', 226),\n",
              " ('music', 226),\n",
              " ('close', 226),\n",
              " ('purchases.', 226),\n",
              " ('except', 225),\n",
              " ('adult', 225),\n",
              " ('snowflake', 225),\n",
              " ('and,', 224),\n",
              " ('ship', 224),\n",
              " ('greatly', 224),\n",
              " ('face', 224),\n",
              " ('confirmation', 224),\n",
              " ('efficient', 223),\n",
              " ('impressed', 223),\n",
              " ('opportunity', 223),\n",
              " ('fast!', 222),\n",
              " ('checked', 221),\n",
              " ('loaded', 221),\n",
              " ('expect', 221),\n",
              " ('delivery!', 221),\n",
              " ('whether', 220),\n",
              " ('daughter-in-law', 220),\n",
              " ('thanks,', 220),\n",
              " ('near', 219),\n",
              " ('distance', 219),\n",
              " ('!!!', 218),\n",
              " ('disappointed.', 218),\n",
              " ('used.', 218),\n",
              " ('contacted', 217),\n",
              " ('system', 217),\n",
              " ('hate', 217),\n",
              " ('immediate', 217),\n",
              " ('son.', 216),\n",
              " ('gc', 216),\n",
              " ('words', 216),\n",
              " ('$20', 216),\n",
              " ('trip', 216),\n",
              " ('chance', 215),\n",
              " ('list.', 215),\n",
              " ('quickly,', 215),\n",
              " ...]"
            ]
          },
          "metadata": {
            "tags": []
          },
          "execution_count": 37
        }
      ]
    },
    {
      "cell_type": "code",
      "metadata": {
        "id": "E7Vw44GV46fi"
      },
      "source": [
        ""
      ],
      "execution_count": null,
      "outputs": []
    }
  ]
}