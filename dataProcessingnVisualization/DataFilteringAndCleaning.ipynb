{
  "nbformat": 4,
  "nbformat_minor": 0,
  "metadata": {
    "colab": {
      "name": "DataFilteringAndCleaning.ipynb",
      "provenance": [],
      "authorship_tag": "ABX9TyMXJJuALHfgk5KQQq98Of+I",
      "include_colab_link": true
    },
    "kernelspec": {
      "name": "python3",
      "display_name": "Python 3"
    },
    "language_info": {
      "name": "python"
    }
  },
  "cells": [
    {
      "cell_type": "markdown",
      "metadata": {
        "id": "view-in-github",
        "colab_type": "text"
      },
      "source": [
        "<a href=\"https://colab.research.google.com/github/Aafaaq77/appliedDataSciencewithPython/blob/main/dataProcessingnVisualization/DataFilteringAndCleaning.ipynb\" target=\"_parent\"><img src=\"https://colab.research.google.com/assets/colab-badge.svg\" alt=\"Open In Colab\"/></a>"
      ]
    },
    {
      "cell_type": "code",
      "metadata": {
        "id": "Khxo5XOaY2m0"
      },
      "source": [
        "import gzip\n",
        "import json"
      ],
      "execution_count": 5,
      "outputs": []
    },
    {
      "cell_type": "code",
      "metadata": {
        "id": "EV71gOwCZJhc"
      },
      "source": [
        "gift_data = []\n",
        "with gzip.open('Gift_Cards.json.gz', 'rb') as fhand:\n",
        "    for line in fhand.readlines():\n",
        "        gift_data.append(line)"
      ],
      "execution_count": 6,
      "outputs": []
    },
    {
      "cell_type": "code",
      "metadata": {
        "colab": {
          "base_uri": "https://localhost:8080/"
        },
        "id": "50nioahNZkzk",
        "outputId": "83b0a4c5-3759-4013-8a50-e1f0923eaea2"
      },
      "source": [
        "gift_data[0]"
      ],
      "execution_count": 7,
      "outputs": [
        {
          "output_type": "execute_result",
          "data": {
            "text/plain": [
              "b'{\"overall\": 1.0, \"vote\": \"25\", \"verified\": false, \"reviewTime\": \"12 19, 2008\", \"reviewerID\": \"APV13CM0919JD\", \"asin\": \"B001GXRQW0\", \"style\": {\"Gift Amount:\": \" 50\"}, \"reviewerName\": \"LEH\", \"reviewText\": \"Amazon,\\\\nI am shopping for Amazon.com gift cards for Christmas gifts and am really so disappointed that out of five choices there isn\\'t one that says \\\\\"Merry Christmas\\\\\" or mentions Christmas at all!  I am sure I am not alone in wanting a card that reflects the actual \\\\\"holiday\\\\\" we are celebrating. On principle, I cannot send a Amazon gift card this Christmas.  What\\'s up with all the Political Correctness?  Bad marketing decision.\\\\nLynn\", \"summary\": \"Merry Christmas.\", \"unixReviewTime\": 1229644800}\\n'"
            ]
          },
          "metadata": {
            "tags": []
          },
          "execution_count": 7
        }
      ]
    },
    {
      "cell_type": "code",
      "metadata": {
        "id": "Mdc_6RDHZmsG"
      },
      "source": [
        "gift_data = []\n",
        "with gzip.open('Gift_Cards.json.gz', 'rb') as fhand:\n",
        "    for line in fhand.readlines():\n",
        "        gift_data.append(json.loads(line))"
      ],
      "execution_count": 8,
      "outputs": []
    },
    {
      "cell_type": "code",
      "metadata": {
        "colab": {
          "base_uri": "https://localhost:8080/"
        },
        "id": "ygh_c8rkZzFg",
        "outputId": "a8c3ed42-37d8-4c69-8d9c-7a4a5f5dca32"
      },
      "source": [
        "gift_data[0]"
      ],
      "execution_count": 9,
      "outputs": [
        {
          "output_type": "execute_result",
          "data": {
            "text/plain": [
              "{'asin': 'B001GXRQW0',\n",
              " 'overall': 1.0,\n",
              " 'reviewText': 'Amazon,\\nI am shopping for Amazon.com gift cards for Christmas gifts and am really so disappointed that out of five choices there isn\\'t one that says \"Merry Christmas\" or mentions Christmas at all!  I am sure I am not alone in wanting a card that reflects the actual \"holiday\" we are celebrating. On principle, I cannot send a Amazon gift card this Christmas.  What\\'s up with all the Political Correctness?  Bad marketing decision.\\nLynn',\n",
              " 'reviewTime': '12 19, 2008',\n",
              " 'reviewerID': 'APV13CM0919JD',\n",
              " 'reviewerName': 'LEH',\n",
              " 'style': {'Gift Amount:': ' 50'},\n",
              " 'summary': 'Merry Christmas.',\n",
              " 'unixReviewTime': 1229644800,\n",
              " 'verified': False,\n",
              " 'vote': '25'}"
            ]
          },
          "metadata": {
            "tags": []
          },
          "execution_count": 9
        }
      ]
    },
    {
      "cell_type": "markdown",
      "metadata": {
        "id": "9HePO2z2aEsb"
      },
      "source": [
        "### Filtering by date\n",
        "for the moment, filtering just based on the reviews year.\n",
        "year is the last 4 characters of 'reviewTime'"
      ]
    },
    {
      "cell_type": "code",
      "metadata": {
        "colab": {
          "base_uri": "https://localhost:8080/",
          "height": 35
        },
        "id": "R5jze8a3Z1L7",
        "outputId": "0a7e11af-7591-44fe-ba4c-742bc18deb51"
      },
      "source": [
        "gift_data[0]['reviewTime'][-4:]"
      ],
      "execution_count": 10,
      "outputs": [
        {
          "output_type": "execute_result",
          "data": {
            "application/vnd.google.colaboratory.intrinsic+json": {
              "type": "string"
            },
            "text/plain": [
              "'2008'"
            ]
          },
          "metadata": {
            "tags": []
          },
          "execution_count": 10
        }
      ]
    },
    {
      "cell_type": "code",
      "metadata": {
        "colab": {
          "base_uri": "https://localhost:8080/"
        },
        "id": "8Skl4rnualYF",
        "outputId": "f3ca3ee1-e2d9-4b3a-e18e-a9dc56bb34de"
      },
      "source": [
        "int(gift_data[0]['reviewTime'][-4:])"
      ],
      "execution_count": 11,
      "outputs": [
        {
          "output_type": "execute_result",
          "data": {
            "text/plain": [
              "2008"
            ]
          },
          "metadata": {
            "tags": []
          },
          "execution_count": 11
        }
      ]
    },
    {
      "cell_type": "markdown",
      "metadata": {
        "id": "RCB-cK_TxsqH"
      },
      "source": [
        "Reviews after 2008"
      ]
    },
    {
      "cell_type": "code",
      "metadata": {
        "colab": {
          "base_uri": "https://localhost:8080/"
        },
        "id": "zRbjWG9jxSkA",
        "outputId": "aa8589a7-a614-43fa-c8e0-e642a2fea92d"
      },
      "source": [
        "rev_after_2008 = []\n",
        "for rev in gift_data:\n",
        "    if 'reviewTime' in rev:\n",
        "        if int(rev['reviewTime'][-4:]) > 2008:\n",
        "            rev_after_2008.append(rev)\n",
        "\n",
        "rev_after_2008[0]"
      ],
      "execution_count": 12,
      "outputs": [
        {
          "output_type": "execute_result",
          "data": {
            "text/plain": [
              "{'asin': 'B001GXRQW0',\n",
              " 'overall': 5.0,\n",
              " 'reviewText': 'GREAT when they are giving to you as a gift',\n",
              " 'reviewTime': '11 24, 2016',\n",
              " 'reviewerID': 'A36UACIX4M8IVQ',\n",
              " 'reviewerName': 'joe',\n",
              " 'style': {'Gift Amount:': ' 50'},\n",
              " 'summary': 'Five Stars',\n",
              " 'unixReviewTime': 1479945600,\n",
              " 'verified': True}"
            ]
          },
          "metadata": {
            "tags": []
          },
          "execution_count": 12
        }
      ]
    },
    {
      "cell_type": "code",
      "metadata": {
        "colab": {
          "base_uri": "https://localhost:8080/"
        },
        "id": "TRYAbuA6yc0K",
        "outputId": "45fb3fb3-46e0-45af-e9a6-6b32e70c26ec"
      },
      "source": [
        "rev_after_2008[3]"
      ],
      "execution_count": 13,
      "outputs": [
        {
          "output_type": "execute_result",
          "data": {
            "text/plain": [
              "{'asin': 'B001GXRQW0',\n",
              " 'overall': 5.0,\n",
              " 'reviewText': 'Gift cards are always helpful!',\n",
              " 'reviewTime': '09 11, 2016',\n",
              " 'reviewerID': 'A2UZS69NXZ1WW7',\n",
              " 'reviewerName': 'mom2girls',\n",
              " 'style': {'Gift Amount:': ' 25'},\n",
              " 'summary': 'Five Stars',\n",
              " 'unixReviewTime': 1473552000,\n",
              " 'verified': True}"
            ]
          },
          "metadata": {
            "tags": []
          },
          "execution_count": 13
        }
      ]
    },
    {
      "cell_type": "code",
      "metadata": {
        "colab": {
          "base_uri": "https://localhost:8080/"
        },
        "id": "OlPizMcdyw2t",
        "outputId": "1a049746-0c18-444a-9f42-c965d06f1e36"
      },
      "source": [
        "prod_revs = []\n",
        "with gzip.open('Industrial_and_Scientific_5.json.gz') as fhand:\n",
        "    for line in fhand:\n",
        "        prod_revs.append(json.loads(line))\n",
        "\n",
        "prod_revs[0]"
      ],
      "execution_count": 17,
      "outputs": [
        {
          "output_type": "execute_result",
          "data": {
            "text/plain": [
              "{'asin': 'B0000223SI',\n",
              " 'overall': 5.0,\n",
              " 'reviewText': \"This worked really well for what I used it for. So for my purposes it is getting full marks. This is an all around great, durable, and afforable sandpaper.\\n\\nPros:\\n-Grit cuts really fast and evenly. No random deep scratches like I have seen in some cheaper paper\\n-Didn't even have a hint of clogging up.\\n-The adhesive is just what I needed. No permanent, but wasn't going anywhere.\\n\\nCons:\\n-None\",\n",
              " 'reviewTime': '11 27, 2017',\n",
              " 'reviewerID': 'A1JB7HFWHRYHT7',\n",
              " 'reviewerName': 'Alex W.',\n",
              " 'style': {'Size:': ' 1-(Pack)'},\n",
              " 'summary': \"Couldn't have been happier with it's performance\",\n",
              " 'unixReviewTime': 1511740800,\n",
              " 'verified': True}"
            ]
          },
          "metadata": {
            "tags": []
          },
          "execution_count": 17
        }
      ]
    },
    {
      "cell_type": "code",
      "metadata": {
        "id": "2LhFD40Q1NH3"
      },
      "source": [
        "from collections import defaultdict"
      ],
      "execution_count": 18,
      "outputs": []
    },
    {
      "cell_type": "markdown",
      "metadata": {
        "id": "GJZYwxvU1061"
      },
      "source": [
        "FIltering by user activity.\n",
        "Removing users with less than three reviews\n",
        "\n"
      ]
    },
    {
      "cell_type": "code",
      "metadata": {
        "id": "KYG5QCqu1yEu"
      },
      "source": [
        "n_reviews = defaultdict(int)\n",
        "for rev in prod_revs:\n",
        "    n_reviews[rev['asin']] += 1\n"
      ],
      "execution_count": 21,
      "outputs": []
    },
    {
      "cell_type": "code",
      "metadata": {
        "colab": {
          "base_uri": "https://localhost:8080/"
        },
        "id": "hOFkrlxy2OKC",
        "outputId": "0d6bdbc0-a670-4916-bd43-aa8e029273c5"
      },
      "source": [
        "filtered_revs = [rev for rev in prod_revs if n_reviews[rev['asin']] > 2]\n",
        "len(filtered_revs)"
      ],
      "execution_count": 22,
      "outputs": [
        {
          "output_type": "execute_result",
          "data": {
            "text/plain": [
              "76921"
            ]
          },
          "metadata": {
            "tags": []
          },
          "execution_count": 22
        }
      ]
    },
    {
      "cell_type": "markdown",
      "metadata": {
        "id": "dZzT8KRp3Egl"
      },
      "source": [
        "Now filtering reviews based on number of words in a review"
      ]
    },
    {
      "cell_type": "code",
      "metadata": {
        "colab": {
          "base_uri": "https://localhost:8080/"
        },
        "id": "KGnFgLV_2zdM",
        "outputId": "0c3cd504-1d0f-4225-bda9-5cebcbd0ea61"
      },
      "source": [
        "'teststring'.split()"
      ],
      "execution_count": 23,
      "outputs": [
        {
          "output_type": "execute_result",
          "data": {
            "text/plain": [
              "['teststring']"
            ]
          },
          "metadata": {
            "tags": []
          },
          "execution_count": 23
        }
      ]
    },
    {
      "cell_type": "code",
      "metadata": {
        "colab": {
          "base_uri": "https://localhost:8080/"
        },
        "id": "edbMTiZ73Mei",
        "outputId": "e861eecb-a602-4a29-9365-a1ca97585ec5"
      },
      "source": [
        "long_revs = []\n",
        "for rev in prod_revs:\n",
        "    if 'reviewText' in rev:\n",
        "        if len(rev['reviewText'].split()) >= 10:\n",
        "            long_revs.append(rev)\n",
        "long_revs[:2]"
      ],
      "execution_count": 26,
      "outputs": [
        {
          "output_type": "execute_result",
          "data": {
            "text/plain": [
              "[{'asin': 'B0000223SI',\n",
              "  'overall': 5.0,\n",
              "  'reviewText': \"This worked really well for what I used it for. So for my purposes it is getting full marks. This is an all around great, durable, and afforable sandpaper.\\n\\nPros:\\n-Grit cuts really fast and evenly. No random deep scratches like I have seen in some cheaper paper\\n-Didn't even have a hint of clogging up.\\n-The adhesive is just what I needed. No permanent, but wasn't going anywhere.\\n\\nCons:\\n-None\",\n",
              "  'reviewTime': '11 27, 2017',\n",
              "  'reviewerID': 'A1JB7HFWHRYHT7',\n",
              "  'reviewerName': 'Alex W.',\n",
              "  'style': {'Size:': ' 1-(Pack)'},\n",
              "  'summary': \"Couldn't have been happier with it's performance\",\n",
              "  'unixReviewTime': 1511740800,\n",
              "  'verified': True},\n",
              " {'asin': 'B0000223SI',\n",
              "  'overall': 5.0,\n",
              "  'reviewText': 'Worked great for my lapping bench.  I would like it if the adhesive were backed with waxed paper for storage and keeping the grit out, but all but the first 6 inches or so still functioned when it arrived.  I used rubber cement to remedy that.',\n",
              "  'reviewTime': '10 27, 2017',\n",
              "  'reviewerID': 'A3IT9B33NWYQSL',\n",
              "  'reviewerName': 'A. C.',\n",
              "  'style': {'Size:': ' 1-(Pack)'},\n",
              "  'summary': 'Handy!',\n",
              "  'unixReviewTime': 1509062400,\n",
              "  'verified': False}]"
            ]
          },
          "metadata": {
            "tags": []
          },
          "execution_count": 26
        }
      ]
    },
    {
      "cell_type": "code",
      "metadata": {
        "id": "moX4Fwsx3iqd"
      },
      "source": [
        ""
      ],
      "execution_count": null,
      "outputs": []
    }
  ]
}