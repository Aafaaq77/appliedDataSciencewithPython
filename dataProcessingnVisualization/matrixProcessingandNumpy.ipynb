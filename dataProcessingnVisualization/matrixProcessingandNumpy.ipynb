{
 "cells": [
  {
   "cell_type": "code",
   "execution_count": 1,
   "metadata": {},
   "outputs": [],
   "source": [
    "import numpy as np\r\n",
    "import json\r\n",
    "import tarfile"
   ]
  },
  {
   "cell_type": "markdown",
   "metadata": {},
   "source": [
    "Loading Dataset"
   ]
  },
  {
   "cell_type": "code",
   "execution_count": 2,
   "metadata": {},
   "outputs": [
    {
     "data": {
      "text/plain": "[<TarInfo 'Dataset_User_Agreement.pdf' at 0x1e19465c118>,\n <TarInfo 'yelp_academic_dataset_business.json' at 0x1e19465c2b8>,\n <TarInfo 'yelp_academic_dataset_checkin.json' at 0x1e19465c1e8>,\n <TarInfo 'yelp_academic_dataset_review.json' at 0x1e19465c458>,\n <TarInfo 'yelp_academic_dataset_tip.json' at 0x1e19465c528>,\n <TarInfo 'yelp_academic_dataset_user.json' at 0x1e19465c5f8>]"
     },
     "execution_count": 2,
     "metadata": {},
     "output_type": "execute_result"
    }
   ],
   "source": [
    "tar = tarfile.open('yelp_dataset.tar')\r\n",
    "members = tar.getmembers()\r\n",
    "\r\n",
    "members"
   ]
  },
  {
   "cell_type": "code",
   "execution_count": 3,
   "metadata": {},
   "outputs": [],
   "source": [
    "review_file = tar.extractfile('yelp_academic_dataset_review.json')"
   ]
  },
  {
   "cell_type": "code",
   "execution_count": 4,
   "metadata": {},
   "outputs": [
    {
     "data": {
      "text/plain": "<ExFileObject name='yelp_dataset.tar'>"
     },
     "execution_count": 4,
     "metadata": {},
     "output_type": "execute_result"
    }
   ],
   "source": [
    "review_file"
   ]
  },
  {
   "cell_type": "code",
   "execution_count": 5,
   "metadata": {},
   "outputs": [
    {
     "data": {
      "text/plain": "[{'review_id': 'lWC-xP3rd6obsecCYsGZRg',\n  'user_id': 'ak0TdVmGKo4pwqdJSTLwWw',\n  'business_id': 'buF9druCkbuXLX526sGELQ',\n  'stars': 4.0,\n  'useful': 3,\n  'funny': 1,\n  'cool': 1,\n  'text': \"Apparently Prides Osteria had a rough summer as evidenced by the almost empty dining room at 6:30 on a Friday night. However new blood in the kitchen seems to have revitalized the food from other customers recent visits. Waitstaff was warm but unobtrusive. By 8 pm or so when we left the bar was full and the dining room was much more lively than it had been. Perhaps Beverly residents prefer a later seating. \\n\\nAfter reading the mixed reviews of late I was a little tentative over our choice but luckily there was nothing to worry about in the food department. We started with the fried dough, burrata and prosciutto which were all lovely. Then although they don't offer half portions of pasta we each ordered the entree size and split them. We chose the tagliatelle bolognese and a four cheese filled pasta in a creamy sauce with bacon, asparagus and grana frita. Both were very good. We split a secondi which was the special Berkshire pork secreto, which was described as a pork skirt steak with garlic potato purée and romanesco broccoli (incorrectly described as a romanesco sauce). Some tables received bread before the meal but for some reason we did not. \\n\\nManagement also seems capable for when the tenants in the apartment above began playing basketball she intervened and also comped the tables a dessert. We ordered the apple dumpling with gelato and it was also quite tasty. Portions are not huge which I particularly like because I prefer to order courses. If you are someone who orders just a meal you may leave hungry depending on you appetite. Dining room was mostly younger crowd while the bar was definitely the over 40 set. Would recommend that the naysayers return to see the improvement although I personally don't know the former glory to be able to compare. Easy access to downtown Salem without the crowds on this month of October.\",\n  'date': '2014-10-11 03:34:02'},\n {'review_id': '8bFej1QE5LXp4O05qjGqXA',\n  'user_id': 'YoVfDbnISlW0f7abNQACIg',\n  'business_id': 'RA4V8pr014UyUbDvI-LW2A',\n  'stars': 4.0,\n  'useful': 1,\n  'funny': 0,\n  'cool': 0,\n  'text': 'This store is pretty good. Not as great as Walmart (or my preferred, Milford Target), but closer and in a easier area to get to.  \\nThe store itself is pretty clean and organized, the staff are friendly (most of the time), and BEST of all is the Self Checkout this store has! \\nGreat clearance sections throughout, and great prices on everything in the store, in general (they pricematch too!). \\nChristian, Debbie, Jen and Hanna are all very friendly, helpful, sensitive to all customer needs. Definitely one of the better Target locations in the area, and they do a GREAT job assisting customers for being such a busy store. Located directly in the Framingham Mall on Cochituate Rd / Route 30. 4 stars.',\n  'date': '2015-07-03 20:38:25'},\n {'review_id': 'NDhkzczKjLshODbqDoNLSg',\n  'user_id': 'eC5evKn1TWDyHCyQAwguUw',\n  'business_id': '_sS2LBIGNT5NQb6PD1Vtjw',\n  'stars': 5.0,\n  'useful': 0,\n  'funny': 0,\n  'cool': 0,\n  'text': \"I called WVM on the recommendation of a couple of friends who had used them in the past and thought they did a nice job. I'm a fan now, too.\\n\\nEvan and Cody showed up right on time for my move this past weekend. They were friendly and energetic, working quickly but carefully to get all my things moved out of the old place and into the new one in less than 2.5 hours. All of my (heavy) furniture arrived in perfect condition, and they took extra care not to scratch the wood floors in the process.\\n\\nI hope not to move again anytime soon, but next time I do, I'll be calling WVM.\",\n  'date': '2013-05-28 20:38:06'}]"
     },
     "execution_count": 5,
     "metadata": {},
     "output_type": "execute_result"
    }
   ],
   "source": [
    "test_data = []\r\n",
    "for _ in range(3):\r\n",
    "    test_data.append(json.loads(review_file.readline()))\r\n",
    "\r\n",
    "test_data"
   ]
  },
  {
   "cell_type": "markdown",
   "metadata": {},
   "source": [
    "Finally extracting data from a tarfile"
   ]
  },
  {
   "cell_type": "code",
   "execution_count": 6,
   "metadata": {},
   "outputs": [],
   "source": [
    "review_data = []\r\n",
    "for _ in range(50000):\r\n",
    "    review_data.append(json.loads(review_file.readline()))"
   ]
  },
  {
   "cell_type": "code",
   "execution_count": 8,
   "metadata": {},
   "outputs": [
    {
     "data": {
      "text/plain": "{'review_id': 'T5fAqjjFooT4V0OeZyuk1w',\n 'user_id': 'SFQ1jcnGguO0LYWnbbftAA',\n 'business_id': '0AzLzHfOJgL7ROwhdww2ew',\n 'stars': 2.0,\n 'useful': 1,\n 'funny': 1,\n 'cool': 1,\n 'text': \"I've stayed at many Marriott and Renaissance Marriott's and this was a huge disappointment! The front desk and atrium is nice..there is a starbucks on site which is nice.\\n\\nThe rooms are run down and old.  There is a flat screen but that is to be expected of a Renaissance.\\n\\nWe got this hotel via Priceline at a rate of $75/night...good deal for the price but this is not a true Renaissance.\",\n 'date': '2010-01-08 02:29:15'}"
     },
     "execution_count": 8,
     "metadata": {},
     "output_type": "execute_result"
    }
   ],
   "source": [
    "review_data[0]"
   ]
  },
  {
   "cell_type": "markdown",
   "metadata": {},
   "source": [
    "#### Extracting basic statistics from data\r\n",
    "- First extracting some simple numerical features"
   ]
  },
  {
   "cell_type": "code",
   "execution_count": 9,
   "metadata": {},
   "outputs": [],
   "source": [
    "ratings = []\r\n",
    "cool = []\r\n",
    "funny = []\r\n",
    "useful = []\r\n",
    "\r\n",
    "for rev in review_data:\r\n",
    "    ratings.append(rev['stars'])\r\n",
    "    cool.append(rev['cool'])\r\n",
    "    funny.append(rev['funny'])\r\n",
    "    useful.append(rev['useful'])\r\n"
   ]
  },
  {
   "cell_type": "markdown",
   "metadata": {},
   "source": [
    "We can convert them into numpy arrays"
   ]
  },
  {
   "cell_type": "code",
   "execution_count": 10,
   "metadata": {},
   "outputs": [],
   "source": [
    "ratings = np.array(ratings)\r\n",
    "cool = np.array(cool)\r\n",
    "funny = np.array(funny)\r\n",
    "useful = np.array(useful)"
   ]
  },
  {
   "cell_type": "markdown",
   "metadata": {},
   "source": [
    "Now it very simple to do simple statistical operations"
   ]
  },
  {
   "cell_type": "code",
   "execution_count": 11,
   "metadata": {},
   "outputs": [
    {
     "data": {
      "text/plain": "3.77398"
     },
     "execution_count": 11,
     "metadata": {},
     "output_type": "execute_result"
    }
   ],
   "source": [
    "np.mean(ratings)"
   ]
  },
  {
   "cell_type": "code",
   "execution_count": 12,
   "metadata": {},
   "outputs": [
    {
     "name": "stdout",
     "output_type": "stream",
     "text": [
      "1.4665266415999996\n"
     ]
    },
    {
     "data": {
      "text/plain": "1.3772635766620709"
     },
     "execution_count": 12,
     "metadata": {},
     "output_type": "execute_result"
    }
   ],
   "source": [
    "print(np.var(funny))\r\n",
    "np.std(ratings)"
   ]
  },
  {
   "cell_type": "code",
   "execution_count": 13,
   "metadata": {},
   "outputs": [
    {
     "data": {
      "text/plain": "array([[1, 0, 0, ..., 0, 0, 1],\n       [1, 0, 0, ..., 0, 0, 1]])"
     },
     "execution_count": 13,
     "metadata": {},
     "output_type": "execute_result"
    }
   ],
   "source": [
    "# nd-array\r\n",
    "np.stack([cool, funny, useful])[0:2]"
   ]
  },
  {
   "cell_type": "code",
   "execution_count": 14,
   "metadata": {},
   "outputs": [],
   "source": [
    "features = np.stack([cool, funny, useful]).T"
   ]
  },
  {
   "cell_type": "code",
   "execution_count": 15,
   "metadata": {},
   "outputs": [
    {
     "data": {
      "text/plain": "array([[1, 1, 1],\n       [0, 0, 0]])"
     },
     "execution_count": 15,
     "metadata": {},
     "output_type": "execute_result"
    }
   ],
   "source": [
    "features[:2]"
   ]
  },
  {
   "cell_type": "code",
   "execution_count": 16,
   "metadata": {},
   "outputs": [],
   "source": [
    "# Converting it to a matrix\r\n",
    "\r\n",
    "features = np.matrix(features)"
   ]
  },
  {
   "cell_type": "code",
   "execution_count": 17,
   "metadata": {},
   "outputs": [
    {
     "data": {
      "text/plain": "matrix([[ 79192,  54652, 101747],\n        [ 54652,  79048,  87193],\n        [101747,  87193, 267647]])"
     },
     "execution_count": 17,
     "metadata": {},
     "output_type": "execute_result"
    }
   ],
   "source": [
    "features.T * features"
   ]
  },
  {
   "cell_type": "code",
   "execution_count": 18,
   "metadata": {},
   "outputs": [
    {
     "data": {
      "text/plain": "matrix([[ 3.18670807e-05, -1.35322779e-05, -7.70589602e-06],\n        [-1.35322779e-05,  2.54926690e-05, -3.16055706e-06],\n        [-7.70589602e-06, -3.16055706e-06,  7.69532352e-06]])"
     },
     "execution_count": 18,
     "metadata": {},
     "output_type": "execute_result"
    }
   ],
   "source": [
    "np.linalg.inv(features.T * features)"
   ]
  },
  {
   "cell_type": "code",
   "execution_count": 19,
   "metadata": {},
   "outputs": [
    {
     "data": {
      "text/plain": "array([[1., 0., 0.],\n       [0., 1., 0.],\n       [0., 0., 1.]])"
     },
     "execution_count": 19,
     "metadata": {},
     "output_type": "execute_result"
    }
   ],
   "source": [
    "np.eye(3)"
   ]
  },
  {
   "cell_type": "markdown",
   "metadata": {},
   "source": [
    "Basic Visualization and exploratory data analysis"
   ]
  },
  {
   "cell_type": "code",
   "execution_count": null,
   "metadata": {},
   "outputs": [],
   "source": []
  }
 ],
 "metadata": {
  "kernelspec": {
   "display_name": "Python 3.7.9 64-bit ('dsfs': conda)",
   "name": "python379jvsc74a57bd0b7f36c561da0c24088f050d93d85247571ac93a12016078f85a8fb98b7f180e6"
  },
  "language_info": {
   "codemirror_mode": {
    "name": "ipython",
    "version": 3
   },
   "file_extension": ".py",
   "mimetype": "text/x-python",
   "name": "python",
   "nbconvert_exporter": "python",
   "pygments_lexer": "ipython3",
   "version": "3.7.9"
  },
  "orig_nbformat": 2
 },
 "nbformat": 4,
 "nbformat_minor": 2
}