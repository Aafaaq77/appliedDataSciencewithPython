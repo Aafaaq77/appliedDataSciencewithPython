{
  "nbformat": 4,
  "nbformat_minor": 0,
  "metadata": {
    "colab": {
      "name": "P4DataScienceAssigment4.ipynb",
      "provenance": [],
      "collapsed_sections": [],
      "toc_visible": true,
      "authorship_tag": "ABX9TyOe4ml20CQcdIpeUHgYbDaP",
      "include_colab_link": true
    },
    "kernelspec": {
      "name": "python3",
      "display_name": "Python 3"
    },
    "language_info": {
      "name": "python"
    }
  },
  "cells": [
    {
      "cell_type": "markdown",
      "metadata": {
        "id": "view-in-github",
        "colab_type": "text"
      },
      "source": [
        "<a href=\"https://colab.research.google.com/github/Aafaaq77/appliedDataSciencewithPython/blob/main/P4DataScienceAssigment4.ipynb\" target=\"_parent\"><img src=\"https://colab.research.google.com/assets/colab-badge.svg\" alt=\"Open In Colab\"/></a>"
      ]
    },
    {
      "cell_type": "code",
      "metadata": {
        "id": "n2cn2KNIIt1e"
      },
      "source": [
        "import pandas as pd\n",
        "import numpy as np\n",
        "import seaborn as sns\n",
        "import scipy.stats as stats\n",
        "import re\n",
        "\n",
        "%matplotlib inline"
      ],
      "execution_count": 8,
      "outputs": []
    },
    {
      "cell_type": "markdown",
      "metadata": {
        "id": "9a0qXySNO8Z_"
      },
      "source": [
        "# Cities and their Sports teams in major US leagues"
      ]
    },
    {
      "cell_type": "code",
      "metadata": {
        "colab": {
          "base_uri": "https://localhost:8080/",
          "height": 377
        },
        "id": "Ob74MasBPnmz",
        "outputId": "6342bf84-b4ac-423d-a735-746995a00333"
      },
      "source": [
        "url = 'https://en.wikipedia.org/wiki/List_of_American_and_Canadian_cities_by_number_of_major_professional_sports_franchises'\n",
        "cities = pd.read_html(url)[1]\n",
        "cities.head()"
      ],
      "execution_count": 2,
      "outputs": [
        {
          "output_type": "execute_result",
          "data": {
            "text/html": [
              "<div>\n",
              "<style scoped>\n",
              "    .dataframe tbody tr th:only-of-type {\n",
              "        vertical-align: middle;\n",
              "    }\n",
              "\n",
              "    .dataframe tbody tr th {\n",
              "        vertical-align: top;\n",
              "    }\n",
              "\n",
              "    .dataframe thead th {\n",
              "        text-align: right;\n",
              "    }\n",
              "</style>\n",
              "<table border=\"1\" class=\"dataframe\">\n",
              "  <thead>\n",
              "    <tr style=\"text-align: right;\">\n",
              "      <th></th>\n",
              "      <th>Metropolitan area</th>\n",
              "      <th>Country</th>\n",
              "      <th>Pop.rank</th>\n",
              "      <th>Population (2016 est.)[8]</th>\n",
              "      <th>B4</th>\n",
              "      <th>NFL</th>\n",
              "      <th>MLB</th>\n",
              "      <th>NBA</th>\n",
              "      <th>NHL</th>\n",
              "      <th>B6</th>\n",
              "      <th>MLS</th>\n",
              "      <th>CFL</th>\n",
              "    </tr>\n",
              "  </thead>\n",
              "  <tbody>\n",
              "    <tr>\n",
              "      <th>0</th>\n",
              "      <td>New York City</td>\n",
              "      <td>United States</td>\n",
              "      <td>1</td>\n",
              "      <td>20153634</td>\n",
              "      <td>9</td>\n",
              "      <td>GiantsJets[note 1]</td>\n",
              "      <td>YankeesMets[note 2]</td>\n",
              "      <td>KnicksNets</td>\n",
              "      <td>RangersIslandersDevils[note 3]</td>\n",
              "      <td>11</td>\n",
              "      <td>Red BullsNew York City FC</td>\n",
              "      <td>—</td>\n",
              "    </tr>\n",
              "    <tr>\n",
              "      <th>1</th>\n",
              "      <td>Los Angeles</td>\n",
              "      <td>United States</td>\n",
              "      <td>2</td>\n",
              "      <td>13310447</td>\n",
              "      <td>8</td>\n",
              "      <td>RamsChargers[note 4]</td>\n",
              "      <td>DodgersAngels</td>\n",
              "      <td>LakersClippers</td>\n",
              "      <td>KingsDucks</td>\n",
              "      <td>10</td>\n",
              "      <td>GalaxyLos Angeles FC[note 5]</td>\n",
              "      <td>—</td>\n",
              "    </tr>\n",
              "    <tr>\n",
              "      <th>2</th>\n",
              "      <td>Chicago</td>\n",
              "      <td>United States</td>\n",
              "      <td>3</td>\n",
              "      <td>9512999</td>\n",
              "      <td>5</td>\n",
              "      <td>Bears[note 6]</td>\n",
              "      <td>CubsWhite Sox</td>\n",
              "      <td>Bulls[note 7]</td>\n",
              "      <td>Blackhawks</td>\n",
              "      <td>6</td>\n",
              "      <td>Fire</td>\n",
              "      <td>—</td>\n",
              "    </tr>\n",
              "    <tr>\n",
              "      <th>3</th>\n",
              "      <td>San Francisco Bay Area</td>\n",
              "      <td>United States</td>\n",
              "      <td>6</td>\n",
              "      <td>6657982</td>\n",
              "      <td>5</td>\n",
              "      <td>49ers[note 8]</td>\n",
              "      <td>GiantsAthletics</td>\n",
              "      <td>Warriors</td>\n",
              "      <td>Sharks[note 9]</td>\n",
              "      <td>6</td>\n",
              "      <td>Earthquakes</td>\n",
              "      <td>—</td>\n",
              "    </tr>\n",
              "    <tr>\n",
              "      <th>4</th>\n",
              "      <td>Dallas–Fort Worth</td>\n",
              "      <td>United States</td>\n",
              "      <td>4</td>\n",
              "      <td>7233323</td>\n",
              "      <td>4</td>\n",
              "      <td>Cowboys</td>\n",
              "      <td>Rangers</td>\n",
              "      <td>Mavericks</td>\n",
              "      <td>Stars</td>\n",
              "      <td>5</td>\n",
              "      <td>FC Dallas</td>\n",
              "      <td>—</td>\n",
              "    </tr>\n",
              "  </tbody>\n",
              "</table>\n",
              "</div>"
            ],
            "text/plain": [
              "        Metropolitan area        Country  ...                           MLS CFL\n",
              "0           New York City  United States  ...     Red BullsNew York City FC   —\n",
              "1             Los Angeles  United States  ...  GalaxyLos Angeles FC[note 5]   —\n",
              "2                 Chicago  United States  ...                          Fire   —\n",
              "3  San Francisco Bay Area  United States  ...                   Earthquakes   —\n",
              "4       Dallas–Fort Worth  United States  ...                     FC Dallas   —\n",
              "\n",
              "[5 rows x 12 columns]"
            ]
          },
          "metadata": {
            "tags": []
          },
          "execution_count": 2
        }
      ]
    },
    {
      "cell_type": "code",
      "metadata": {
        "colab": {
          "base_uri": "https://localhost:8080/",
          "height": 204
        },
        "id": "NOy8bh-7I_WD",
        "outputId": "f3115a1a-114d-4e2c-ab6f-9ac84098d464"
      },
      "source": [
        "clean_data_cell = lambda cell: cell[:cell.index('[')] if '[' in cell else cell\n",
        "cities = pd.read_html(url, converters={'NFL':clean_data_cell,\n",
        "                                       'MLB': clean_data_cell,\n",
        "                                       'NBA': clean_data_cell,\n",
        "                                       'NHL': clean_data_cell})[1]\n",
        "cities = cities.iloc[:-1,[0,3,5,6,7,8]] # selecting city, nfl, nhl, nba and mlb columns\n",
        "cities.head()"
      ],
      "execution_count": 3,
      "outputs": [
        {
          "output_type": "execute_result",
          "data": {
            "text/html": [
              "<div>\n",
              "<style scoped>\n",
              "    .dataframe tbody tr th:only-of-type {\n",
              "        vertical-align: middle;\n",
              "    }\n",
              "\n",
              "    .dataframe tbody tr th {\n",
              "        vertical-align: top;\n",
              "    }\n",
              "\n",
              "    .dataframe thead th {\n",
              "        text-align: right;\n",
              "    }\n",
              "</style>\n",
              "<table border=\"1\" class=\"dataframe\">\n",
              "  <thead>\n",
              "    <tr style=\"text-align: right;\">\n",
              "      <th></th>\n",
              "      <th>Metropolitan area</th>\n",
              "      <th>Population (2016 est.)[8]</th>\n",
              "      <th>NFL</th>\n",
              "      <th>MLB</th>\n",
              "      <th>NBA</th>\n",
              "      <th>NHL</th>\n",
              "    </tr>\n",
              "  </thead>\n",
              "  <tbody>\n",
              "    <tr>\n",
              "      <th>0</th>\n",
              "      <td>New York City</td>\n",
              "      <td>20153634</td>\n",
              "      <td>GiantsJets</td>\n",
              "      <td>YankeesMets</td>\n",
              "      <td>KnicksNets</td>\n",
              "      <td>RangersIslandersDevils</td>\n",
              "    </tr>\n",
              "    <tr>\n",
              "      <th>1</th>\n",
              "      <td>Los Angeles</td>\n",
              "      <td>13310447</td>\n",
              "      <td>RamsChargers</td>\n",
              "      <td>DodgersAngels</td>\n",
              "      <td>LakersClippers</td>\n",
              "      <td>KingsDucks</td>\n",
              "    </tr>\n",
              "    <tr>\n",
              "      <th>2</th>\n",
              "      <td>Chicago</td>\n",
              "      <td>9512999</td>\n",
              "      <td>Bears</td>\n",
              "      <td>CubsWhite Sox</td>\n",
              "      <td>Bulls</td>\n",
              "      <td>Blackhawks</td>\n",
              "    </tr>\n",
              "    <tr>\n",
              "      <th>3</th>\n",
              "      <td>San Francisco Bay Area</td>\n",
              "      <td>6657982</td>\n",
              "      <td>49ers</td>\n",
              "      <td>GiantsAthletics</td>\n",
              "      <td>Warriors</td>\n",
              "      <td>Sharks</td>\n",
              "    </tr>\n",
              "    <tr>\n",
              "      <th>4</th>\n",
              "      <td>Dallas–Fort Worth</td>\n",
              "      <td>7233323</td>\n",
              "      <td>Cowboys</td>\n",
              "      <td>Rangers</td>\n",
              "      <td>Mavericks</td>\n",
              "      <td>Stars</td>\n",
              "    </tr>\n",
              "  </tbody>\n",
              "</table>\n",
              "</div>"
            ],
            "text/plain": [
              "        Metropolitan area  ...                     NHL\n",
              "0           New York City  ...  RangersIslandersDevils\n",
              "1             Los Angeles  ...              KingsDucks\n",
              "2                 Chicago  ...              Blackhawks\n",
              "3  San Francisco Bay Area  ...                  Sharks\n",
              "4       Dallas–Fort Worth  ...                   Stars\n",
              "\n",
              "[5 rows x 6 columns]"
            ]
          },
          "metadata": {
            "tags": []
          },
          "execution_count": 3
        }
      ]
    },
    {
      "cell_type": "code",
      "metadata": {
        "colab": {
          "base_uri": "https://localhost:8080/"
        },
        "id": "6jcWq8WwSsLY",
        "outputId": "39c14641-7958-49cb-ac83-ec89d003b3a4"
      },
      "source": [
        "cities.dtypes"
      ],
      "execution_count": 4,
      "outputs": [
        {
          "output_type": "execute_result",
          "data": {
            "text/plain": [
              "Metropolitan area            object\n",
              "Population (2016 est.)[8]    object\n",
              "NFL                          object\n",
              "MLB                          object\n",
              "NBA                          object\n",
              "NHL                          object\n",
              "dtype: object"
            ]
          },
          "metadata": {
            "tags": []
          },
          "execution_count": 4
        }
      ]
    },
    {
      "cell_type": "code",
      "metadata": {
        "colab": {
          "base_uri": "https://localhost:8080/"
        },
        "id": "-i1QgQjZaWI7",
        "outputId": "f2234857-0529-4e70-937e-59cbdefc38b5"
      },
      "source": [
        "cities.columns "
      ],
      "execution_count": 5,
      "outputs": [
        {
          "output_type": "execute_result",
          "data": {
            "text/plain": [
              "Index(['Metropolitan area', 'Population (2016 est.)[8]', 'NFL', 'MLB', 'NBA',\n",
              "       'NHL'],\n",
              "      dtype='object')"
            ]
          },
          "metadata": {
            "tags": []
          },
          "execution_count": 5
        }
      ]
    },
    {
      "cell_type": "code",
      "metadata": {
        "id": "2JJi0OtKaXNi"
      },
      "source": [
        "# changing column names\n",
        "cities.columns = ['Metropolitan area', 'Population', 'NFL', 'MLB', 'NBA','NHL']"
      ],
      "execution_count": 6,
      "outputs": []
    },
    {
      "cell_type": "code",
      "metadata": {
        "id": "mjls8cjeJH4o"
      },
      "source": [
        "cities['Population'] = cities['Population'].astype(int)"
      ],
      "execution_count": 7,
      "outputs": []
    },
    {
      "cell_type": "markdown",
      "metadata": {
        "id": "CeaT9cbPTgru"
      },
      "source": [
        "# Reading in the NHL dataset"
      ]
    },
    {
      "cell_type": "code",
      "metadata": {
        "colab": {
          "base_uri": "https://localhost:8080/",
          "height": 419
        },
        "id": "N6mYQvrjQi7w",
        "outputId": "39da708c-efca-48cb-a9b2-02d338af8027"
      },
      "source": [
        "nhl_df = pd.read_csv('nhl.csv', skiprows=[1])\n",
        "nhl_df"
      ],
      "execution_count": 13,
      "outputs": [
        {
          "output_type": "execute_result",
          "data": {
            "text/html": [
              "<div>\n",
              "<style scoped>\n",
              "    .dataframe tbody tr th:only-of-type {\n",
              "        vertical-align: middle;\n",
              "    }\n",
              "\n",
              "    .dataframe tbody tr th {\n",
              "        vertical-align: top;\n",
              "    }\n",
              "\n",
              "    .dataframe thead th {\n",
              "        text-align: right;\n",
              "    }\n",
              "</style>\n",
              "<table border=\"1\" class=\"dataframe\">\n",
              "  <thead>\n",
              "    <tr style=\"text-align: right;\">\n",
              "      <th></th>\n",
              "      <th>team</th>\n",
              "      <th>GP</th>\n",
              "      <th>W</th>\n",
              "      <th>L</th>\n",
              "      <th>OL</th>\n",
              "      <th>PTS</th>\n",
              "      <th>PTS%</th>\n",
              "      <th>GF</th>\n",
              "      <th>GA</th>\n",
              "      <th>SRS</th>\n",
              "      <th>SOS</th>\n",
              "      <th>RPt%</th>\n",
              "      <th>ROW</th>\n",
              "      <th>year</th>\n",
              "      <th>League</th>\n",
              "    </tr>\n",
              "  </thead>\n",
              "  <tbody>\n",
              "    <tr>\n",
              "      <th>0</th>\n",
              "      <td>Tampa Bay Lightning*</td>\n",
              "      <td>82</td>\n",
              "      <td>54</td>\n",
              "      <td>23</td>\n",
              "      <td>5</td>\n",
              "      <td>113</td>\n",
              "      <td>.689</td>\n",
              "      <td>296</td>\n",
              "      <td>236</td>\n",
              "      <td>0.66</td>\n",
              "      <td>-0.07</td>\n",
              "      <td>.634</td>\n",
              "      <td>48</td>\n",
              "      <td>2018</td>\n",
              "      <td>NHL</td>\n",
              "    </tr>\n",
              "    <tr>\n",
              "      <th>1</th>\n",
              "      <td>Boston Bruins*</td>\n",
              "      <td>82</td>\n",
              "      <td>50</td>\n",
              "      <td>20</td>\n",
              "      <td>12</td>\n",
              "      <td>112</td>\n",
              "      <td>.683</td>\n",
              "      <td>270</td>\n",
              "      <td>214</td>\n",
              "      <td>0.62</td>\n",
              "      <td>-0.07</td>\n",
              "      <td>.610</td>\n",
              "      <td>47</td>\n",
              "      <td>2018</td>\n",
              "      <td>NHL</td>\n",
              "    </tr>\n",
              "    <tr>\n",
              "      <th>2</th>\n",
              "      <td>Toronto Maple Leafs*</td>\n",
              "      <td>82</td>\n",
              "      <td>49</td>\n",
              "      <td>26</td>\n",
              "      <td>7</td>\n",
              "      <td>105</td>\n",
              "      <td>.640</td>\n",
              "      <td>277</td>\n",
              "      <td>232</td>\n",
              "      <td>0.49</td>\n",
              "      <td>-0.06</td>\n",
              "      <td>.567</td>\n",
              "      <td>42</td>\n",
              "      <td>2018</td>\n",
              "      <td>NHL</td>\n",
              "    </tr>\n",
              "    <tr>\n",
              "      <th>3</th>\n",
              "      <td>Florida Panthers</td>\n",
              "      <td>82</td>\n",
              "      <td>44</td>\n",
              "      <td>30</td>\n",
              "      <td>8</td>\n",
              "      <td>96</td>\n",
              "      <td>.585</td>\n",
              "      <td>248</td>\n",
              "      <td>246</td>\n",
              "      <td>-0.01</td>\n",
              "      <td>-0.04</td>\n",
              "      <td>.537</td>\n",
              "      <td>41</td>\n",
              "      <td>2018</td>\n",
              "      <td>NHL</td>\n",
              "    </tr>\n",
              "    <tr>\n",
              "      <th>4</th>\n",
              "      <td>Detroit Red Wings</td>\n",
              "      <td>82</td>\n",
              "      <td>30</td>\n",
              "      <td>39</td>\n",
              "      <td>13</td>\n",
              "      <td>73</td>\n",
              "      <td>.445</td>\n",
              "      <td>217</td>\n",
              "      <td>255</td>\n",
              "      <td>-0.48</td>\n",
              "      <td>-0.01</td>\n",
              "      <td>.341</td>\n",
              "      <td>25</td>\n",
              "      <td>2018</td>\n",
              "      <td>NHL</td>\n",
              "    </tr>\n",
              "    <tr>\n",
              "      <th>...</th>\n",
              "      <td>...</td>\n",
              "      <td>...</td>\n",
              "      <td>...</td>\n",
              "      <td>...</td>\n",
              "      <td>...</td>\n",
              "      <td>...</td>\n",
              "      <td>...</td>\n",
              "      <td>...</td>\n",
              "      <td>...</td>\n",
              "      <td>...</td>\n",
              "      <td>...</td>\n",
              "      <td>...</td>\n",
              "      <td>...</td>\n",
              "      <td>...</td>\n",
              "      <td>...</td>\n",
              "    </tr>\n",
              "    <tr>\n",
              "      <th>165</th>\n",
              "      <td>Los Angeles Kings*</td>\n",
              "      <td>82</td>\n",
              "      <td>46</td>\n",
              "      <td>28</td>\n",
              "      <td>8</td>\n",
              "      <td>100</td>\n",
              "      <td>.610</td>\n",
              "      <td>206</td>\n",
              "      <td>174</td>\n",
              "      <td>0.40</td>\n",
              "      <td>0.01</td>\n",
              "      <td>.549</td>\n",
              "      <td>38</td>\n",
              "      <td>2014</td>\n",
              "      <td>NHL</td>\n",
              "    </tr>\n",
              "    <tr>\n",
              "      <th>166</th>\n",
              "      <td>Phoenix Coyotes</td>\n",
              "      <td>82</td>\n",
              "      <td>37</td>\n",
              "      <td>30</td>\n",
              "      <td>15</td>\n",
              "      <td>89</td>\n",
              "      <td>.543</td>\n",
              "      <td>216</td>\n",
              "      <td>231</td>\n",
              "      <td>-0.16</td>\n",
              "      <td>0.03</td>\n",
              "      <td>.457</td>\n",
              "      <td>31</td>\n",
              "      <td>2014</td>\n",
              "      <td>NHL</td>\n",
              "    </tr>\n",
              "    <tr>\n",
              "      <th>167</th>\n",
              "      <td>Vancouver Canucks</td>\n",
              "      <td>82</td>\n",
              "      <td>36</td>\n",
              "      <td>35</td>\n",
              "      <td>11</td>\n",
              "      <td>83</td>\n",
              "      <td>.506</td>\n",
              "      <td>196</td>\n",
              "      <td>223</td>\n",
              "      <td>-0.30</td>\n",
              "      <td>0.03</td>\n",
              "      <td>.451</td>\n",
              "      <td>31</td>\n",
              "      <td>2014</td>\n",
              "      <td>NHL</td>\n",
              "    </tr>\n",
              "    <tr>\n",
              "      <th>168</th>\n",
              "      <td>Calgary Flames</td>\n",
              "      <td>82</td>\n",
              "      <td>35</td>\n",
              "      <td>40</td>\n",
              "      <td>7</td>\n",
              "      <td>77</td>\n",
              "      <td>.470</td>\n",
              "      <td>209</td>\n",
              "      <td>241</td>\n",
              "      <td>-0.35</td>\n",
              "      <td>0.04</td>\n",
              "      <td>.402</td>\n",
              "      <td>28</td>\n",
              "      <td>2014</td>\n",
              "      <td>NHL</td>\n",
              "    </tr>\n",
              "    <tr>\n",
              "      <th>169</th>\n",
              "      <td>Edmonton Oilers</td>\n",
              "      <td>82</td>\n",
              "      <td>29</td>\n",
              "      <td>44</td>\n",
              "      <td>9</td>\n",
              "      <td>67</td>\n",
              "      <td>.409</td>\n",
              "      <td>203</td>\n",
              "      <td>270</td>\n",
              "      <td>-0.75</td>\n",
              "      <td>0.07</td>\n",
              "      <td>.348</td>\n",
              "      <td>25</td>\n",
              "      <td>2014</td>\n",
              "      <td>NHL</td>\n",
              "    </tr>\n",
              "  </tbody>\n",
              "</table>\n",
              "<p>170 rows × 15 columns</p>\n",
              "</div>"
            ],
            "text/plain": [
              "                     team  GP   W   L  OL  ...    SOS  RPt% ROW  year League\n",
              "0    Tampa Bay Lightning*  82  54  23   5  ...  -0.07  .634  48  2018    NHL\n",
              "1          Boston Bruins*  82  50  20  12  ...  -0.07  .610  47  2018    NHL\n",
              "2    Toronto Maple Leafs*  82  49  26   7  ...  -0.06  .567  42  2018    NHL\n",
              "3        Florida Panthers  82  44  30   8  ...  -0.04  .537  41  2018    NHL\n",
              "4       Detroit Red Wings  82  30  39  13  ...  -0.01  .341  25  2018    NHL\n",
              "..                    ...  ..  ..  ..  ..  ...    ...   ...  ..   ...    ...\n",
              "165    Los Angeles Kings*  82  46  28   8  ...   0.01  .549  38  2014    NHL\n",
              "166       Phoenix Coyotes  82  37  30  15  ...   0.03  .457  31  2014    NHL\n",
              "167     Vancouver Canucks  82  36  35  11  ...   0.03  .451  31  2014    NHL\n",
              "168        Calgary Flames  82  35  40   7  ...   0.04  .402  28  2014    NHL\n",
              "169       Edmonton Oilers  82  29  44   9  ...   0.07  .348  25  2014    NHL\n",
              "\n",
              "[170 rows x 15 columns]"
            ]
          },
          "metadata": {
            "tags": []
          },
          "execution_count": 13
        }
      ]
    },
    {
      "cell_type": "markdown",
      "metadata": {
        "id": "rkR3NPLaUKGo"
      },
      "source": [
        "# Cleaning the team column and dropping the columns which are not needed and then selecting only the data from 2018"
      ]
    },
    {
      "cell_type": "code",
      "metadata": {
        "colab": {
          "base_uri": "https://localhost:8080/",
          "height": 359
        },
        "id": "Z1spXsjCUKNc",
        "outputId": "31ee2c25-e970-45f2-e311-e07b0e452c75"
      },
      "source": [
        "cols = ['team', 'GP', 'W', 'L', 'year']\n",
        "nhl_df = nhl_df[cols]\n",
        "nhl_df.loc[:,'team'] = nhl_df['team'].str.strip('*')\n",
        "mask = nhl_df['team'].str.endswith('Division')\n",
        "nhl_df.drop(nhl_df[mask].index, inplace=True)\n",
        "nhl_df = nhl_df[nhl_df['year'] == 2018]\n",
        "nhl_df.head(10)"
      ],
      "execution_count": 16,
      "outputs": [
        {
          "output_type": "execute_result",
          "data": {
            "text/html": [
              "<div>\n",
              "<style scoped>\n",
              "    .dataframe tbody tr th:only-of-type {\n",
              "        vertical-align: middle;\n",
              "    }\n",
              "\n",
              "    .dataframe tbody tr th {\n",
              "        vertical-align: top;\n",
              "    }\n",
              "\n",
              "    .dataframe thead th {\n",
              "        text-align: right;\n",
              "    }\n",
              "</style>\n",
              "<table border=\"1\" class=\"dataframe\">\n",
              "  <thead>\n",
              "    <tr style=\"text-align: right;\">\n",
              "      <th></th>\n",
              "      <th>team</th>\n",
              "      <th>GP</th>\n",
              "      <th>W</th>\n",
              "      <th>L</th>\n",
              "      <th>year</th>\n",
              "    </tr>\n",
              "  </thead>\n",
              "  <tbody>\n",
              "    <tr>\n",
              "      <th>0</th>\n",
              "      <td>Tampa Bay Lightning</td>\n",
              "      <td>82</td>\n",
              "      <td>54</td>\n",
              "      <td>23</td>\n",
              "      <td>2018</td>\n",
              "    </tr>\n",
              "    <tr>\n",
              "      <th>1</th>\n",
              "      <td>Boston Bruins</td>\n",
              "      <td>82</td>\n",
              "      <td>50</td>\n",
              "      <td>20</td>\n",
              "      <td>2018</td>\n",
              "    </tr>\n",
              "    <tr>\n",
              "      <th>2</th>\n",
              "      <td>Toronto Maple Leafs</td>\n",
              "      <td>82</td>\n",
              "      <td>49</td>\n",
              "      <td>26</td>\n",
              "      <td>2018</td>\n",
              "    </tr>\n",
              "    <tr>\n",
              "      <th>3</th>\n",
              "      <td>Florida Panthers</td>\n",
              "      <td>82</td>\n",
              "      <td>44</td>\n",
              "      <td>30</td>\n",
              "      <td>2018</td>\n",
              "    </tr>\n",
              "    <tr>\n",
              "      <th>4</th>\n",
              "      <td>Detroit Red Wings</td>\n",
              "      <td>82</td>\n",
              "      <td>30</td>\n",
              "      <td>39</td>\n",
              "      <td>2018</td>\n",
              "    </tr>\n",
              "    <tr>\n",
              "      <th>5</th>\n",
              "      <td>Montreal Canadiens</td>\n",
              "      <td>82</td>\n",
              "      <td>29</td>\n",
              "      <td>40</td>\n",
              "      <td>2018</td>\n",
              "    </tr>\n",
              "    <tr>\n",
              "      <th>6</th>\n",
              "      <td>Ottawa Senators</td>\n",
              "      <td>82</td>\n",
              "      <td>28</td>\n",
              "      <td>43</td>\n",
              "      <td>2018</td>\n",
              "    </tr>\n",
              "    <tr>\n",
              "      <th>7</th>\n",
              "      <td>Buffalo Sabres</td>\n",
              "      <td>82</td>\n",
              "      <td>25</td>\n",
              "      <td>45</td>\n",
              "      <td>2018</td>\n",
              "    </tr>\n",
              "    <tr>\n",
              "      <th>9</th>\n",
              "      <td>Washington Capitals</td>\n",
              "      <td>82</td>\n",
              "      <td>49</td>\n",
              "      <td>26</td>\n",
              "      <td>2018</td>\n",
              "    </tr>\n",
              "    <tr>\n",
              "      <th>10</th>\n",
              "      <td>Pittsburgh Penguins</td>\n",
              "      <td>82</td>\n",
              "      <td>47</td>\n",
              "      <td>29</td>\n",
              "      <td>2018</td>\n",
              "    </tr>\n",
              "  </tbody>\n",
              "</table>\n",
              "</div>"
            ],
            "text/plain": [
              "                   team  GP   W   L  year\n",
              "0   Tampa Bay Lightning  82  54  23  2018\n",
              "1         Boston Bruins  82  50  20  2018\n",
              "2   Toronto Maple Leafs  82  49  26  2018\n",
              "3      Florida Panthers  82  44  30  2018\n",
              "4     Detroit Red Wings  82  30  39  2018\n",
              "5    Montreal Canadiens  82  29  40  2018\n",
              "6       Ottawa Senators  82  28  43  2018\n",
              "7        Buffalo Sabres  82  25  45  2018\n",
              "9   Washington Capitals  82  49  26  2018\n",
              "10  Pittsburgh Penguins  82  47  29  2018"
            ]
          },
          "metadata": {
            "tags": []
          },
          "execution_count": 16
        }
      ]
    },
    {
      "cell_type": "markdown",
      "metadata": {
        "id": "gkYXqxgiV73E"
      },
      "source": [
        "### How should we get the name of sports teams from cities dataframe and then match the city name to every team in the nhl dataframe?"
      ]
    },
    {
      "cell_type": "code",
      "metadata": {
        "colab": {
          "base_uri": "https://localhost:8080/"
        },
        "id": "s7WZ39FvpAX7",
        "outputId": "8b31c299-d9a8-42e3-c436-a4d56a669f0d"
      },
      "source": [
        "nhl_df.loc[:5, 'team'].str.split()"
      ],
      "execution_count": 17,
      "outputs": [
        {
          "output_type": "execute_result",
          "data": {
            "text/plain": [
              "0    [Tampa, Bay, Lightning]\n",
              "1           [Boston, Bruins]\n",
              "2    [Toronto, Maple, Leafs]\n",
              "3        [Florida, Panthers]\n",
              "4      [Detroit, Red, Wings]\n",
              "5      [Montreal, Canadiens]\n",
              "Name: team, dtype: object"
            ]
          },
          "metadata": {
            "tags": []
          },
          "execution_count": 17
        }
      ]
    },
    {
      "cell_type": "code",
      "metadata": {
        "colab": {
          "base_uri": "https://localhost:8080/"
        },
        "id": "2Bk_S5_aWaPA",
        "outputId": "7425abca-5f07-4007-ad6e-17da5da3597d"
      },
      "source": [
        "cities.loc[:5, 'NHL']\n",
        "# three teams in the first row!!!"
      ],
      "execution_count": 19,
      "outputs": [
        {
          "output_type": "execute_result",
          "data": {
            "text/plain": [
              "0    RangersIslandersDevils\n",
              "1                KingsDucks\n",
              "2                Blackhawks\n",
              "3                    Sharks\n",
              "4                     Stars\n",
              "5                  Capitals\n",
              "Name: NHL, dtype: object"
            ]
          },
          "metadata": {
            "tags": []
          },
          "execution_count": 19
        }
      ]
    },
    {
      "cell_type": "code",
      "metadata": {
        "id": "zTXJtoTAHIyA"
      },
      "source": [
        "region_mapping = {}\n",
        "def map_city(row):\n",
        "    teams = row['NHL']\n",
        "    if isinstance(teams, str):\n",
        "        res = re.findall(r'([A-Z]{1,1}[a-z]+)', teams)\n",
        "        if res:\n",
        "            for team in res:\n",
        "                region_mapping[team] = row['Metropolitan area']\n",
        "    return row"
      ],
      "execution_count": 22,
      "outputs": []
    },
    {
      "cell_type": "code",
      "metadata": {
        "id": "710FBIAiXaIf"
      },
      "source": [
        "cities.apply(map_city, axis='columns');"
      ],
      "execution_count": 23,
      "outputs": []
    },
    {
      "cell_type": "code",
      "metadata": {
        "colab": {
          "base_uri": "https://localhost:8080/"
        },
        "id": "QCdmG4zrbP0H",
        "outputId": "5235b9da-8eba-42fb-abbe-43fc568a854c"
      },
      "source": [
        "region_mapping"
      ],
      "execution_count": 24,
      "outputs": [
        {
          "output_type": "execute_result",
          "data": {
            "text/plain": [
              "{'Avalanche': 'Denver',\n",
              " 'Blackhawks': 'Chicago',\n",
              " 'Blue': 'Columbus',\n",
              " 'Blues': 'St. Louis',\n",
              " 'Bruins': 'Boston',\n",
              " 'Canadiens': 'Montreal',\n",
              " 'Canucks': 'Vancouver',\n",
              " 'Capitals': 'Washington, D.C.',\n",
              " 'Coyotes': 'Phoenix',\n",
              " 'Devils': 'New York City',\n",
              " 'Ducks': 'Los Angeles',\n",
              " 'Flames': 'Calgary',\n",
              " 'Flyers': 'Philadelphia',\n",
              " 'Golden': 'Las Vegas',\n",
              " 'Hurricanes': 'Raleigh',\n",
              " 'Islanders': 'New York City',\n",
              " 'Jackets': 'Columbus',\n",
              " 'Jets': 'Winnipeg',\n",
              " 'Kings': 'Los Angeles',\n",
              " 'Knights': 'Las Vegas',\n",
              " 'Kraken': 'Seattle',\n",
              " 'Leafs': 'Toronto',\n",
              " 'Lightning': 'Tampa Bay Area',\n",
              " 'Maple': 'Toronto',\n",
              " 'Oilers': 'Edmonton',\n",
              " 'Panthers': 'Miami–Fort Lauderdale',\n",
              " 'Penguins': 'Pittsburgh',\n",
              " 'Predators': 'Nashville',\n",
              " 'Rangers': 'New York City',\n",
              " 'Red': 'Detroit',\n",
              " 'Sabres': 'Buffalo',\n",
              " 'Senators': 'Ottawa',\n",
              " 'Sharks': 'San Francisco Bay Area',\n",
              " 'Stars': 'Dallas–Fort Worth',\n",
              " 'Wild': 'Minneapolis–Saint Paul',\n",
              " 'Wings': 'Detroit'}"
            ]
          },
          "metadata": {
            "tags": []
          },
          "execution_count": 24
        }
      ]
    },
    {
      "cell_type": "code",
      "metadata": {
        "id": "h7EqoHp9R1W3",
        "colab": {
          "base_uri": "https://localhost:8080/"
        },
        "outputId": "3d8c9c4e-94bf-460b-ca5b-02d99124fa13"
      },
      "source": [
        "team = 'RangersIslandersDevils'\n",
        "re.findall(r'([A-Z]{1,1}[a-z]+)', team)"
      ],
      "execution_count": 28,
      "outputs": [
        {
          "output_type": "execute_result",
          "data": {
            "text/plain": [
              "['Rangers', 'Islanders', 'Devils']"
            ]
          },
          "metadata": {
            "tags": []
          },
          "execution_count": 28
        }
      ]
    },
    {
      "cell_type": "code",
      "metadata": {
        "id": "IbDhXO4Gc_SF"
      },
      "source": [
        "def create_region(row):\n",
        "    names = row['team'].split()\n",
        "    if names[-1] in region_mapping:\n",
        "        return region_mapping[names[-1]]"
      ],
      "execution_count": 29,
      "outputs": []
    },
    {
      "cell_type": "markdown",
      "metadata": {
        "id": "igOKYnceX-Kb"
      },
      "source": [
        "### City name for every team in the league"
      ]
    },
    {
      "cell_type": "code",
      "metadata": {
        "id": "xZrm5X3ebYw5"
      },
      "source": [
        "nhl_df['Metropolitan area'] = nhl_df.apply(create_region, axis=1)"
      ],
      "execution_count": 30,
      "outputs": []
    },
    {
      "cell_type": "code",
      "metadata": {
        "colab": {
          "base_uri": "https://localhost:8080/",
          "height": 204
        },
        "id": "DAVwBEDCd00m",
        "outputId": "860090c6-0956-4223-d0f0-c2770433c09f"
      },
      "source": [
        "nhl_df.head()"
      ],
      "execution_count": 31,
      "outputs": [
        {
          "output_type": "execute_result",
          "data": {
            "text/html": [
              "<div>\n",
              "<style scoped>\n",
              "    .dataframe tbody tr th:only-of-type {\n",
              "        vertical-align: middle;\n",
              "    }\n",
              "\n",
              "    .dataframe tbody tr th {\n",
              "        vertical-align: top;\n",
              "    }\n",
              "\n",
              "    .dataframe thead th {\n",
              "        text-align: right;\n",
              "    }\n",
              "</style>\n",
              "<table border=\"1\" class=\"dataframe\">\n",
              "  <thead>\n",
              "    <tr style=\"text-align: right;\">\n",
              "      <th></th>\n",
              "      <th>team</th>\n",
              "      <th>GP</th>\n",
              "      <th>W</th>\n",
              "      <th>L</th>\n",
              "      <th>year</th>\n",
              "      <th>Metropolitan area</th>\n",
              "    </tr>\n",
              "  </thead>\n",
              "  <tbody>\n",
              "    <tr>\n",
              "      <th>0</th>\n",
              "      <td>Tampa Bay Lightning</td>\n",
              "      <td>82</td>\n",
              "      <td>54</td>\n",
              "      <td>23</td>\n",
              "      <td>2018</td>\n",
              "      <td>Tampa Bay Area</td>\n",
              "    </tr>\n",
              "    <tr>\n",
              "      <th>1</th>\n",
              "      <td>Boston Bruins</td>\n",
              "      <td>82</td>\n",
              "      <td>50</td>\n",
              "      <td>20</td>\n",
              "      <td>2018</td>\n",
              "      <td>Boston</td>\n",
              "    </tr>\n",
              "    <tr>\n",
              "      <th>2</th>\n",
              "      <td>Toronto Maple Leafs</td>\n",
              "      <td>82</td>\n",
              "      <td>49</td>\n",
              "      <td>26</td>\n",
              "      <td>2018</td>\n",
              "      <td>Toronto</td>\n",
              "    </tr>\n",
              "    <tr>\n",
              "      <th>3</th>\n",
              "      <td>Florida Panthers</td>\n",
              "      <td>82</td>\n",
              "      <td>44</td>\n",
              "      <td>30</td>\n",
              "      <td>2018</td>\n",
              "      <td>Miami–Fort Lauderdale</td>\n",
              "    </tr>\n",
              "    <tr>\n",
              "      <th>4</th>\n",
              "      <td>Detroit Red Wings</td>\n",
              "      <td>82</td>\n",
              "      <td>30</td>\n",
              "      <td>39</td>\n",
              "      <td>2018</td>\n",
              "      <td>Detroit</td>\n",
              "    </tr>\n",
              "  </tbody>\n",
              "</table>\n",
              "</div>"
            ],
            "text/plain": [
              "                  team  GP   W   L  year      Metropolitan area\n",
              "0  Tampa Bay Lightning  82  54  23  2018         Tampa Bay Area\n",
              "1        Boston Bruins  82  50  20  2018                 Boston\n",
              "2  Toronto Maple Leafs  82  49  26  2018                Toronto\n",
              "3     Florida Panthers  82  44  30  2018  Miami–Fort Lauderdale\n",
              "4    Detroit Red Wings  82  30  39  2018                Detroit"
            ]
          },
          "metadata": {
            "tags": []
          },
          "execution_count": 31
        }
      ]
    },
    {
      "cell_type": "code",
      "metadata": {
        "colab": {
          "base_uri": "https://localhost:8080/"
        },
        "id": "OOqOIMwDYOPS",
        "outputId": "08fb72c2-2780-4412-ddb8-5304d41eb580"
      },
      "source": [
        "nhl_df.dtypes"
      ],
      "execution_count": 32,
      "outputs": [
        {
          "output_type": "execute_result",
          "data": {
            "text/plain": [
              "team                 object\n",
              "GP                   object\n",
              "W                    object\n",
              "L                    object\n",
              "year                  int64\n",
              "Metropolitan area    object\n",
              "dtype: object"
            ]
          },
          "metadata": {
            "tags": []
          },
          "execution_count": 32
        }
      ]
    },
    {
      "cell_type": "code",
      "metadata": {
        "id": "BMqIvqiUYVCx"
      },
      "source": [
        "# data types of wins and losses columns needed to be changed\n",
        "nhl_df = nhl_df.astype({'W': int, 'L': int})"
      ],
      "execution_count": 35,
      "outputs": []
    },
    {
      "cell_type": "markdown",
      "metadata": {
        "id": "_a7k8NyiYv4u"
      },
      "source": [
        "### Now merging the two dataframes"
      ]
    },
    {
      "cell_type": "code",
      "metadata": {
        "id": "L6YL43J0eABl",
        "colab": {
          "base_uri": "https://localhost:8080/",
          "height": 204
        },
        "outputId": "30634159-be02-4ef6-e4c5-7a6f8b5ab965"
      },
      "source": [
        "combined_df = pd.merge(nhl_df, cities, how='inner', on='Metropolitan area')\n",
        "combined_df.head()"
      ],
      "execution_count": 36,
      "outputs": [
        {
          "output_type": "execute_result",
          "data": {
            "text/html": [
              "<div>\n",
              "<style scoped>\n",
              "    .dataframe tbody tr th:only-of-type {\n",
              "        vertical-align: middle;\n",
              "    }\n",
              "\n",
              "    .dataframe tbody tr th {\n",
              "        vertical-align: top;\n",
              "    }\n",
              "\n",
              "    .dataframe thead th {\n",
              "        text-align: right;\n",
              "    }\n",
              "</style>\n",
              "<table border=\"1\" class=\"dataframe\">\n",
              "  <thead>\n",
              "    <tr style=\"text-align: right;\">\n",
              "      <th></th>\n",
              "      <th>team</th>\n",
              "      <th>GP</th>\n",
              "      <th>W</th>\n",
              "      <th>L</th>\n",
              "      <th>year</th>\n",
              "      <th>Metropolitan area</th>\n",
              "      <th>Population</th>\n",
              "      <th>NFL</th>\n",
              "      <th>MLB</th>\n",
              "      <th>NBA</th>\n",
              "      <th>NHL</th>\n",
              "    </tr>\n",
              "  </thead>\n",
              "  <tbody>\n",
              "    <tr>\n",
              "      <th>0</th>\n",
              "      <td>Tampa Bay Lightning</td>\n",
              "      <td>82</td>\n",
              "      <td>54</td>\n",
              "      <td>23</td>\n",
              "      <td>2018</td>\n",
              "      <td>Tampa Bay Area</td>\n",
              "      <td>3032171</td>\n",
              "      <td>Buccaneers</td>\n",
              "      <td>Rays</td>\n",
              "      <td>NaN</td>\n",
              "      <td>Lightning</td>\n",
              "    </tr>\n",
              "    <tr>\n",
              "      <th>1</th>\n",
              "      <td>Boston Bruins</td>\n",
              "      <td>82</td>\n",
              "      <td>50</td>\n",
              "      <td>20</td>\n",
              "      <td>2018</td>\n",
              "      <td>Boston</td>\n",
              "      <td>4794447</td>\n",
              "      <td>Patriots</td>\n",
              "      <td>Red Sox</td>\n",
              "      <td>Celtics</td>\n",
              "      <td>Bruins</td>\n",
              "    </tr>\n",
              "    <tr>\n",
              "      <th>2</th>\n",
              "      <td>Toronto Maple Leafs</td>\n",
              "      <td>82</td>\n",
              "      <td>49</td>\n",
              "      <td>26</td>\n",
              "      <td>2018</td>\n",
              "      <td>Toronto</td>\n",
              "      <td>5928040</td>\n",
              "      <td>—</td>\n",
              "      <td>Blue Jays</td>\n",
              "      <td>Raptors</td>\n",
              "      <td>Maple Leafs</td>\n",
              "    </tr>\n",
              "    <tr>\n",
              "      <th>3</th>\n",
              "      <td>Florida Panthers</td>\n",
              "      <td>82</td>\n",
              "      <td>44</td>\n",
              "      <td>30</td>\n",
              "      <td>2018</td>\n",
              "      <td>Miami–Fort Lauderdale</td>\n",
              "      <td>6066387</td>\n",
              "      <td>Dolphins</td>\n",
              "      <td>Marlins</td>\n",
              "      <td>Heat</td>\n",
              "      <td>Panthers</td>\n",
              "    </tr>\n",
              "    <tr>\n",
              "      <th>4</th>\n",
              "      <td>Detroit Red Wings</td>\n",
              "      <td>82</td>\n",
              "      <td>30</td>\n",
              "      <td>39</td>\n",
              "      <td>2018</td>\n",
              "      <td>Detroit</td>\n",
              "      <td>4297617</td>\n",
              "      <td>Lions</td>\n",
              "      <td>Tigers</td>\n",
              "      <td>Pistons</td>\n",
              "      <td>Red Wings</td>\n",
              "    </tr>\n",
              "  </tbody>\n",
              "</table>\n",
              "</div>"
            ],
            "text/plain": [
              "                  team  GP   W   L  ...         NFL        MLB      NBA          NHL\n",
              "0  Tampa Bay Lightning  82  54  23  ...  Buccaneers       Rays      NaN    Lightning\n",
              "1        Boston Bruins  82  50  20  ...    Patriots    Red Sox  Celtics       Bruins\n",
              "2  Toronto Maple Leafs  82  49  26  ...          —   Blue Jays  Raptors  Maple Leafs\n",
              "3     Florida Panthers  82  44  30  ...    Dolphins    Marlins     Heat     Panthers\n",
              "4    Detroit Red Wings  82  30  39  ...       Lions     Tigers  Pistons    Red Wings\n",
              "\n",
              "[5 rows x 11 columns]"
            ]
          },
          "metadata": {
            "tags": []
          },
          "execution_count": 36
        }
      ]
    },
    {
      "cell_type": "markdown",
      "metadata": {
        "id": "rGtp5FXnZHRi"
      },
      "source": [
        "### calculation of win/loss ratio for every team"
      ]
    },
    {
      "cell_type": "code",
      "metadata": {
        "id": "irL-XAewjAo5"
      },
      "source": [
        "combined_df['W/L'] = combined_df['W']/(combined_df['W']+combined_df['L'])"
      ],
      "execution_count": 37,
      "outputs": []
    },
    {
      "cell_type": "code",
      "metadata": {
        "colab": {
          "base_uri": "https://localhost:8080/",
          "height": 204
        },
        "id": "a4ycqBlWjPhZ",
        "outputId": "34d08321-c508-4a19-b21f-074359f20fda"
      },
      "source": [
        "combined_df.head()"
      ],
      "execution_count": 38,
      "outputs": [
        {
          "output_type": "execute_result",
          "data": {
            "text/html": [
              "<div>\n",
              "<style scoped>\n",
              "    .dataframe tbody tr th:only-of-type {\n",
              "        vertical-align: middle;\n",
              "    }\n",
              "\n",
              "    .dataframe tbody tr th {\n",
              "        vertical-align: top;\n",
              "    }\n",
              "\n",
              "    .dataframe thead th {\n",
              "        text-align: right;\n",
              "    }\n",
              "</style>\n",
              "<table border=\"1\" class=\"dataframe\">\n",
              "  <thead>\n",
              "    <tr style=\"text-align: right;\">\n",
              "      <th></th>\n",
              "      <th>team</th>\n",
              "      <th>GP</th>\n",
              "      <th>W</th>\n",
              "      <th>L</th>\n",
              "      <th>year</th>\n",
              "      <th>Metropolitan area</th>\n",
              "      <th>Population</th>\n",
              "      <th>NFL</th>\n",
              "      <th>MLB</th>\n",
              "      <th>NBA</th>\n",
              "      <th>NHL</th>\n",
              "      <th>W/L</th>\n",
              "    </tr>\n",
              "  </thead>\n",
              "  <tbody>\n",
              "    <tr>\n",
              "      <th>0</th>\n",
              "      <td>Tampa Bay Lightning</td>\n",
              "      <td>82</td>\n",
              "      <td>54</td>\n",
              "      <td>23</td>\n",
              "      <td>2018</td>\n",
              "      <td>Tampa Bay Area</td>\n",
              "      <td>3032171</td>\n",
              "      <td>Buccaneers</td>\n",
              "      <td>Rays</td>\n",
              "      <td>NaN</td>\n",
              "      <td>Lightning</td>\n",
              "      <td>0.701299</td>\n",
              "    </tr>\n",
              "    <tr>\n",
              "      <th>1</th>\n",
              "      <td>Boston Bruins</td>\n",
              "      <td>82</td>\n",
              "      <td>50</td>\n",
              "      <td>20</td>\n",
              "      <td>2018</td>\n",
              "      <td>Boston</td>\n",
              "      <td>4794447</td>\n",
              "      <td>Patriots</td>\n",
              "      <td>Red Sox</td>\n",
              "      <td>Celtics</td>\n",
              "      <td>Bruins</td>\n",
              "      <td>0.714286</td>\n",
              "    </tr>\n",
              "    <tr>\n",
              "      <th>2</th>\n",
              "      <td>Toronto Maple Leafs</td>\n",
              "      <td>82</td>\n",
              "      <td>49</td>\n",
              "      <td>26</td>\n",
              "      <td>2018</td>\n",
              "      <td>Toronto</td>\n",
              "      <td>5928040</td>\n",
              "      <td>—</td>\n",
              "      <td>Blue Jays</td>\n",
              "      <td>Raptors</td>\n",
              "      <td>Maple Leafs</td>\n",
              "      <td>0.653333</td>\n",
              "    </tr>\n",
              "    <tr>\n",
              "      <th>3</th>\n",
              "      <td>Florida Panthers</td>\n",
              "      <td>82</td>\n",
              "      <td>44</td>\n",
              "      <td>30</td>\n",
              "      <td>2018</td>\n",
              "      <td>Miami–Fort Lauderdale</td>\n",
              "      <td>6066387</td>\n",
              "      <td>Dolphins</td>\n",
              "      <td>Marlins</td>\n",
              "      <td>Heat</td>\n",
              "      <td>Panthers</td>\n",
              "      <td>0.594595</td>\n",
              "    </tr>\n",
              "    <tr>\n",
              "      <th>4</th>\n",
              "      <td>Detroit Red Wings</td>\n",
              "      <td>82</td>\n",
              "      <td>30</td>\n",
              "      <td>39</td>\n",
              "      <td>2018</td>\n",
              "      <td>Detroit</td>\n",
              "      <td>4297617</td>\n",
              "      <td>Lions</td>\n",
              "      <td>Tigers</td>\n",
              "      <td>Pistons</td>\n",
              "      <td>Red Wings</td>\n",
              "      <td>0.434783</td>\n",
              "    </tr>\n",
              "  </tbody>\n",
              "</table>\n",
              "</div>"
            ],
            "text/plain": [
              "                  team  GP   W   L  ...        MLB      NBA          NHL       W/L\n",
              "0  Tampa Bay Lightning  82  54  23  ...       Rays      NaN    Lightning  0.701299\n",
              "1        Boston Bruins  82  50  20  ...    Red Sox  Celtics       Bruins  0.714286\n",
              "2  Toronto Maple Leafs  82  49  26  ...  Blue Jays  Raptors  Maple Leafs  0.653333\n",
              "3     Florida Panthers  82  44  30  ...    Marlins     Heat     Panthers  0.594595\n",
              "4    Detroit Red Wings  82  30  39  ...     Tigers  Pistons    Red Wings  0.434783\n",
              "\n",
              "[5 rows x 12 columns]"
            ]
          },
          "metadata": {
            "tags": []
          },
          "execution_count": 38
        }
      ]
    },
    {
      "cell_type": "code",
      "metadata": {
        "id": "5bmn7oVJeeXq"
      },
      "source": [
        "# now grouping (some cities have more than one teams)\n",
        "regions = combined_df.set_index('Metropolitan area').groupby('Metropolitan area').mean()"
      ],
      "execution_count": 39,
      "outputs": []
    },
    {
      "cell_type": "code",
      "metadata": {
        "colab": {
          "base_uri": "https://localhost:8080/"
        },
        "id": "mFt7LLnzhTKp",
        "outputId": "830d3da8-8a5a-4f33-d428-44e798c37f34"
      },
      "source": [
        "regions.shape"
      ],
      "execution_count": 40,
      "outputs": [
        {
          "output_type": "execute_result",
          "data": {
            "text/plain": [
              "(28, 5)"
            ]
          },
          "metadata": {
            "tags": []
          },
          "execution_count": 40
        }
      ]
    },
    {
      "cell_type": "code",
      "metadata": {
        "colab": {
          "base_uri": "https://localhost:8080/",
          "height": 235
        },
        "id": "rCQnSbHMhn26",
        "outputId": "a910bd62-1133-4fa2-856b-ccec54a82b06"
      },
      "source": [
        "regions_nhl = regions[['Population', 'W/L']]\n",
        "regions_nhl.head()"
      ],
      "execution_count": 41,
      "outputs": [
        {
          "output_type": "execute_result",
          "data": {
            "text/html": [
              "<div>\n",
              "<style scoped>\n",
              "    .dataframe tbody tr th:only-of-type {\n",
              "        vertical-align: middle;\n",
              "    }\n",
              "\n",
              "    .dataframe tbody tr th {\n",
              "        vertical-align: top;\n",
              "    }\n",
              "\n",
              "    .dataframe thead th {\n",
              "        text-align: right;\n",
              "    }\n",
              "</style>\n",
              "<table border=\"1\" class=\"dataframe\">\n",
              "  <thead>\n",
              "    <tr style=\"text-align: right;\">\n",
              "      <th></th>\n",
              "      <th>Population</th>\n",
              "      <th>W/L</th>\n",
              "    </tr>\n",
              "    <tr>\n",
              "      <th>Metropolitan area</th>\n",
              "      <th></th>\n",
              "      <th></th>\n",
              "    </tr>\n",
              "  </thead>\n",
              "  <tbody>\n",
              "    <tr>\n",
              "      <th>Boston</th>\n",
              "      <td>4794447</td>\n",
              "      <td>0.714286</td>\n",
              "    </tr>\n",
              "    <tr>\n",
              "      <th>Buffalo</th>\n",
              "      <td>1132804</td>\n",
              "      <td>0.357143</td>\n",
              "    </tr>\n",
              "    <tr>\n",
              "      <th>Calgary</th>\n",
              "      <td>1392609</td>\n",
              "      <td>0.513889</td>\n",
              "    </tr>\n",
              "    <tr>\n",
              "      <th>Chicago</th>\n",
              "      <td>9512999</td>\n",
              "      <td>0.458333</td>\n",
              "    </tr>\n",
              "    <tr>\n",
              "      <th>Columbus</th>\n",
              "      <td>2041520</td>\n",
              "      <td>0.600000</td>\n",
              "    </tr>\n",
              "  </tbody>\n",
              "</table>\n",
              "</div>"
            ],
            "text/plain": [
              "                   Population       W/L\n",
              "Metropolitan area                      \n",
              "Boston                4794447  0.714286\n",
              "Buffalo               1132804  0.357143\n",
              "Calgary               1392609  0.513889\n",
              "Chicago               9512999  0.458333\n",
              "Columbus              2041520  0.600000"
            ]
          },
          "metadata": {
            "tags": []
          },
          "execution_count": 41
        }
      ]
    },
    {
      "cell_type": "code",
      "metadata": {
        "colab": {
          "base_uri": "https://localhost:8080/",
          "height": 307
        },
        "id": "LFL8-4pVZwex",
        "outputId": "eb58a026-144c-418d-c9a7-10d879cbb76e"
      },
      "source": [
        "sns.scatterplot(x='W/L', y='Population', data=regions_nhl)"
      ],
      "execution_count": 46,
      "outputs": [
        {
          "output_type": "execute_result",
          "data": {
            "text/plain": [
              "<matplotlib.axes._subplots.AxesSubplot at 0x7f468f06ec10>"
            ]
          },
          "metadata": {
            "tags": []
          },
          "execution_count": 46
        },
        {
          "output_type": "display_data",
          "data": {
            "image/png": "[encoded data removed]",
            "text/plain": [
              "<Figure size 432x288 with 1 Axes>"
            ]
          },
          "metadata": {
            "tags": [],
            "needs_background": "light"
          }
        }
      ]
    },
    {
      "cell_type": "markdown",
      "metadata": {
        "id": "lpm3_8E7akXq"
      },
      "source": [
        "### correlation between w/l of all teams of cities and the populations"
      ]
    },
    {
      "cell_type": "code",
      "metadata": {
        "colab": {
          "base_uri": "https://localhost:8080/"
        },
        "id": "fG8edXETiVb3",
        "outputId": "2a1224b9-3eab-46c8-f99c-4afd3a7ca400"
      },
      "source": [
        "stats.pearsonr(regions['Population'], regions['W/L'])\n",
        "# (corr, confindence)"
      ],
      "execution_count": 48,
      "outputs": [
        {
          "output_type": "execute_result",
          "data": {
            "text/plain": [
              "(0.012486162921209907, 0.9497182859911791)"
            ]
          },
          "metadata": {
            "tags": []
          },
          "execution_count": 48
        }
      ]
    },
    {
      "cell_type": "markdown",
      "metadata": {
        "id": "nXd-Gfdnbd8H"
      },
      "source": [
        "# Now reading in the NBA Dataset and repeating the same process"
      ]
    },
    {
      "cell_type": "code",
      "metadata": {
        "id": "PHLmhm2Bvsbi"
      },
      "source": [
        "nba_df = pd.read_csv('nba.csv')"
      ],
      "execution_count": 49,
      "outputs": []
    },
    {
      "cell_type": "code",
      "metadata": {
        "colab": {
          "base_uri": "https://localhost:8080/",
          "height": 204
        },
        "id": "59aC5a2F4Fjt",
        "outputId": "ef8f05d9-fb41-49b8-e30d-b6586c8f9e23"
      },
      "source": [
        "nba_df = nba_df[nba_df['year'] == 2018]\n",
        "nba_df.head()"
      ],
      "execution_count": 50,
      "outputs": [
        {
          "output_type": "execute_result",
          "data": {
            "text/html": [
              "<div>\n",
              "<style scoped>\n",
              "    .dataframe tbody tr th:only-of-type {\n",
              "        vertical-align: middle;\n",
              "    }\n",
              "\n",
              "    .dataframe tbody tr th {\n",
              "        vertical-align: top;\n",
              "    }\n",
              "\n",
              "    .dataframe thead th {\n",
              "        text-align: right;\n",
              "    }\n",
              "</style>\n",
              "<table border=\"1\" class=\"dataframe\">\n",
              "  <thead>\n",
              "    <tr style=\"text-align: right;\">\n",
              "      <th></th>\n",
              "      <th>team</th>\n",
              "      <th>W</th>\n",
              "      <th>L</th>\n",
              "      <th>W/L%</th>\n",
              "      <th>GB</th>\n",
              "      <th>PS/G</th>\n",
              "      <th>PA/G</th>\n",
              "      <th>SRS</th>\n",
              "      <th>year</th>\n",
              "      <th>League</th>\n",
              "    </tr>\n",
              "  </thead>\n",
              "  <tbody>\n",
              "    <tr>\n",
              "      <th>0</th>\n",
              "      <td>Toronto Raptors* (1)</td>\n",
              "      <td>59</td>\n",
              "      <td>23</td>\n",
              "      <td>0.72</td>\n",
              "      <td>—</td>\n",
              "      <td>111.7</td>\n",
              "      <td>103.9</td>\n",
              "      <td>7.29</td>\n",
              "      <td>2018</td>\n",
              "      <td>NBA</td>\n",
              "    </tr>\n",
              "    <tr>\n",
              "      <th>1</th>\n",
              "      <td>Boston Celtics* (2)</td>\n",
              "      <td>55</td>\n",
              "      <td>27</td>\n",
              "      <td>0.6709999999999999</td>\n",
              "      <td>4.0</td>\n",
              "      <td>104.0</td>\n",
              "      <td>100.4</td>\n",
              "      <td>3.23</td>\n",
              "      <td>2018</td>\n",
              "      <td>NBA</td>\n",
              "    </tr>\n",
              "    <tr>\n",
              "      <th>2</th>\n",
              "      <td>Philadelphia 76ers* (3)</td>\n",
              "      <td>52</td>\n",
              "      <td>30</td>\n",
              "      <td>0.634</td>\n",
              "      <td>7.0</td>\n",
              "      <td>109.8</td>\n",
              "      <td>105.3</td>\n",
              "      <td>4.3</td>\n",
              "      <td>2018</td>\n",
              "      <td>NBA</td>\n",
              "    </tr>\n",
              "    <tr>\n",
              "      <th>3</th>\n",
              "      <td>Cleveland Cavaliers* (4)</td>\n",
              "      <td>50</td>\n",
              "      <td>32</td>\n",
              "      <td>0.61</td>\n",
              "      <td>9.0</td>\n",
              "      <td>110.9</td>\n",
              "      <td>109.9</td>\n",
              "      <td>0.59</td>\n",
              "      <td>2018</td>\n",
              "      <td>NBA</td>\n",
              "    </tr>\n",
              "    <tr>\n",
              "      <th>4</th>\n",
              "      <td>Indiana Pacers* (5)</td>\n",
              "      <td>48</td>\n",
              "      <td>34</td>\n",
              "      <td>0.585</td>\n",
              "      <td>11.0</td>\n",
              "      <td>105.6</td>\n",
              "      <td>104.2</td>\n",
              "      <td>1.18</td>\n",
              "      <td>2018</td>\n",
              "      <td>NBA</td>\n",
              "    </tr>\n",
              "  </tbody>\n",
              "</table>\n",
              "</div>"
            ],
            "text/plain": [
              "                       team   W   L  ...   SRS  year League\n",
              "0      Toronto Raptors* (1)  59  23  ...  7.29  2018    NBA\n",
              "1       Boston Celtics* (2)  55  27  ...  3.23  2018    NBA\n",
              "2   Philadelphia 76ers* (3)  52  30  ...   4.3  2018    NBA\n",
              "3  Cleveland Cavaliers* (4)  50  32  ...  0.59  2018    NBA\n",
              "4       Indiana Pacers* (5)  48  34  ...  1.18  2018    NBA\n",
              "\n",
              "[5 rows x 10 columns]"
            ]
          },
          "metadata": {
            "tags": []
          },
          "execution_count": 50
        }
      ]
    },
    {
      "cell_type": "code",
      "metadata": {
        "colab": {
          "base_uri": "https://localhost:8080/"
        },
        "id": "O_pQBU0B4Iip",
        "outputId": "36a9d795-68b5-469d-cf84-969657ac04ff"
      },
      "source": [
        "nba_df.dtypes"
      ],
      "execution_count": 51,
      "outputs": [
        {
          "output_type": "execute_result",
          "data": {
            "text/plain": [
              "team      object\n",
              "W         object\n",
              "L         object\n",
              "W/L%      object\n",
              "GB        object\n",
              "PS/G      object\n",
              "PA/G      object\n",
              "SRS       object\n",
              "year       int64\n",
              "League    object\n",
              "dtype: object"
            ]
          },
          "metadata": {
            "tags": []
          },
          "execution_count": 51
        }
      ]
    },
    {
      "cell_type": "code",
      "metadata": {
        "id": "6LvHlf8tpAzG"
      },
      "source": [
        "nba_df['W'] = nba_df['W'].astype(int)\n",
        "nba_df['L'] = nba_df['L'].astype(int)"
      ],
      "execution_count": 52,
      "outputs": []
    },
    {
      "cell_type": "code",
      "metadata": {
        "id": "ggGYzf306T7O"
      },
      "source": [
        "import unicodedata"
      ],
      "execution_count": 53,
      "outputs": []
    },
    {
      "cell_type": "code",
      "metadata": {
        "id": "0sNvVIdG_ZyC"
      },
      "source": [
        "def clean_teams(row):\n",
        "  # team_name = row['team']\n",
        "    team = unicodedata.normalize('NFKD', row['team'])\n",
        "    row['team'] = re.sub(r\"[* ]*\\(\\d+\\)\", \"\", team)\n",
        "    return row"
      ],
      "execution_count": 54,
      "outputs": []
    },
    {
      "cell_type": "code",
      "metadata": {
        "id": "i5m5OiFO9W8W"
      },
      "source": [
        "nba_df = nba_df.apply(clean_teams, axis=1)"
      ],
      "execution_count": 55,
      "outputs": []
    },
    {
      "cell_type": "code",
      "metadata": {
        "colab": {
          "base_uri": "https://localhost:8080/",
          "height": 297
        },
        "id": "TCbluKHz-Vhg",
        "outputId": "b7eaf54d-c2db-4590-ee8e-e4eac2588102"
      },
      "source": [
        "nba_df.head(8)"
      ],
      "execution_count": 56,
      "outputs": [
        {
          "output_type": "execute_result",
          "data": {
            "text/html": [
              "<div>\n",
              "<style scoped>\n",
              "    .dataframe tbody tr th:only-of-type {\n",
              "        vertical-align: middle;\n",
              "    }\n",
              "\n",
              "    .dataframe tbody tr th {\n",
              "        vertical-align: top;\n",
              "    }\n",
              "\n",
              "    .dataframe thead th {\n",
              "        text-align: right;\n",
              "    }\n",
              "</style>\n",
              "<table border=\"1\" class=\"dataframe\">\n",
              "  <thead>\n",
              "    <tr style=\"text-align: right;\">\n",
              "      <th></th>\n",
              "      <th>team</th>\n",
              "      <th>W</th>\n",
              "      <th>L</th>\n",
              "      <th>W/L%</th>\n",
              "      <th>GB</th>\n",
              "      <th>PS/G</th>\n",
              "      <th>PA/G</th>\n",
              "      <th>SRS</th>\n",
              "      <th>year</th>\n",
              "      <th>League</th>\n",
              "    </tr>\n",
              "  </thead>\n",
              "  <tbody>\n",
              "    <tr>\n",
              "      <th>0</th>\n",
              "      <td>Toronto Raptors</td>\n",
              "      <td>59</td>\n",
              "      <td>23</td>\n",
              "      <td>0.72</td>\n",
              "      <td>—</td>\n",
              "      <td>111.7</td>\n",
              "      <td>103.9</td>\n",
              "      <td>7.29</td>\n",
              "      <td>2018</td>\n",
              "      <td>NBA</td>\n",
              "    </tr>\n",
              "    <tr>\n",
              "      <th>1</th>\n",
              "      <td>Boston Celtics</td>\n",
              "      <td>55</td>\n",
              "      <td>27</td>\n",
              "      <td>0.6709999999999999</td>\n",
              "      <td>4.0</td>\n",
              "      <td>104.0</td>\n",
              "      <td>100.4</td>\n",
              "      <td>3.23</td>\n",
              "      <td>2018</td>\n",
              "      <td>NBA</td>\n",
              "    </tr>\n",
              "    <tr>\n",
              "      <th>2</th>\n",
              "      <td>Philadelphia 76ers</td>\n",
              "      <td>52</td>\n",
              "      <td>30</td>\n",
              "      <td>0.634</td>\n",
              "      <td>7.0</td>\n",
              "      <td>109.8</td>\n",
              "      <td>105.3</td>\n",
              "      <td>4.3</td>\n",
              "      <td>2018</td>\n",
              "      <td>NBA</td>\n",
              "    </tr>\n",
              "    <tr>\n",
              "      <th>3</th>\n",
              "      <td>Cleveland Cavaliers</td>\n",
              "      <td>50</td>\n",
              "      <td>32</td>\n",
              "      <td>0.61</td>\n",
              "      <td>9.0</td>\n",
              "      <td>110.9</td>\n",
              "      <td>109.9</td>\n",
              "      <td>0.59</td>\n",
              "      <td>2018</td>\n",
              "      <td>NBA</td>\n",
              "    </tr>\n",
              "    <tr>\n",
              "      <th>4</th>\n",
              "      <td>Indiana Pacers</td>\n",
              "      <td>48</td>\n",
              "      <td>34</td>\n",
              "      <td>0.585</td>\n",
              "      <td>11.0</td>\n",
              "      <td>105.6</td>\n",
              "      <td>104.2</td>\n",
              "      <td>1.18</td>\n",
              "      <td>2018</td>\n",
              "      <td>NBA</td>\n",
              "    </tr>\n",
              "    <tr>\n",
              "      <th>5</th>\n",
              "      <td>Miami Heat</td>\n",
              "      <td>44</td>\n",
              "      <td>38</td>\n",
              "      <td>0.537</td>\n",
              "      <td>15.0</td>\n",
              "      <td>103.4</td>\n",
              "      <td>102.9</td>\n",
              "      <td>0.15</td>\n",
              "      <td>2018</td>\n",
              "      <td>NBA</td>\n",
              "    </tr>\n",
              "    <tr>\n",
              "      <th>6</th>\n",
              "      <td>Milwaukee Bucks</td>\n",
              "      <td>44</td>\n",
              "      <td>38</td>\n",
              "      <td>0.537</td>\n",
              "      <td>15.0</td>\n",
              "      <td>106.5</td>\n",
              "      <td>106.8</td>\n",
              "      <td>-0.45</td>\n",
              "      <td>2018</td>\n",
              "      <td>NBA</td>\n",
              "    </tr>\n",
              "    <tr>\n",
              "      <th>7</th>\n",
              "      <td>Washington Wizards</td>\n",
              "      <td>43</td>\n",
              "      <td>39</td>\n",
              "      <td>0.524</td>\n",
              "      <td>16.0</td>\n",
              "      <td>106.6</td>\n",
              "      <td>106.0</td>\n",
              "      <td>0.53</td>\n",
              "      <td>2018</td>\n",
              "      <td>NBA</td>\n",
              "    </tr>\n",
              "  </tbody>\n",
              "</table>\n",
              "</div>"
            ],
            "text/plain": [
              "                  team   W   L                W/L%  ...   PA/G    SRS  year League\n",
              "0      Toronto Raptors  59  23                0.72  ...  103.9   7.29  2018    NBA\n",
              "1       Boston Celtics  55  27  0.6709999999999999  ...  100.4   3.23  2018    NBA\n",
              "2   Philadelphia 76ers  52  30               0.634  ...  105.3    4.3  2018    NBA\n",
              "3  Cleveland Cavaliers  50  32                0.61  ...  109.9   0.59  2018    NBA\n",
              "4       Indiana Pacers  48  34               0.585  ...  104.2   1.18  2018    NBA\n",
              "5           Miami Heat  44  38               0.537  ...  102.9   0.15  2018    NBA\n",
              "6      Milwaukee Bucks  44  38               0.537  ...  106.8  -0.45  2018    NBA\n",
              "7   Washington Wizards  43  39               0.524  ...  106.0   0.53  2018    NBA\n",
              "\n",
              "[8 rows x 10 columns]"
            ]
          },
          "metadata": {
            "tags": []
          },
          "execution_count": 56
        }
      ]
    },
    {
      "cell_type": "code",
      "metadata": {
        "id": "8wRJQ8sVpkAQ",
        "colab": {
          "base_uri": "https://localhost:8080/",
          "height": 204
        },
        "outputId": "26c68356-df7d-498a-bf3d-427e10cb5b67"
      },
      "source": [
        "nba_df.drop(nba_df[nba_df['team'].str.endswith('Division')].index, inplace=True) \n",
        "cols = ['team', 'W','L', 'year']\n",
        "nba_df = nba_df[cols]\n",
        "nba_df.head()"
      ],
      "execution_count": 57,
      "outputs": [
        {
          "output_type": "execute_result",
          "data": {
            "text/html": [
              "<div>\n",
              "<style scoped>\n",
              "    .dataframe tbody tr th:only-of-type {\n",
              "        vertical-align: middle;\n",
              "    }\n",
              "\n",
              "    .dataframe tbody tr th {\n",
              "        vertical-align: top;\n",
              "    }\n",
              "\n",
              "    .dataframe thead th {\n",
              "        text-align: right;\n",
              "    }\n",
              "</style>\n",
              "<table border=\"1\" class=\"dataframe\">\n",
              "  <thead>\n",
              "    <tr style=\"text-align: right;\">\n",
              "      <th></th>\n",
              "      <th>team</th>\n",
              "      <th>W</th>\n",
              "      <th>L</th>\n",
              "      <th>year</th>\n",
              "    </tr>\n",
              "  </thead>\n",
              "  <tbody>\n",
              "    <tr>\n",
              "      <th>0</th>\n",
              "      <td>Toronto Raptors</td>\n",
              "      <td>59</td>\n",
              "      <td>23</td>\n",
              "      <td>2018</td>\n",
              "    </tr>\n",
              "    <tr>\n",
              "      <th>1</th>\n",
              "      <td>Boston Celtics</td>\n",
              "      <td>55</td>\n",
              "      <td>27</td>\n",
              "      <td>2018</td>\n",
              "    </tr>\n",
              "    <tr>\n",
              "      <th>2</th>\n",
              "      <td>Philadelphia 76ers</td>\n",
              "      <td>52</td>\n",
              "      <td>30</td>\n",
              "      <td>2018</td>\n",
              "    </tr>\n",
              "    <tr>\n",
              "      <th>3</th>\n",
              "      <td>Cleveland Cavaliers</td>\n",
              "      <td>50</td>\n",
              "      <td>32</td>\n",
              "      <td>2018</td>\n",
              "    </tr>\n",
              "    <tr>\n",
              "      <th>4</th>\n",
              "      <td>Indiana Pacers</td>\n",
              "      <td>48</td>\n",
              "      <td>34</td>\n",
              "      <td>2018</td>\n",
              "    </tr>\n",
              "  </tbody>\n",
              "</table>\n",
              "</div>"
            ],
            "text/plain": [
              "                  team   W   L  year\n",
              "0      Toronto Raptors  59  23  2018\n",
              "1       Boston Celtics  55  27  2018\n",
              "2   Philadelphia 76ers  52  30  2018\n",
              "3  Cleveland Cavaliers  50  32  2018\n",
              "4       Indiana Pacers  48  34  2018"
            ]
          },
          "metadata": {
            "tags": []
          },
          "execution_count": 57
        }
      ]
    },
    {
      "cell_type": "code",
      "metadata": {
        "id": "IUM61gGxAAlj"
      },
      "source": [
        "region_mapping = {}\n",
        "def map_city(row):\n",
        "    teams = row['NBA']\n",
        "    if isinstance(teams, str):\n",
        "        res = re.findall(r'([A-Z]{1,1}[a-z]+)', teams)\n",
        "        if res:\n",
        "            for team in res:\n",
        "                region_mapping[team] = row['Metropolitan area']\n",
        "        else:\n",
        "            region_mapping[teams] = row['Metropolitan area']\n",
        "    return row"
      ],
      "execution_count": 61,
      "outputs": []
    },
    {
      "cell_type": "code",
      "metadata": {
        "id": "BLXX0Fv7q0A6"
      },
      "source": [
        "cities.apply(map_city,axis='columns');"
      ],
      "execution_count": 62,
      "outputs": []
    },
    {
      "cell_type": "code",
      "metadata": {
        "colab": {
          "base_uri": "https://localhost:8080/"
        },
        "id": "HO6thoGkq6Jx",
        "outputId": "07994479-6505-4ab7-ac37-a0111d29e939"
      },
      "source": [
        "len(region_mapping)"
      ],
      "execution_count": 63,
      "outputs": [
        {
          "output_type": "execute_result",
          "data": {
            "text/plain": [
              "32"
            ]
          },
          "metadata": {
            "tags": []
          },
          "execution_count": 63
        }
      ]
    },
    {
      "cell_type": "code",
      "metadata": {
        "id": "SVFtD5cqrF5x"
      },
      "source": [
        "def create_region(row):\n",
        "    names = row['team'].split()\n",
        "    if names[-1] in region_mapping:\n",
        "        return region_mapping[names[-1]]"
      ],
      "execution_count": 64,
      "outputs": []
    },
    {
      "cell_type": "code",
      "metadata": {
        "id": "BN2Gva4DrYoM"
      },
      "source": [
        "nba_df['Metropolitan area'] = nba_df.apply(create_region, axis=1)"
      ],
      "execution_count": 65,
      "outputs": []
    },
    {
      "cell_type": "code",
      "metadata": {
        "colab": {
          "base_uri": "https://localhost:8080/",
          "height": 204
        },
        "id": "jsx24vRRrfee",
        "outputId": "1fc1f48f-4732-4410-b017-072530564bd3"
      },
      "source": [
        "nba_df.head()"
      ],
      "execution_count": 66,
      "outputs": [
        {
          "output_type": "execute_result",
          "data": {
            "text/html": [
              "<div>\n",
              "<style scoped>\n",
              "    .dataframe tbody tr th:only-of-type {\n",
              "        vertical-align: middle;\n",
              "    }\n",
              "\n",
              "    .dataframe tbody tr th {\n",
              "        vertical-align: top;\n",
              "    }\n",
              "\n",
              "    .dataframe thead th {\n",
              "        text-align: right;\n",
              "    }\n",
              "</style>\n",
              "<table border=\"1\" class=\"dataframe\">\n",
              "  <thead>\n",
              "    <tr style=\"text-align: right;\">\n",
              "      <th></th>\n",
              "      <th>team</th>\n",
              "      <th>W</th>\n",
              "      <th>L</th>\n",
              "      <th>year</th>\n",
              "      <th>Metropolitan area</th>\n",
              "    </tr>\n",
              "  </thead>\n",
              "  <tbody>\n",
              "    <tr>\n",
              "      <th>0</th>\n",
              "      <td>Toronto Raptors</td>\n",
              "      <td>59</td>\n",
              "      <td>23</td>\n",
              "      <td>2018</td>\n",
              "      <td>Toronto</td>\n",
              "    </tr>\n",
              "    <tr>\n",
              "      <th>1</th>\n",
              "      <td>Boston Celtics</td>\n",
              "      <td>55</td>\n",
              "      <td>27</td>\n",
              "      <td>2018</td>\n",
              "      <td>Boston</td>\n",
              "    </tr>\n",
              "    <tr>\n",
              "      <th>2</th>\n",
              "      <td>Philadelphia 76ers</td>\n",
              "      <td>52</td>\n",
              "      <td>30</td>\n",
              "      <td>2018</td>\n",
              "      <td>Philadelphia</td>\n",
              "    </tr>\n",
              "    <tr>\n",
              "      <th>3</th>\n",
              "      <td>Cleveland Cavaliers</td>\n",
              "      <td>50</td>\n",
              "      <td>32</td>\n",
              "      <td>2018</td>\n",
              "      <td>Cleveland</td>\n",
              "    </tr>\n",
              "    <tr>\n",
              "      <th>4</th>\n",
              "      <td>Indiana Pacers</td>\n",
              "      <td>48</td>\n",
              "      <td>34</td>\n",
              "      <td>2018</td>\n",
              "      <td>Indianapolis</td>\n",
              "    </tr>\n",
              "  </tbody>\n",
              "</table>\n",
              "</div>"
            ],
            "text/plain": [
              "                  team   W   L  year Metropolitan area\n",
              "0      Toronto Raptors  59  23  2018           Toronto\n",
              "1       Boston Celtics  55  27  2018            Boston\n",
              "2   Philadelphia 76ers  52  30  2018      Philadelphia\n",
              "3  Cleveland Cavaliers  50  32  2018         Cleveland\n",
              "4       Indiana Pacers  48  34  2018      Indianapolis"
            ]
          },
          "metadata": {
            "tags": []
          },
          "execution_count": 66
        }
      ]
    },
    {
      "cell_type": "code",
      "metadata": {
        "id": "TLhUzspurhS2"
      },
      "source": [
        "combined_df = pd.merge(cities, nba_df, how='inner', on='Metropolitan area')"
      ],
      "execution_count": 67,
      "outputs": []
    },
    {
      "cell_type": "code",
      "metadata": {
        "colab": {
          "base_uri": "https://localhost:8080/"
        },
        "id": "_qecraJHvfKm",
        "outputId": "c0633c2c-1e6f-46e4-83dd-c8820c1dc7ce"
      },
      "source": [
        "combined_df.dtypes"
      ],
      "execution_count": 68,
      "outputs": [
        {
          "output_type": "execute_result",
          "data": {
            "text/plain": [
              "Metropolitan area    object\n",
              "Population            int64\n",
              "NFL                  object\n",
              "MLB                  object\n",
              "NBA                  object\n",
              "NHL                  object\n",
              "team                 object\n",
              "W                     int64\n",
              "L                     int64\n",
              "year                  int64\n",
              "dtype: object"
            ]
          },
          "metadata": {
            "tags": []
          },
          "execution_count": 68
        }
      ]
    },
    {
      "cell_type": "code",
      "metadata": {
        "id": "cRQUxXlQwwSh"
      },
      "source": [
        "combined_df['W/l'] = combined_df['W'] / (combined_df['W'] + combined_df['L'])\n",
        "cols = ['Metropolitan area', 'Population', 'W', 'L','W/l']\n",
        "combined_df = combined_df[cols]"
      ],
      "execution_count": 69,
      "outputs": []
    },
    {
      "cell_type": "code",
      "metadata": {
        "colab": {
          "base_uri": "https://localhost:8080/",
          "height": 204
        },
        "id": "ZfuThLicqeqj",
        "outputId": "3285d703-5ef4-4cb9-806c-d25083111d9c"
      },
      "source": [
        "combined_df.head()"
      ],
      "execution_count": 70,
      "outputs": [
        {
          "output_type": "execute_result",
          "data": {
            "text/html": [
              "<div>\n",
              "<style scoped>\n",
              "    .dataframe tbody tr th:only-of-type {\n",
              "        vertical-align: middle;\n",
              "    }\n",
              "\n",
              "    .dataframe tbody tr th {\n",
              "        vertical-align: top;\n",
              "    }\n",
              "\n",
              "    .dataframe thead th {\n",
              "        text-align: right;\n",
              "    }\n",
              "</style>\n",
              "<table border=\"1\" class=\"dataframe\">\n",
              "  <thead>\n",
              "    <tr style=\"text-align: right;\">\n",
              "      <th></th>\n",
              "      <th>Metropolitan area</th>\n",
              "      <th>Population</th>\n",
              "      <th>W</th>\n",
              "      <th>L</th>\n",
              "      <th>W/l</th>\n",
              "    </tr>\n",
              "  </thead>\n",
              "  <tbody>\n",
              "    <tr>\n",
              "      <th>0</th>\n",
              "      <td>New York City</td>\n",
              "      <td>20153634</td>\n",
              "      <td>29</td>\n",
              "      <td>53</td>\n",
              "      <td>0.353659</td>\n",
              "    </tr>\n",
              "    <tr>\n",
              "      <th>1</th>\n",
              "      <td>New York City</td>\n",
              "      <td>20153634</td>\n",
              "      <td>28</td>\n",
              "      <td>54</td>\n",
              "      <td>0.341463</td>\n",
              "    </tr>\n",
              "    <tr>\n",
              "      <th>2</th>\n",
              "      <td>Los Angeles</td>\n",
              "      <td>13310447</td>\n",
              "      <td>42</td>\n",
              "      <td>40</td>\n",
              "      <td>0.512195</td>\n",
              "    </tr>\n",
              "    <tr>\n",
              "      <th>3</th>\n",
              "      <td>Los Angeles</td>\n",
              "      <td>13310447</td>\n",
              "      <td>35</td>\n",
              "      <td>47</td>\n",
              "      <td>0.426829</td>\n",
              "    </tr>\n",
              "    <tr>\n",
              "      <th>4</th>\n",
              "      <td>Chicago</td>\n",
              "      <td>9512999</td>\n",
              "      <td>27</td>\n",
              "      <td>55</td>\n",
              "      <td>0.329268</td>\n",
              "    </tr>\n",
              "  </tbody>\n",
              "</table>\n",
              "</div>"
            ],
            "text/plain": [
              "  Metropolitan area  Population   W   L       W/l\n",
              "0     New York City    20153634  29  53  0.353659\n",
              "1     New York City    20153634  28  54  0.341463\n",
              "2       Los Angeles    13310447  42  40  0.512195\n",
              "3       Los Angeles    13310447  35  47  0.426829\n",
              "4           Chicago     9512999  27  55  0.329268"
            ]
          },
          "metadata": {
            "tags": []
          },
          "execution_count": 70
        }
      ]
    },
    {
      "cell_type": "code",
      "metadata": {
        "id": "ggMOBOAoxDro"
      },
      "source": [
        "regions_nba = combined_df.groupby('Metropolitan area').agg({'W/l': np.nanmean, 'Population': np.nanmean})"
      ],
      "execution_count": 71,
      "outputs": []
    },
    {
      "cell_type": "code",
      "metadata": {
        "colab": {
          "base_uri": "https://localhost:8080/",
          "height": 235
        },
        "id": "1XPZxYkqqorF",
        "outputId": "e221cf82-908a-4a58-85b6-208631acea54"
      },
      "source": [
        "regions_nba.head()"
      ],
      "execution_count": 72,
      "outputs": [
        {
          "output_type": "execute_result",
          "data": {
            "text/html": [
              "<div>\n",
              "<style scoped>\n",
              "    .dataframe tbody tr th:only-of-type {\n",
              "        vertical-align: middle;\n",
              "    }\n",
              "\n",
              "    .dataframe tbody tr th {\n",
              "        vertical-align: top;\n",
              "    }\n",
              "\n",
              "    .dataframe thead th {\n",
              "        text-align: right;\n",
              "    }\n",
              "</style>\n",
              "<table border=\"1\" class=\"dataframe\">\n",
              "  <thead>\n",
              "    <tr style=\"text-align: right;\">\n",
              "      <th></th>\n",
              "      <th>W/l</th>\n",
              "      <th>Population</th>\n",
              "    </tr>\n",
              "    <tr>\n",
              "      <th>Metropolitan area</th>\n",
              "      <th></th>\n",
              "      <th></th>\n",
              "    </tr>\n",
              "  </thead>\n",
              "  <tbody>\n",
              "    <tr>\n",
              "      <th>Atlanta</th>\n",
              "      <td>0.292683</td>\n",
              "      <td>5789700</td>\n",
              "    </tr>\n",
              "    <tr>\n",
              "      <th>Boston</th>\n",
              "      <td>0.670732</td>\n",
              "      <td>4794447</td>\n",
              "    </tr>\n",
              "    <tr>\n",
              "      <th>Charlotte</th>\n",
              "      <td>0.439024</td>\n",
              "      <td>2474314</td>\n",
              "    </tr>\n",
              "    <tr>\n",
              "      <th>Chicago</th>\n",
              "      <td>0.329268</td>\n",
              "      <td>9512999</td>\n",
              "    </tr>\n",
              "    <tr>\n",
              "      <th>Cleveland</th>\n",
              "      <td>0.609756</td>\n",
              "      <td>2055612</td>\n",
              "    </tr>\n",
              "  </tbody>\n",
              "</table>\n",
              "</div>"
            ],
            "text/plain": [
              "                        W/l  Population\n",
              "Metropolitan area                      \n",
              "Atlanta            0.292683     5789700\n",
              "Boston             0.670732     4794447\n",
              "Charlotte          0.439024     2474314\n",
              "Chicago            0.329268     9512999\n",
              "Cleveland          0.609756     2055612"
            ]
          },
          "metadata": {
            "tags": []
          },
          "execution_count": 72
        }
      ]
    },
    {
      "cell_type": "code",
      "metadata": {
        "colab": {
          "base_uri": "https://localhost:8080/",
          "height": 307
        },
        "id": "-9T5b9tsxVF8",
        "outputId": "847c534c-6491-4b8c-ac2d-9c62f01833f4"
      },
      "source": [
        "sns.scatterplot(x='W/l', y='Population', data=regions_nba)"
      ],
      "execution_count": 73,
      "outputs": [
        {
          "output_type": "execute_result",
          "data": {
            "text/plain": [
              "<matplotlib.axes._subplots.AxesSubplot at 0x7f468ee72450>"
            ]
          },
          "metadata": {
            "tags": []
          },
          "execution_count": 73
        },
        {
          "output_type": "display_data",
          "data": {
            "image/png": "[encoded data removed]",
            "text/plain": [
              "<Figure size 432x288 with 1 Axes>"
            ]
          },
          "metadata": {
            "tags": [],
            "needs_background": "light"
          }
        }
      ]
    },
    {
      "cell_type": "code",
      "metadata": {
        "colab": {
          "base_uri": "https://localhost:8080/"
        },
        "id": "dl-yqyOExZV7",
        "outputId": "c5903565-f012-4202-b5eb-8f659c944150"
      },
      "source": [
        "stats.pearsonr(regions_nba['Population'], regions_nba['W/l'])"
      ],
      "execution_count": 75,
      "outputs": [
        {
          "output_type": "execute_result",
          "data": {
            "text/plain": [
              "(-0.17657160252844617, 0.36874741604463)"
            ]
          },
          "metadata": {
            "tags": []
          },
          "execution_count": 75
        }
      ]
    },
    {
      "cell_type": "markdown",
      "metadata": {
        "id": "0hL3PU9ydxcM"
      },
      "source": [
        "# Now MLB Dataset"
      ]
    },
    {
      "cell_type": "code",
      "metadata": {
        "colab": {
          "base_uri": "https://localhost:8080/",
          "height": 204
        },
        "id": "Z-KMsvoJEvrs",
        "outputId": "9ce726c8-3eed-44b2-b9a4-54b64ac3d087"
      },
      "source": [
        "mlb_df = pd.read_csv('mlb.csv')\n",
        "mlb_df = mlb_df[mlb_df['year'] == 2018]\n",
        "mlb_df.head()"
      ],
      "execution_count": 77,
      "outputs": [
        {
          "output_type": "execute_result",
          "data": {
            "text/html": [
              "<div>\n",
              "<style scoped>\n",
              "    .dataframe tbody tr th:only-of-type {\n",
              "        vertical-align: middle;\n",
              "    }\n",
              "\n",
              "    .dataframe tbody tr th {\n",
              "        vertical-align: top;\n",
              "    }\n",
              "\n",
              "    .dataframe thead th {\n",
              "        text-align: right;\n",
              "    }\n",
              "</style>\n",
              "<table border=\"1\" class=\"dataframe\">\n",
              "  <thead>\n",
              "    <tr style=\"text-align: right;\">\n",
              "      <th></th>\n",
              "      <th>team</th>\n",
              "      <th>W</th>\n",
              "      <th>L</th>\n",
              "      <th>W-L%</th>\n",
              "      <th>GB</th>\n",
              "      <th>year</th>\n",
              "      <th>League</th>\n",
              "    </tr>\n",
              "  </thead>\n",
              "  <tbody>\n",
              "    <tr>\n",
              "      <th>0</th>\n",
              "      <td>Boston Red Sox</td>\n",
              "      <td>108</td>\n",
              "      <td>54</td>\n",
              "      <td>0.667</td>\n",
              "      <td>--</td>\n",
              "      <td>2018</td>\n",
              "      <td>MLB</td>\n",
              "    </tr>\n",
              "    <tr>\n",
              "      <th>1</th>\n",
              "      <td>New York Yankees</td>\n",
              "      <td>100</td>\n",
              "      <td>62</td>\n",
              "      <td>0.617</td>\n",
              "      <td>8.0</td>\n",
              "      <td>2018</td>\n",
              "      <td>MLB</td>\n",
              "    </tr>\n",
              "    <tr>\n",
              "      <th>2</th>\n",
              "      <td>Tampa Bay Rays</td>\n",
              "      <td>90</td>\n",
              "      <td>72</td>\n",
              "      <td>0.556</td>\n",
              "      <td>18.0</td>\n",
              "      <td>2018</td>\n",
              "      <td>MLB</td>\n",
              "    </tr>\n",
              "    <tr>\n",
              "      <th>3</th>\n",
              "      <td>Toronto Blue Jays</td>\n",
              "      <td>73</td>\n",
              "      <td>89</td>\n",
              "      <td>0.451</td>\n",
              "      <td>35.0</td>\n",
              "      <td>2018</td>\n",
              "      <td>MLB</td>\n",
              "    </tr>\n",
              "    <tr>\n",
              "      <th>4</th>\n",
              "      <td>Baltimore Orioles</td>\n",
              "      <td>47</td>\n",
              "      <td>115</td>\n",
              "      <td>0.290</td>\n",
              "      <td>61.0</td>\n",
              "      <td>2018</td>\n",
              "      <td>MLB</td>\n",
              "    </tr>\n",
              "  </tbody>\n",
              "</table>\n",
              "</div>"
            ],
            "text/plain": [
              "                team    W    L   W-L%    GB  year League\n",
              "0     Boston Red Sox  108   54  0.667    --  2018    MLB\n",
              "1   New York Yankees  100   62  0.617   8.0  2018    MLB\n",
              "2     Tampa Bay Rays   90   72  0.556  18.0  2018    MLB\n",
              "3  Toronto Blue Jays   73   89  0.451  35.0  2018    MLB\n",
              "4  Baltimore Orioles   47  115  0.290  61.0  2018    MLB"
            ]
          },
          "metadata": {
            "tags": []
          },
          "execution_count": 77
        }
      ]
    },
    {
      "cell_type": "code",
      "metadata": {
        "id": "0GbVi_ODeTJZ"
      },
      "source": [
        "cols = ['team', 'W', 'L', 'year']\n",
        "mlb_df = mlb_df[cols]"
      ],
      "execution_count": 85,
      "outputs": []
    },
    {
      "cell_type": "code",
      "metadata": {
        "colab": {
          "base_uri": "https://localhost:8080/"
        },
        "id": "T1MQZqzIHOnl",
        "outputId": "d7a3c94c-103e-49c2-d117-f11febdf3a14"
      },
      "source": [
        "mlb_df.dtypes"
      ],
      "execution_count": 78,
      "outputs": [
        {
          "output_type": "execute_result",
          "data": {
            "text/plain": [
              "team       object\n",
              "W           int64\n",
              "L           int64\n",
              "W-L%      float64\n",
              "GB         object\n",
              "year        int64\n",
              "League     object\n",
              "dtype: object"
            ]
          },
          "metadata": {
            "tags": []
          },
          "execution_count": 78
        }
      ]
    },
    {
      "cell_type": "code",
      "metadata": {
        "id": "vC4aDuRFHq9-"
      },
      "source": [
        "region_mapping = {}\n",
        "def test_run(row):\n",
        "    teams = row['MLB']\n",
        "    if isinstance(teams, str):\n",
        "        res = re.findall(r'([A-Z]{1,1}[a-z]+)', teams)\n",
        "        if res:\n",
        "            for team in res:\n",
        "                region_mapping[team] = row['Metropolitan area']\n",
        "        else:\n",
        "            region_mapping[teams] = row['Metropolitan area']\n",
        "    return row"
      ],
      "execution_count": 79,
      "outputs": []
    },
    {
      "cell_type": "code",
      "metadata": {
        "id": "kxdbDrBWJIcc"
      },
      "source": [
        "cities.apply(test_run, axis=1);"
      ],
      "execution_count": 80,
      "outputs": []
    },
    {
      "cell_type": "code",
      "metadata": {
        "colab": {
          "base_uri": "https://localhost:8080/"
        },
        "id": "msw-kbmaJOLp",
        "outputId": "a39f1608-b238-4afe-eea4-22ddbef87816"
      },
      "source": [
        "region_mapping"
      ],
      "execution_count": 81,
      "outputs": [
        {
          "output_type": "execute_result",
          "data": {
            "text/plain": [
              "{'Angels': 'Los Angeles',\n",
              " 'Astros': 'Houston',\n",
              " 'Athletics': 'San Francisco Bay Area',\n",
              " 'Blue': 'Toronto',\n",
              " 'Braves': 'Atlanta',\n",
              " 'Brewers': 'Milwaukee',\n",
              " 'Cardinals': 'St. Louis',\n",
              " 'Cubs': 'Chicago',\n",
              " 'Diamondbacks': 'Phoenix',\n",
              " 'Dodgers': 'Los Angeles',\n",
              " 'Giants': 'San Francisco Bay Area',\n",
              " 'Indians': 'Cleveland',\n",
              " 'Jays': 'Toronto',\n",
              " 'Mariners': 'Seattle',\n",
              " 'Marlins': 'Miami–Fort Lauderdale',\n",
              " 'Mets': 'New York City',\n",
              " 'Nationals': 'Washington, D.C.',\n",
              " 'Orioles': 'Baltimore',\n",
              " 'Padres': 'San Diego',\n",
              " 'Phillies': 'Philadelphia',\n",
              " 'Pirates': 'Pittsburgh',\n",
              " 'Rangers': 'Dallas–Fort Worth',\n",
              " 'Rays': 'Tampa Bay Area',\n",
              " 'Red': 'Boston',\n",
              " 'Reds': 'Cincinnati',\n",
              " 'Rockies': 'Denver',\n",
              " 'Royals': 'Kansas City',\n",
              " 'Sox': 'Boston',\n",
              " 'Tigers': 'Detroit',\n",
              " 'Twins': 'Minneapolis–Saint Paul',\n",
              " 'White': 'Chicago',\n",
              " 'Yankees': 'New York City',\n",
              " '—': 'Regina'}"
            ]
          },
          "metadata": {
            "tags": []
          },
          "execution_count": 81
        }
      ]
    },
    {
      "cell_type": "code",
      "metadata": {
        "id": "EDqpqhluJV0Z"
      },
      "source": [
        "def create_region(row):\n",
        "    names = row['team'].split()\n",
        "    if names[-1] in region_mapping:\n",
        "        if 'Sox' in names:\n",
        "            return region_mapping[names[-2]]\n",
        "            \n",
        "        return region_mapping[names[-1]]\n",
        "\n",
        "mlb_df['Metropolitan area'] = mlb_df.apply(create_region, axis=1)"
      ],
      "execution_count": 87,
      "outputs": []
    },
    {
      "cell_type": "code",
      "metadata": {
        "colab": {
          "base_uri": "https://localhost:8080/",
          "height": 204
        },
        "id": "EYluWeeOuAxm",
        "outputId": "0236dd55-0a99-42c3-bb74-cfe691207e26"
      },
      "source": [
        "mlb_df.head()"
      ],
      "execution_count": 88,
      "outputs": [
        {
          "output_type": "execute_result",
          "data": {
            "text/html": [
              "<div>\n",
              "<style scoped>\n",
              "    .dataframe tbody tr th:only-of-type {\n",
              "        vertical-align: middle;\n",
              "    }\n",
              "\n",
              "    .dataframe tbody tr th {\n",
              "        vertical-align: top;\n",
              "    }\n",
              "\n",
              "    .dataframe thead th {\n",
              "        text-align: right;\n",
              "    }\n",
              "</style>\n",
              "<table border=\"1\" class=\"dataframe\">\n",
              "  <thead>\n",
              "    <tr style=\"text-align: right;\">\n",
              "      <th></th>\n",
              "      <th>team</th>\n",
              "      <th>W</th>\n",
              "      <th>L</th>\n",
              "      <th>year</th>\n",
              "      <th>Metropolitan area</th>\n",
              "    </tr>\n",
              "  </thead>\n",
              "  <tbody>\n",
              "    <tr>\n",
              "      <th>0</th>\n",
              "      <td>Boston Red Sox</td>\n",
              "      <td>108</td>\n",
              "      <td>54</td>\n",
              "      <td>2018</td>\n",
              "      <td>Boston</td>\n",
              "    </tr>\n",
              "    <tr>\n",
              "      <th>1</th>\n",
              "      <td>New York Yankees</td>\n",
              "      <td>100</td>\n",
              "      <td>62</td>\n",
              "      <td>2018</td>\n",
              "      <td>New York City</td>\n",
              "    </tr>\n",
              "    <tr>\n",
              "      <th>2</th>\n",
              "      <td>Tampa Bay Rays</td>\n",
              "      <td>90</td>\n",
              "      <td>72</td>\n",
              "      <td>2018</td>\n",
              "      <td>Tampa Bay Area</td>\n",
              "    </tr>\n",
              "    <tr>\n",
              "      <th>3</th>\n",
              "      <td>Toronto Blue Jays</td>\n",
              "      <td>73</td>\n",
              "      <td>89</td>\n",
              "      <td>2018</td>\n",
              "      <td>Toronto</td>\n",
              "    </tr>\n",
              "    <tr>\n",
              "      <th>4</th>\n",
              "      <td>Baltimore Orioles</td>\n",
              "      <td>47</td>\n",
              "      <td>115</td>\n",
              "      <td>2018</td>\n",
              "      <td>Baltimore</td>\n",
              "    </tr>\n",
              "  </tbody>\n",
              "</table>\n",
              "</div>"
            ],
            "text/plain": [
              "                team    W    L  year Metropolitan area\n",
              "0     Boston Red Sox  108   54  2018            Boston\n",
              "1   New York Yankees  100   62  2018     New York City\n",
              "2     Tampa Bay Rays   90   72  2018    Tampa Bay Area\n",
              "3  Toronto Blue Jays   73   89  2018           Toronto\n",
              "4  Baltimore Orioles   47  115  2018         Baltimore"
            ]
          },
          "metadata": {
            "tags": []
          },
          "execution_count": 88
        }
      ]
    },
    {
      "cell_type": "code",
      "metadata": {
        "id": "3SOQan6vJwCv"
      },
      "source": [
        "mlb_df['W/L'] = mlb_df['W'] / (mlb_df['W'] + mlb_df['L'])"
      ],
      "execution_count": 89,
      "outputs": []
    },
    {
      "cell_type": "code",
      "metadata": {
        "id": "Z9iUxAAiJxt1"
      },
      "source": [
        "combined_df = pd.merge(cities, mlb_df, how='inner', on='Metropolitan area')"
      ],
      "execution_count": 90,
      "outputs": []
    },
    {
      "cell_type": "code",
      "metadata": {
        "colab": {
          "base_uri": "https://localhost:8080/",
          "height": 235
        },
        "id": "wPFMdT-1KqhI",
        "outputId": "2fc556df-ca76-48b9-a1fc-d9847e091717"
      },
      "source": [
        "regions_mlb = combined_df.groupby('Metropolitan area').mean()\n",
        "regions_mlb.head()"
      ],
      "execution_count": 91,
      "outputs": [
        {
          "output_type": "execute_result",
          "data": {
            "text/html": [
              "<div>\n",
              "<style scoped>\n",
              "    .dataframe tbody tr th:only-of-type {\n",
              "        vertical-align: middle;\n",
              "    }\n",
              "\n",
              "    .dataframe tbody tr th {\n",
              "        vertical-align: top;\n",
              "    }\n",
              "\n",
              "    .dataframe thead th {\n",
              "        text-align: right;\n",
              "    }\n",
              "</style>\n",
              "<table border=\"1\" class=\"dataframe\">\n",
              "  <thead>\n",
              "    <tr style=\"text-align: right;\">\n",
              "      <th></th>\n",
              "      <th>Population</th>\n",
              "      <th>W</th>\n",
              "      <th>L</th>\n",
              "      <th>year</th>\n",
              "      <th>W/L</th>\n",
              "    </tr>\n",
              "    <tr>\n",
              "      <th>Metropolitan area</th>\n",
              "      <th></th>\n",
              "      <th></th>\n",
              "      <th></th>\n",
              "      <th></th>\n",
              "      <th></th>\n",
              "    </tr>\n",
              "  </thead>\n",
              "  <tbody>\n",
              "    <tr>\n",
              "      <th>Atlanta</th>\n",
              "      <td>5789700.0</td>\n",
              "      <td>90.0</td>\n",
              "      <td>72.0</td>\n",
              "      <td>2018.0</td>\n",
              "      <td>0.555556</td>\n",
              "    </tr>\n",
              "    <tr>\n",
              "      <th>Baltimore</th>\n",
              "      <td>2798886.0</td>\n",
              "      <td>47.0</td>\n",
              "      <td>115.0</td>\n",
              "      <td>2018.0</td>\n",
              "      <td>0.290123</td>\n",
              "    </tr>\n",
              "    <tr>\n",
              "      <th>Boston</th>\n",
              "      <td>4794447.0</td>\n",
              "      <td>108.0</td>\n",
              "      <td>54.0</td>\n",
              "      <td>2018.0</td>\n",
              "      <td>0.666667</td>\n",
              "    </tr>\n",
              "    <tr>\n",
              "      <th>Chicago</th>\n",
              "      <td>9512999.0</td>\n",
              "      <td>78.5</td>\n",
              "      <td>84.0</td>\n",
              "      <td>2018.0</td>\n",
              "      <td>0.482769</td>\n",
              "    </tr>\n",
              "    <tr>\n",
              "      <th>Cincinnati</th>\n",
              "      <td>2165139.0</td>\n",
              "      <td>67.0</td>\n",
              "      <td>95.0</td>\n",
              "      <td>2018.0</td>\n",
              "      <td>0.413580</td>\n",
              "    </tr>\n",
              "  </tbody>\n",
              "</table>\n",
              "</div>"
            ],
            "text/plain": [
              "                   Population      W      L    year       W/L\n",
              "Metropolitan area                                            \n",
              "Atlanta             5789700.0   90.0   72.0  2018.0  0.555556\n",
              "Baltimore           2798886.0   47.0  115.0  2018.0  0.290123\n",
              "Boston              4794447.0  108.0   54.0  2018.0  0.666667\n",
              "Chicago             9512999.0   78.5   84.0  2018.0  0.482769\n",
              "Cincinnati          2165139.0   67.0   95.0  2018.0  0.413580"
            ]
          },
          "metadata": {
            "tags": []
          },
          "execution_count": 91
        }
      ]
    },
    {
      "cell_type": "code",
      "metadata": {
        "colab": {
          "base_uri": "https://localhost:8080/",
          "height": 307
        },
        "id": "gK0NqpE4ewTw",
        "outputId": "8064ad96-8f34-4a3c-bdfc-f560b7027528"
      },
      "source": [
        "sns.scatterplot(x='W/L', y='Population', data=regions_mlb)"
      ],
      "execution_count": 92,
      "outputs": [
        {
          "output_type": "execute_result",
          "data": {
            "text/plain": [
              "<matplotlib.axes._subplots.AxesSubplot at 0x7f468f038350>"
            ]
          },
          "metadata": {
            "tags": []
          },
          "execution_count": 92
        },
        {
          "output_type": "display_data",
          "data": {
            "image/png": "[encoded data removed]",
            "text/plain": [
              "<Figure size 432x288 with 1 Axes>"
            ]
          },
          "metadata": {
            "tags": [],
            "needs_background": "light"
          }
        }
      ]
    },
    {
      "cell_type": "code",
      "metadata": {
        "colab": {
          "base_uri": "https://localhost:8080/"
        },
        "id": "s6Hp4MWwLIJ3",
        "outputId": "3e6f0531-4e1d-462b-a61b-52db3b23994f"
      },
      "source": [
        "stats.pearsonr(regions['Population'], regions['W/L'])"
      ],
      "execution_count": 93,
      "outputs": [
        {
          "output_type": "execute_result",
          "data": {
            "text/plain": [
              "(0.012486162921209907, 0.9497182859911791)"
            ]
          },
          "metadata": {
            "tags": []
          },
          "execution_count": 93
        }
      ]
    },
    {
      "cell_type": "markdown",
      "metadata": {
        "id": "VEkrradje95i"
      },
      "source": [
        "# Now the last NFL Dataset"
      ]
    },
    {
      "cell_type": "code",
      "metadata": {
        "colab": {
          "base_uri": "https://localhost:8080/"
        },
        "id": "Hh1wjkmOS93c",
        "outputId": "17acf734-3bc4-435f-fdaf-30d3951a0696"
      },
      "source": [
        "nfl_df = pd.read_csv('nfl.csv')\n",
        "nfl_df.dtypes"
      ],
      "execution_count": 94,
      "outputs": [
        {
          "output_type": "execute_result",
          "data": {
            "text/plain": [
              "DSRS      object\n",
              "L         object\n",
              "League    object\n",
              "MoV       object\n",
              "OSRS      object\n",
              "PA        object\n",
              "PD        object\n",
              "PF        object\n",
              "SRS       object\n",
              "SoS       object\n",
              "T         object\n",
              "W         object\n",
              "W-L%      object\n",
              "team      object\n",
              "year       int64\n",
              "dtype: object"
            ]
          },
          "metadata": {
            "tags": []
          },
          "execution_count": 94
        }
      ]
    },
    {
      "cell_type": "code",
      "metadata": {
        "id": "xcyqOZIRwmlc",
        "colab": {
          "base_uri": "https://localhost:8080/",
          "height": 204
        },
        "outputId": "cb7c1550-6a28-40a8-e15e-c8d693b8681c"
      },
      "source": [
        "nfl_df = nfl_df[nfl_df['year'] == 2018]\n",
        "cols = ['team', 'W', 'L', 'year']\n",
        "nfl_df = nfl_df[cols]\n",
        "nfl_df.head()"
      ],
      "execution_count": 95,
      "outputs": [
        {
          "output_type": "execute_result",
          "data": {
            "text/html": [
              "<div>\n",
              "<style scoped>\n",
              "    .dataframe tbody tr th:only-of-type {\n",
              "        vertical-align: middle;\n",
              "    }\n",
              "\n",
              "    .dataframe tbody tr th {\n",
              "        vertical-align: top;\n",
              "    }\n",
              "\n",
              "    .dataframe thead th {\n",
              "        text-align: right;\n",
              "    }\n",
              "</style>\n",
              "<table border=\"1\" class=\"dataframe\">\n",
              "  <thead>\n",
              "    <tr style=\"text-align: right;\">\n",
              "      <th></th>\n",
              "      <th>team</th>\n",
              "      <th>W</th>\n",
              "      <th>L</th>\n",
              "      <th>year</th>\n",
              "    </tr>\n",
              "  </thead>\n",
              "  <tbody>\n",
              "    <tr>\n",
              "      <th>0</th>\n",
              "      <td>AFC East</td>\n",
              "      <td>AFC East</td>\n",
              "      <td>AFC East</td>\n",
              "      <td>2018</td>\n",
              "    </tr>\n",
              "    <tr>\n",
              "      <th>1</th>\n",
              "      <td>New England Patriots*</td>\n",
              "      <td>11</td>\n",
              "      <td>5</td>\n",
              "      <td>2018</td>\n",
              "    </tr>\n",
              "    <tr>\n",
              "      <th>2</th>\n",
              "      <td>Miami Dolphins</td>\n",
              "      <td>7</td>\n",
              "      <td>9</td>\n",
              "      <td>2018</td>\n",
              "    </tr>\n",
              "    <tr>\n",
              "      <th>3</th>\n",
              "      <td>Buffalo Bills</td>\n",
              "      <td>6</td>\n",
              "      <td>10</td>\n",
              "      <td>2018</td>\n",
              "    </tr>\n",
              "    <tr>\n",
              "      <th>4</th>\n",
              "      <td>New York Jets</td>\n",
              "      <td>4</td>\n",
              "      <td>12</td>\n",
              "      <td>2018</td>\n",
              "    </tr>\n",
              "  </tbody>\n",
              "</table>\n",
              "</div>"
            ],
            "text/plain": [
              "                    team         W         L  year\n",
              "0               AFC East  AFC East  AFC East  2018\n",
              "1  New England Patriots*        11         5  2018\n",
              "2         Miami Dolphins         7         9  2018\n",
              "3          Buffalo Bills         6        10  2018\n",
              "4          New York Jets         4        12  2018"
            ]
          },
          "metadata": {
            "tags": []
          },
          "execution_count": 95
        }
      ]
    },
    {
      "cell_type": "code",
      "metadata": {
        "id": "wKAoM-S1w7Jy",
        "colab": {
          "base_uri": "https://localhost:8080/",
          "height": 204
        },
        "outputId": "0172ffa6-c18a-40ec-e703-a4a2146add2f"
      },
      "source": [
        "# removing unnecessary rows\n",
        "mask = nfl_df['W'].str.isdigit()\n",
        "nfl_df = nfl_df[mask]\n",
        "nfl_df.head()"
      ],
      "execution_count": 96,
      "outputs": [
        {
          "output_type": "execute_result",
          "data": {
            "text/html": [
              "<div>\n",
              "<style scoped>\n",
              "    .dataframe tbody tr th:only-of-type {\n",
              "        vertical-align: middle;\n",
              "    }\n",
              "\n",
              "    .dataframe tbody tr th {\n",
              "        vertical-align: top;\n",
              "    }\n",
              "\n",
              "    .dataframe thead th {\n",
              "        text-align: right;\n",
              "    }\n",
              "</style>\n",
              "<table border=\"1\" class=\"dataframe\">\n",
              "  <thead>\n",
              "    <tr style=\"text-align: right;\">\n",
              "      <th></th>\n",
              "      <th>team</th>\n",
              "      <th>W</th>\n",
              "      <th>L</th>\n",
              "      <th>year</th>\n",
              "    </tr>\n",
              "  </thead>\n",
              "  <tbody>\n",
              "    <tr>\n",
              "      <th>1</th>\n",
              "      <td>New England Patriots*</td>\n",
              "      <td>11</td>\n",
              "      <td>5</td>\n",
              "      <td>2018</td>\n",
              "    </tr>\n",
              "    <tr>\n",
              "      <th>2</th>\n",
              "      <td>Miami Dolphins</td>\n",
              "      <td>7</td>\n",
              "      <td>9</td>\n",
              "      <td>2018</td>\n",
              "    </tr>\n",
              "    <tr>\n",
              "      <th>3</th>\n",
              "      <td>Buffalo Bills</td>\n",
              "      <td>6</td>\n",
              "      <td>10</td>\n",
              "      <td>2018</td>\n",
              "    </tr>\n",
              "    <tr>\n",
              "      <th>4</th>\n",
              "      <td>New York Jets</td>\n",
              "      <td>4</td>\n",
              "      <td>12</td>\n",
              "      <td>2018</td>\n",
              "    </tr>\n",
              "    <tr>\n",
              "      <th>6</th>\n",
              "      <td>Baltimore Ravens*</td>\n",
              "      <td>10</td>\n",
              "      <td>6</td>\n",
              "      <td>2018</td>\n",
              "    </tr>\n",
              "  </tbody>\n",
              "</table>\n",
              "</div>"
            ],
            "text/plain": [
              "                    team   W   L  year\n",
              "1  New England Patriots*  11   5  2018\n",
              "2         Miami Dolphins   7   9  2018\n",
              "3          Buffalo Bills   6  10  2018\n",
              "4          New York Jets   4  12  2018\n",
              "6      Baltimore Ravens*  10   6  2018"
            ]
          },
          "metadata": {
            "tags": []
          },
          "execution_count": 96
        }
      ]
    },
    {
      "cell_type": "code",
      "metadata": {
        "id": "AGwo1FnqxAqk"
      },
      "source": [
        "nfl_df['team'] = nfl_df['team'].str.replace('*', '').str.replace('+', '')"
      ],
      "execution_count": 97,
      "outputs": []
    },
    {
      "cell_type": "code",
      "metadata": {
        "colab": {
          "base_uri": "https://localhost:8080/",
          "height": 204
        },
        "id": "bFg66E1xxvxg",
        "outputId": "2a02ca67-878b-4a88-9f03-60f70dcda241"
      },
      "source": [
        "nfl_df.head()"
      ],
      "execution_count": 98,
      "outputs": [
        {
          "output_type": "execute_result",
          "data": {
            "text/html": [
              "<div>\n",
              "<style scoped>\n",
              "    .dataframe tbody tr th:only-of-type {\n",
              "        vertical-align: middle;\n",
              "    }\n",
              "\n",
              "    .dataframe tbody tr th {\n",
              "        vertical-align: top;\n",
              "    }\n",
              "\n",
              "    .dataframe thead th {\n",
              "        text-align: right;\n",
              "    }\n",
              "</style>\n",
              "<table border=\"1\" class=\"dataframe\">\n",
              "  <thead>\n",
              "    <tr style=\"text-align: right;\">\n",
              "      <th></th>\n",
              "      <th>team</th>\n",
              "      <th>W</th>\n",
              "      <th>L</th>\n",
              "      <th>year</th>\n",
              "    </tr>\n",
              "  </thead>\n",
              "  <tbody>\n",
              "    <tr>\n",
              "      <th>1</th>\n",
              "      <td>New England Patriots</td>\n",
              "      <td>11</td>\n",
              "      <td>5</td>\n",
              "      <td>2018</td>\n",
              "    </tr>\n",
              "    <tr>\n",
              "      <th>2</th>\n",
              "      <td>Miami Dolphins</td>\n",
              "      <td>7</td>\n",
              "      <td>9</td>\n",
              "      <td>2018</td>\n",
              "    </tr>\n",
              "    <tr>\n",
              "      <th>3</th>\n",
              "      <td>Buffalo Bills</td>\n",
              "      <td>6</td>\n",
              "      <td>10</td>\n",
              "      <td>2018</td>\n",
              "    </tr>\n",
              "    <tr>\n",
              "      <th>4</th>\n",
              "      <td>New York Jets</td>\n",
              "      <td>4</td>\n",
              "      <td>12</td>\n",
              "      <td>2018</td>\n",
              "    </tr>\n",
              "    <tr>\n",
              "      <th>6</th>\n",
              "      <td>Baltimore Ravens</td>\n",
              "      <td>10</td>\n",
              "      <td>6</td>\n",
              "      <td>2018</td>\n",
              "    </tr>\n",
              "  </tbody>\n",
              "</table>\n",
              "</div>"
            ],
            "text/plain": [
              "                   team   W   L  year\n",
              "1  New England Patriots  11   5  2018\n",
              "2        Miami Dolphins   7   9  2018\n",
              "3         Buffalo Bills   6  10  2018\n",
              "4         New York Jets   4  12  2018\n",
              "6      Baltimore Ravens  10   6  2018"
            ]
          },
          "metadata": {
            "tags": []
          },
          "execution_count": 98
        }
      ]
    },
    {
      "cell_type": "code",
      "metadata": {
        "id": "pP-l4BmFyQNs"
      },
      "source": [
        "region_mapping = {}\n",
        "def test_run(row):\n",
        "    teams = row['NFL']\n",
        "    if isinstance(teams, str):\n",
        "        res = re.findall(r'([A-Z]{1,1}[a-z]+)', teams)\n",
        "        if res:\n",
        "            for team in res:\n",
        "                region_mapping[team] = row['Metropolitan area']\n",
        "        else:\n",
        "            region_mapping[teams] = row['Metropolitan area']\n",
        "    return row"
      ],
      "execution_count": 101,
      "outputs": []
    },
    {
      "cell_type": "code",
      "metadata": {
        "id": "eWYaZ3GHyvqC"
      },
      "source": [
        "cities.apply(test_run, axis=1);"
      ],
      "execution_count": 102,
      "outputs": []
    },
    {
      "cell_type": "code",
      "metadata": {
        "colab": {
          "base_uri": "https://localhost:8080/"
        },
        "id": "70NjnRGVyp18",
        "outputId": "44f9ec63-e14c-4c60-944e-094f145828d4"
      },
      "source": [
        "len(region_mapping), region_mapping"
      ],
      "execution_count": 103,
      "outputs": [
        {
          "output_type": "execute_result",
          "data": {
            "text/plain": [
              "(36,\n",
              " {'49ers': 'San Francisco Bay Area',\n",
              "  'Bears': 'Chicago',\n",
              "  'Bengals': 'Cincinnati',\n",
              "  'Bills': 'Buffalo',\n",
              "  'Broncos': 'Denver',\n",
              "  'Browns': 'Cleveland',\n",
              "  'Buccaneers': 'Tampa Bay Area',\n",
              "  'Cardinals': 'Phoenix',\n",
              "  'Chargers': 'Los Angeles',\n",
              "  'Chiefs': 'Kansas City',\n",
              "  'Colts': 'Indianapolis',\n",
              "  'Cowboys': 'Dallas–Fort Worth',\n",
              "  'Dolphins': 'Miami–Fort Lauderdale',\n",
              "  'Eagles': 'Philadelphia',\n",
              "  'Falcons': 'Atlanta',\n",
              "  'Football': 'Washington, D.C.',\n",
              "  'Giants': 'New York City',\n",
              "  'Jaguars': 'Jacksonville',\n",
              "  'Jets': 'New York City',\n",
              "  'Lions': 'Detroit',\n",
              "  'Packers': 'Green Bay',\n",
              "  'Panthers': 'Charlotte',\n",
              "  'Patriots': 'Boston',\n",
              "  'Raiders': 'Las Vegas',\n",
              "  'Rams': 'Los Angeles',\n",
              "  'Ravens': 'Baltimore',\n",
              "  'Saints': 'New Orleans',\n",
              "  'Seahawks': 'Seattle',\n",
              "  'Steelers': 'Pittsburgh',\n",
              "  'Team': 'Washington, D.C.',\n",
              "  'Texans': 'Houston',\n",
              "  'Titans': 'Nashville',\n",
              "  'Vikings': 'Minneapolis–Saint Paul',\n",
              "  'Washington': 'Washington, D.C.',\n",
              "  '—': 'Regina',\n",
              "  '— ': 'Toronto'})"
            ]
          },
          "metadata": {
            "tags": []
          },
          "execution_count": 103
        }
      ]
    },
    {
      "cell_type": "code",
      "metadata": {
        "id": "MZXr-gp_y1Ax"
      },
      "source": [
        "def create_region(row):\n",
        "    names = row['team'].split()\n",
        "    if names[-1] in region_mapping:\n",
        "        return region_mapping[names[-1]]"
      ],
      "execution_count": 104,
      "outputs": []
    },
    {
      "cell_type": "code",
      "metadata": {
        "id": "5SRWxARmz2Hv"
      },
      "source": [
        "nfl_df['Metropolitan area'] = nfl_df.apply(create_region, axis=1)"
      ],
      "execution_count": 105,
      "outputs": []
    },
    {
      "cell_type": "code",
      "metadata": {
        "colab": {
          "base_uri": "https://localhost:8080/",
          "height": 204
        },
        "id": "fdduv4Atz5pg",
        "outputId": "70e6f8a1-9303-4ec0-ad43-9d0c25fc288e"
      },
      "source": [
        "nfl_df.head()"
      ],
      "execution_count": 106,
      "outputs": [
        {
          "output_type": "execute_result",
          "data": {
            "text/html": [
              "<div>\n",
              "<style scoped>\n",
              "    .dataframe tbody tr th:only-of-type {\n",
              "        vertical-align: middle;\n",
              "    }\n",
              "\n",
              "    .dataframe tbody tr th {\n",
              "        vertical-align: top;\n",
              "    }\n",
              "\n",
              "    .dataframe thead th {\n",
              "        text-align: right;\n",
              "    }\n",
              "</style>\n",
              "<table border=\"1\" class=\"dataframe\">\n",
              "  <thead>\n",
              "    <tr style=\"text-align: right;\">\n",
              "      <th></th>\n",
              "      <th>team</th>\n",
              "      <th>W</th>\n",
              "      <th>L</th>\n",
              "      <th>year</th>\n",
              "      <th>Metropolitan area</th>\n",
              "    </tr>\n",
              "  </thead>\n",
              "  <tbody>\n",
              "    <tr>\n",
              "      <th>1</th>\n",
              "      <td>New England Patriots</td>\n",
              "      <td>11</td>\n",
              "      <td>5</td>\n",
              "      <td>2018</td>\n",
              "      <td>Boston</td>\n",
              "    </tr>\n",
              "    <tr>\n",
              "      <th>2</th>\n",
              "      <td>Miami Dolphins</td>\n",
              "      <td>7</td>\n",
              "      <td>9</td>\n",
              "      <td>2018</td>\n",
              "      <td>Miami–Fort Lauderdale</td>\n",
              "    </tr>\n",
              "    <tr>\n",
              "      <th>3</th>\n",
              "      <td>Buffalo Bills</td>\n",
              "      <td>6</td>\n",
              "      <td>10</td>\n",
              "      <td>2018</td>\n",
              "      <td>Buffalo</td>\n",
              "    </tr>\n",
              "    <tr>\n",
              "      <th>4</th>\n",
              "      <td>New York Jets</td>\n",
              "      <td>4</td>\n",
              "      <td>12</td>\n",
              "      <td>2018</td>\n",
              "      <td>New York City</td>\n",
              "    </tr>\n",
              "    <tr>\n",
              "      <th>6</th>\n",
              "      <td>Baltimore Ravens</td>\n",
              "      <td>10</td>\n",
              "      <td>6</td>\n",
              "      <td>2018</td>\n",
              "      <td>Baltimore</td>\n",
              "    </tr>\n",
              "  </tbody>\n",
              "</table>\n",
              "</div>"
            ],
            "text/plain": [
              "                   team   W   L  year      Metropolitan area\n",
              "1  New England Patriots  11   5  2018                 Boston\n",
              "2        Miami Dolphins   7   9  2018  Miami–Fort Lauderdale\n",
              "3         Buffalo Bills   6  10  2018                Buffalo\n",
              "4         New York Jets   4  12  2018          New York City\n",
              "6      Baltimore Ravens  10   6  2018              Baltimore"
            ]
          },
          "metadata": {
            "tags": []
          },
          "execution_count": 106
        }
      ]
    },
    {
      "cell_type": "code",
      "metadata": {
        "id": "uOw4qldwz7QY"
      },
      "source": [
        "nfl_df = nfl_df.astype({'W': int, 'L': int})"
      ],
      "execution_count": 107,
      "outputs": []
    },
    {
      "cell_type": "code",
      "metadata": {
        "id": "XvYSKJRB0Kkl"
      },
      "source": [
        "nfl_df['W/L'] = nfl_df['W'] / (nfl_df['W'] + nfl_df['L'])"
      ],
      "execution_count": 108,
      "outputs": []
    },
    {
      "cell_type": "code",
      "metadata": {
        "colab": {
          "base_uri": "https://localhost:8080/",
          "height": 204
        },
        "id": "CKeXgwuA0vwl",
        "outputId": "ab2b2120-8c2c-4101-ba06-c98e873437d4"
      },
      "source": [
        "nfl_df.head()"
      ],
      "execution_count": 109,
      "outputs": [
        {
          "output_type": "execute_result",
          "data": {
            "text/html": [
              "<div>\n",
              "<style scoped>\n",
              "    .dataframe tbody tr th:only-of-type {\n",
              "        vertical-align: middle;\n",
              "    }\n",
              "\n",
              "    .dataframe tbody tr th {\n",
              "        vertical-align: top;\n",
              "    }\n",
              "\n",
              "    .dataframe thead th {\n",
              "        text-align: right;\n",
              "    }\n",
              "</style>\n",
              "<table border=\"1\" class=\"dataframe\">\n",
              "  <thead>\n",
              "    <tr style=\"text-align: right;\">\n",
              "      <th></th>\n",
              "      <th>team</th>\n",
              "      <th>W</th>\n",
              "      <th>L</th>\n",
              "      <th>year</th>\n",
              "      <th>Metropolitan area</th>\n",
              "      <th>W/L</th>\n",
              "    </tr>\n",
              "  </thead>\n",
              "  <tbody>\n",
              "    <tr>\n",
              "      <th>1</th>\n",
              "      <td>New England Patriots</td>\n",
              "      <td>11</td>\n",
              "      <td>5</td>\n",
              "      <td>2018</td>\n",
              "      <td>Boston</td>\n",
              "      <td>0.6875</td>\n",
              "    </tr>\n",
              "    <tr>\n",
              "      <th>2</th>\n",
              "      <td>Miami Dolphins</td>\n",
              "      <td>7</td>\n",
              "      <td>9</td>\n",
              "      <td>2018</td>\n",
              "      <td>Miami–Fort Lauderdale</td>\n",
              "      <td>0.4375</td>\n",
              "    </tr>\n",
              "    <tr>\n",
              "      <th>3</th>\n",
              "      <td>Buffalo Bills</td>\n",
              "      <td>6</td>\n",
              "      <td>10</td>\n",
              "      <td>2018</td>\n",
              "      <td>Buffalo</td>\n",
              "      <td>0.3750</td>\n",
              "    </tr>\n",
              "    <tr>\n",
              "      <th>4</th>\n",
              "      <td>New York Jets</td>\n",
              "      <td>4</td>\n",
              "      <td>12</td>\n",
              "      <td>2018</td>\n",
              "      <td>New York City</td>\n",
              "      <td>0.2500</td>\n",
              "    </tr>\n",
              "    <tr>\n",
              "      <th>6</th>\n",
              "      <td>Baltimore Ravens</td>\n",
              "      <td>10</td>\n",
              "      <td>6</td>\n",
              "      <td>2018</td>\n",
              "      <td>Baltimore</td>\n",
              "      <td>0.6250</td>\n",
              "    </tr>\n",
              "  </tbody>\n",
              "</table>\n",
              "</div>"
            ],
            "text/plain": [
              "                   team   W   L  year      Metropolitan area     W/L\n",
              "1  New England Patriots  11   5  2018                 Boston  0.6875\n",
              "2        Miami Dolphins   7   9  2018  Miami–Fort Lauderdale  0.4375\n",
              "3         Buffalo Bills   6  10  2018                Buffalo  0.3750\n",
              "4         New York Jets   4  12  2018          New York City  0.2500\n",
              "6      Baltimore Ravens  10   6  2018              Baltimore  0.6250"
            ]
          },
          "metadata": {
            "tags": []
          },
          "execution_count": 109
        }
      ]
    },
    {
      "cell_type": "code",
      "metadata": {
        "id": "jSObGfFi0wyk"
      },
      "source": [
        "combined_df = pd.merge(cities, nfl_df, how='inner', on='Metropolitan area')\n",
        "regions_nfl = combined_df.groupby('Metropolitan area').mean()"
      ],
      "execution_count": 111,
      "outputs": []
    },
    {
      "cell_type": "code",
      "metadata": {
        "colab": {
          "base_uri": "https://localhost:8080/",
          "height": 307
        },
        "id": "ZAnGnroI08Kv",
        "outputId": "05cfbefd-080f-4fb3-ade5-49602b157736"
      },
      "source": [
        "sns.scatterplot(x='W/L', y='Population', data=regions_nfl)"
      ],
      "execution_count": 112,
      "outputs": [
        {
          "output_type": "execute_result",
          "data": {
            "text/plain": [
              "<matplotlib.axes._subplots.AxesSubplot at 0x7f468ecfea90>"
            ]
          },
          "metadata": {
            "tags": []
          },
          "execution_count": 112
        },
        {
          "output_type": "display_data",
          "data": {
            "image/png": "[encoded data removed]",
            "text/plain": [
              "<Figure size 432x288 with 1 Axes>"
            ]
          },
          "metadata": {
            "tags": [],
            "needs_background": "light"
          }
        }
      ]
    },
    {
      "cell_type": "code",
      "metadata": {
        "colab": {
          "base_uri": "https://localhost:8080/"
        },
        "id": "llTmVy1AUJum",
        "outputId": "5ef818e6-afb7-41fd-f549-9b57a95602b8"
      },
      "source": [
        "stats.pearsonr(regions_nfl['Population'], regions_nfl['W/L'])"
      ],
      "execution_count": 113,
      "outputs": [
        {
          "output_type": "execute_result",
          "data": {
            "text/plain": [
              "(0.040399329749847245, 0.8351727664570853)"
            ]
          },
          "metadata": {
            "tags": []
          },
          "execution_count": 113
        }
      ]
    },
    {
      "cell_type": "code",
      "metadata": {
        "colab": {
          "base_uri": "https://localhost:8080/",
          "height": 638
        },
        "id": "5KdTyUkuUbyU",
        "outputId": "2af50e00-e90a-4dd1-840a-4b54982a6820"
      },
      "source": [
        "region_nfl_nba = pd.merge(regions_nfl, regions_nba, how='inner', on='Metropolitan area')\n",
        "region_nfl_nba"
      ],
      "execution_count": null,
      "outputs": [
        {
          "output_type": "execute_result",
          "data": {
            "text/html": [
              "<div>\n",
              "<style scoped>\n",
              "    .dataframe tbody tr th:only-of-type {\n",
              "        vertical-align: middle;\n",
              "    }\n",
              "\n",
              "    .dataframe tbody tr th {\n",
              "        vertical-align: top;\n",
              "    }\n",
              "\n",
              "    .dataframe thead th {\n",
              "        text-align: right;\n",
              "    }\n",
              "</style>\n",
              "<table border=\"1\" class=\"dataframe\">\n",
              "  <thead>\n",
              "    <tr style=\"text-align: right;\">\n",
              "      <th></th>\n",
              "      <th>Population_x</th>\n",
              "      <th>L</th>\n",
              "      <th>W</th>\n",
              "      <th>year</th>\n",
              "      <th>W/L</th>\n",
              "      <th>W/l</th>\n",
              "      <th>Population_y</th>\n",
              "    </tr>\n",
              "    <tr>\n",
              "      <th>Metropolitan area</th>\n",
              "      <th></th>\n",
              "      <th></th>\n",
              "      <th></th>\n",
              "      <th></th>\n",
              "      <th></th>\n",
              "      <th></th>\n",
              "      <th></th>\n",
              "    </tr>\n",
              "  </thead>\n",
              "  <tbody>\n",
              "    <tr>\n",
              "      <th>Atlanta</th>\n",
              "      <td>5789700.0</td>\n",
              "      <td>9.0</td>\n",
              "      <td>7.0</td>\n",
              "      <td>2018.0</td>\n",
              "      <td>0.437500</td>\n",
              "      <td>0.292683</td>\n",
              "      <td>5789700</td>\n",
              "    </tr>\n",
              "    <tr>\n",
              "      <th>Boston</th>\n",
              "      <td>4794447.0</td>\n",
              "      <td>5.0</td>\n",
              "      <td>11.0</td>\n",
              "      <td>2018.0</td>\n",
              "      <td>0.687500</td>\n",
              "      <td>0.670732</td>\n",
              "      <td>4794447</td>\n",
              "    </tr>\n",
              "    <tr>\n",
              "      <th>Charlotte</th>\n",
              "      <td>2474314.0</td>\n",
              "      <td>9.0</td>\n",
              "      <td>7.0</td>\n",
              "      <td>2018.0</td>\n",
              "      <td>0.437500</td>\n",
              "      <td>0.439024</td>\n",
              "      <td>2474314</td>\n",
              "    </tr>\n",
              "    <tr>\n",
              "      <th>Chicago</th>\n",
              "      <td>9512999.0</td>\n",
              "      <td>4.0</td>\n",
              "      <td>12.0</td>\n",
              "      <td>2018.0</td>\n",
              "      <td>0.750000</td>\n",
              "      <td>0.329268</td>\n",
              "      <td>9512999</td>\n",
              "    </tr>\n",
              "    <tr>\n",
              "      <th>Cleveland</th>\n",
              "      <td>2055612.0</td>\n",
              "      <td>8.0</td>\n",
              "      <td>7.0</td>\n",
              "      <td>2018.0</td>\n",
              "      <td>0.466667</td>\n",
              "      <td>0.609756</td>\n",
              "      <td>2055612</td>\n",
              "    </tr>\n",
              "    <tr>\n",
              "      <th>Dallas–Fort Worth</th>\n",
              "      <td>7233323.0</td>\n",
              "      <td>6.0</td>\n",
              "      <td>10.0</td>\n",
              "      <td>2018.0</td>\n",
              "      <td>0.625000</td>\n",
              "      <td>0.292683</td>\n",
              "      <td>7233323</td>\n",
              "    </tr>\n",
              "    <tr>\n",
              "      <th>Denver</th>\n",
              "      <td>2853077.0</td>\n",
              "      <td>10.0</td>\n",
              "      <td>6.0</td>\n",
              "      <td>2018.0</td>\n",
              "      <td>0.375000</td>\n",
              "      <td>0.560976</td>\n",
              "      <td>2853077</td>\n",
              "    </tr>\n",
              "    <tr>\n",
              "      <th>Detroit</th>\n",
              "      <td>4297617.0</td>\n",
              "      <td>10.0</td>\n",
              "      <td>6.0</td>\n",
              "      <td>2018.0</td>\n",
              "      <td>0.375000</td>\n",
              "      <td>0.475610</td>\n",
              "      <td>4297617</td>\n",
              "    </tr>\n",
              "    <tr>\n",
              "      <th>Houston</th>\n",
              "      <td>6772470.0</td>\n",
              "      <td>5.0</td>\n",
              "      <td>11.0</td>\n",
              "      <td>2018.0</td>\n",
              "      <td>0.687500</td>\n",
              "      <td>0.792683</td>\n",
              "      <td>6772470</td>\n",
              "    </tr>\n",
              "    <tr>\n",
              "      <th>Indianapolis</th>\n",
              "      <td>2004230.0</td>\n",
              "      <td>6.0</td>\n",
              "      <td>10.0</td>\n",
              "      <td>2018.0</td>\n",
              "      <td>0.625000</td>\n",
              "      <td>0.585366</td>\n",
              "      <td>2004230</td>\n",
              "    </tr>\n",
              "    <tr>\n",
              "      <th>Los Angeles</th>\n",
              "      <td>13310447.0</td>\n",
              "      <td>3.5</td>\n",
              "      <td>12.5</td>\n",
              "      <td>2018.0</td>\n",
              "      <td>0.781250</td>\n",
              "      <td>0.469512</td>\n",
              "      <td>13310447</td>\n",
              "    </tr>\n",
              "    <tr>\n",
              "      <th>Miami–Fort Lauderdale</th>\n",
              "      <td>6066387.0</td>\n",
              "      <td>9.0</td>\n",
              "      <td>7.0</td>\n",
              "      <td>2018.0</td>\n",
              "      <td>0.437500</td>\n",
              "      <td>0.536585</td>\n",
              "      <td>6066387</td>\n",
              "    </tr>\n",
              "    <tr>\n",
              "      <th>Minneapolis–Saint Paul</th>\n",
              "      <td>3551036.0</td>\n",
              "      <td>7.0</td>\n",
              "      <td>8.0</td>\n",
              "      <td>2018.0</td>\n",
              "      <td>0.533333</td>\n",
              "      <td>0.573171</td>\n",
              "      <td>3551036</td>\n",
              "    </tr>\n",
              "    <tr>\n",
              "      <th>New Orleans</th>\n",
              "      <td>1268883.0</td>\n",
              "      <td>3.0</td>\n",
              "      <td>13.0</td>\n",
              "      <td>2018.0</td>\n",
              "      <td>0.812500</td>\n",
              "      <td>0.585366</td>\n",
              "      <td>1268883</td>\n",
              "    </tr>\n",
              "    <tr>\n",
              "      <th>New York City</th>\n",
              "      <td>20153634.0</td>\n",
              "      <td>11.5</td>\n",
              "      <td>4.5</td>\n",
              "      <td>2018.0</td>\n",
              "      <td>0.281250</td>\n",
              "      <td>0.347561</td>\n",
              "      <td>20153634</td>\n",
              "    </tr>\n",
              "    <tr>\n",
              "      <th>Philadelphia</th>\n",
              "      <td>6070500.0</td>\n",
              "      <td>7.0</td>\n",
              "      <td>9.0</td>\n",
              "      <td>2018.0</td>\n",
              "      <td>0.562500</td>\n",
              "      <td>0.634146</td>\n",
              "      <td>6070500</td>\n",
              "    </tr>\n",
              "    <tr>\n",
              "      <th>Phoenix</th>\n",
              "      <td>4661537.0</td>\n",
              "      <td>13.0</td>\n",
              "      <td>3.0</td>\n",
              "      <td>2018.0</td>\n",
              "      <td>0.187500</td>\n",
              "      <td>0.256098</td>\n",
              "      <td>4661537</td>\n",
              "    </tr>\n",
              "    <tr>\n",
              "      <th>San Francisco Bay Area</th>\n",
              "      <td>6657982.0</td>\n",
              "      <td>12.0</td>\n",
              "      <td>4.0</td>\n",
              "      <td>2018.0</td>\n",
              "      <td>0.250000</td>\n",
              "      <td>0.707317</td>\n",
              "      <td>6657982</td>\n",
              "    </tr>\n",
              "  </tbody>\n",
              "</table>\n",
              "</div>"
            ],
            "text/plain": [
              "                        Population_x     L  ...       W/l  Population_y\n",
              "Metropolitan area                           ...                        \n",
              "Atlanta                    5789700.0   9.0  ...  0.292683       5789700\n",
              "Boston                     4794447.0   5.0  ...  0.670732       4794447\n",
              "Charlotte                  2474314.0   9.0  ...  0.439024       2474314\n",
              "Chicago                    9512999.0   4.0  ...  0.329268       9512999\n",
              "Cleveland                  2055612.0   8.0  ...  0.609756       2055612\n",
              "Dallas–Fort Worth          7233323.0   6.0  ...  0.292683       7233323\n",
              "Denver                     2853077.0  10.0  ...  0.560976       2853077\n",
              "Detroit                    4297617.0  10.0  ...  0.475610       4297617\n",
              "Houston                    6772470.0   5.0  ...  0.792683       6772470\n",
              "Indianapolis               2004230.0   6.0  ...  0.585366       2004230\n",
              "Los Angeles               13310447.0   3.5  ...  0.469512      13310447\n",
              "Miami–Fort Lauderdale      6066387.0   9.0  ...  0.536585       6066387\n",
              "Minneapolis–Saint Paul     3551036.0   7.0  ...  0.573171       3551036\n",
              "New Orleans                1268883.0   3.0  ...  0.585366       1268883\n",
              "New York City             20153634.0  11.5  ...  0.347561      20153634\n",
              "Philadelphia               6070500.0   7.0  ...  0.634146       6070500\n",
              "Phoenix                    4661537.0  13.0  ...  0.256098       4661537\n",
              "San Francisco Bay Area     6657982.0  12.0  ...  0.707317       6657982\n",
              "\n",
              "[18 rows x 7 columns]"
            ]
          },
          "metadata": {
            "tags": []
          },
          "execution_count": 73
        }
      ]
    },
    {
      "cell_type": "code",
      "metadata": {
        "colab": {
          "base_uri": "https://localhost:8080/"
        },
        "id": "DHqHmHDhU9aW",
        "outputId": "2d5fe244-0b8e-40c5-a63d-c564a73d6503"
      },
      "source": [
        "stats.ttest_ind(region_nfl_nba['W/L'], region_nfl_nba['W/l'])"
      ],
      "execution_count": null,
      "outputs": [
        {
          "output_type": "execute_result",
          "data": {
            "text/plain": [
              "Ttest_indResult(statistic=0.14910444371585257, pvalue=0.8823521296553065)"
            ]
          },
          "metadata": {
            "tags": []
          },
          "execution_count": 74
        }
      ]
    },
    {
      "cell_type": "code",
      "metadata": {
        "colab": {
          "base_uri": "https://localhost:8080/",
          "height": 235
        },
        "id": "hh_aSC86VLYR",
        "outputId": "fb6d4a7f-80b1-49d1-baba-2b313cd4cb2b"
      },
      "source": [
        "region_nfl_nhl = pd.merge(regions_nfl, regions_nhl, how='inner', on='Metropolitan area')\n",
        "region_nfl_nhl.head()"
      ],
      "execution_count": null,
      "outputs": [
        {
          "output_type": "execute_result",
          "data": {
            "text/html": [
              "<div>\n",
              "<style scoped>\n",
              "    .dataframe tbody tr th:only-of-type {\n",
              "        vertical-align: middle;\n",
              "    }\n",
              "\n",
              "    .dataframe tbody tr th {\n",
              "        vertical-align: top;\n",
              "    }\n",
              "\n",
              "    .dataframe thead th {\n",
              "        text-align: right;\n",
              "    }\n",
              "</style>\n",
              "<table border=\"1\" class=\"dataframe\">\n",
              "  <thead>\n",
              "    <tr style=\"text-align: right;\">\n",
              "      <th></th>\n",
              "      <th>Population_x</th>\n",
              "      <th>L</th>\n",
              "      <th>W</th>\n",
              "      <th>year</th>\n",
              "      <th>W/L_x</th>\n",
              "      <th>Population_y</th>\n",
              "      <th>W/L_y</th>\n",
              "    </tr>\n",
              "    <tr>\n",
              "      <th>Metropolitan area</th>\n",
              "      <th></th>\n",
              "      <th></th>\n",
              "      <th></th>\n",
              "      <th></th>\n",
              "      <th></th>\n",
              "      <th></th>\n",
              "      <th></th>\n",
              "    </tr>\n",
              "  </thead>\n",
              "  <tbody>\n",
              "    <tr>\n",
              "      <th>Boston</th>\n",
              "      <td>4794447.0</td>\n",
              "      <td>5.0</td>\n",
              "      <td>11.0</td>\n",
              "      <td>2018.0</td>\n",
              "      <td>0.6875</td>\n",
              "      <td>4794447</td>\n",
              "      <td>0.714286</td>\n",
              "    </tr>\n",
              "    <tr>\n",
              "      <th>Buffalo</th>\n",
              "      <td>1132804.0</td>\n",
              "      <td>10.0</td>\n",
              "      <td>6.0</td>\n",
              "      <td>2018.0</td>\n",
              "      <td>0.3750</td>\n",
              "      <td>1132804</td>\n",
              "      <td>0.357143</td>\n",
              "    </tr>\n",
              "    <tr>\n",
              "      <th>Chicago</th>\n",
              "      <td>9512999.0</td>\n",
              "      <td>4.0</td>\n",
              "      <td>12.0</td>\n",
              "      <td>2018.0</td>\n",
              "      <td>0.7500</td>\n",
              "      <td>9512999</td>\n",
              "      <td>0.458333</td>\n",
              "    </tr>\n",
              "    <tr>\n",
              "      <th>Dallas–Fort Worth</th>\n",
              "      <td>7233323.0</td>\n",
              "      <td>6.0</td>\n",
              "      <td>10.0</td>\n",
              "      <td>2018.0</td>\n",
              "      <td>0.6250</td>\n",
              "      <td>7233323</td>\n",
              "      <td>0.567568</td>\n",
              "    </tr>\n",
              "    <tr>\n",
              "      <th>Denver</th>\n",
              "      <td>2853077.0</td>\n",
              "      <td>10.0</td>\n",
              "      <td>6.0</td>\n",
              "      <td>2018.0</td>\n",
              "      <td>0.3750</td>\n",
              "      <td>2853077</td>\n",
              "      <td>0.589041</td>\n",
              "    </tr>\n",
              "  </tbody>\n",
              "</table>\n",
              "</div>"
            ],
            "text/plain": [
              "                   Population_x     L     W  ...   W/L_x  Population_y     W/L_y\n",
              "Metropolitan area                            ...                                \n",
              "Boston                4794447.0   5.0  11.0  ...  0.6875       4794447  0.714286\n",
              "Buffalo               1132804.0  10.0   6.0  ...  0.3750       1132804  0.357143\n",
              "Chicago               9512999.0   4.0  12.0  ...  0.7500       9512999  0.458333\n",
              "Dallas–Fort Worth     7233323.0   6.0  10.0  ...  0.6250       7233323  0.567568\n",
              "Denver                2853077.0  10.0   6.0  ...  0.3750       2853077  0.589041\n",
              "\n",
              "[5 rows x 7 columns]"
            ]
          },
          "metadata": {
            "tags": []
          },
          "execution_count": 76
        }
      ]
    },
    {
      "cell_type": "code",
      "metadata": {
        "colab": {
          "base_uri": "https://localhost:8080/"
        },
        "id": "LeQ6MWvcVbL-",
        "outputId": "c27f5fa0-e5f9-4e0f-ace9-bbeccc9eed45"
      },
      "source": [
        "stats.ttest_ind(region_nfl_nhl['W/L_x'], region_nfl_nhl['W/L_y'])"
      ],
      "execution_count": null,
      "outputs": [
        {
          "output_type": "execute_result",
          "data": {
            "text/plain": [
              "Ttest_indResult(statistic=-2.186482591730893, pvalue=0.036206737782513654)"
            ]
          },
          "metadata": {
            "tags": []
          },
          "execution_count": 77
        }
      ]
    },
    {
      "cell_type": "code",
      "metadata": {
        "colab": {
          "base_uri": "https://localhost:8080/",
          "height": 235
        },
        "id": "aWXJRrzpVpMH",
        "outputId": "93f90828-b8be-4d82-ed80-768f0cb6c561"
      },
      "source": [
        "region_nfl_mlb = pd.merge(regions_nfl, regions_mlb, how='inner', on='Metropolitan area')\n",
        "region_nfl_mlb.head()"
      ],
      "execution_count": null,
      "outputs": [
        {
          "output_type": "execute_result",
          "data": {
            "text/html": [
              "<div>\n",
              "<style scoped>\n",
              "    .dataframe tbody tr th:only-of-type {\n",
              "        vertical-align: middle;\n",
              "    }\n",
              "\n",
              "    .dataframe tbody tr th {\n",
              "        vertical-align: top;\n",
              "    }\n",
              "\n",
              "    .dataframe thead th {\n",
              "        text-align: right;\n",
              "    }\n",
              "</style>\n",
              "<table border=\"1\" class=\"dataframe\">\n",
              "  <thead>\n",
              "    <tr style=\"text-align: right;\">\n",
              "      <th></th>\n",
              "      <th>Population_x</th>\n",
              "      <th>L_x</th>\n",
              "      <th>W_x</th>\n",
              "      <th>year_x</th>\n",
              "      <th>W/L_x</th>\n",
              "      <th>Population_y</th>\n",
              "      <th>W_y</th>\n",
              "      <th>L_y</th>\n",
              "      <th>W-L%</th>\n",
              "      <th>year_y</th>\n",
              "      <th>W/L_y</th>\n",
              "    </tr>\n",
              "    <tr>\n",
              "      <th>Metropolitan area</th>\n",
              "      <th></th>\n",
              "      <th></th>\n",
              "      <th></th>\n",
              "      <th></th>\n",
              "      <th></th>\n",
              "      <th></th>\n",
              "      <th></th>\n",
              "      <th></th>\n",
              "      <th></th>\n",
              "      <th></th>\n",
              "      <th></th>\n",
              "    </tr>\n",
              "  </thead>\n",
              "  <tbody>\n",
              "    <tr>\n",
              "      <th>Atlanta</th>\n",
              "      <td>5789700.0</td>\n",
              "      <td>9.0</td>\n",
              "      <td>7.0</td>\n",
              "      <td>2018.0</td>\n",
              "      <td>0.4375</td>\n",
              "      <td>5789700.0</td>\n",
              "      <td>90.0</td>\n",
              "      <td>72.0</td>\n",
              "      <td>0.556</td>\n",
              "      <td>2018.0</td>\n",
              "      <td>0.555556</td>\n",
              "    </tr>\n",
              "    <tr>\n",
              "      <th>Baltimore</th>\n",
              "      <td>2798886.0</td>\n",
              "      <td>6.0</td>\n",
              "      <td>10.0</td>\n",
              "      <td>2018.0</td>\n",
              "      <td>0.6250</td>\n",
              "      <td>2798886.0</td>\n",
              "      <td>47.0</td>\n",
              "      <td>115.0</td>\n",
              "      <td>0.290</td>\n",
              "      <td>2018.0</td>\n",
              "      <td>0.290123</td>\n",
              "    </tr>\n",
              "    <tr>\n",
              "      <th>Boston</th>\n",
              "      <td>4794447.0</td>\n",
              "      <td>5.0</td>\n",
              "      <td>11.0</td>\n",
              "      <td>2018.0</td>\n",
              "      <td>0.6875</td>\n",
              "      <td>4794447.0</td>\n",
              "      <td>108.0</td>\n",
              "      <td>54.0</td>\n",
              "      <td>0.667</td>\n",
              "      <td>2018.0</td>\n",
              "      <td>0.666667</td>\n",
              "    </tr>\n",
              "    <tr>\n",
              "      <th>Chicago</th>\n",
              "      <td>9512999.0</td>\n",
              "      <td>4.0</td>\n",
              "      <td>12.0</td>\n",
              "      <td>2018.0</td>\n",
              "      <td>0.7500</td>\n",
              "      <td>9512999.0</td>\n",
              "      <td>78.5</td>\n",
              "      <td>84.0</td>\n",
              "      <td>0.483</td>\n",
              "      <td>2018.0</td>\n",
              "      <td>0.482769</td>\n",
              "    </tr>\n",
              "    <tr>\n",
              "      <th>Cincinnati</th>\n",
              "      <td>2165139.0</td>\n",
              "      <td>10.0</td>\n",
              "      <td>6.0</td>\n",
              "      <td>2018.0</td>\n",
              "      <td>0.3750</td>\n",
              "      <td>2165139.0</td>\n",
              "      <td>67.0</td>\n",
              "      <td>95.0</td>\n",
              "      <td>0.414</td>\n",
              "      <td>2018.0</td>\n",
              "      <td>0.413580</td>\n",
              "    </tr>\n",
              "  </tbody>\n",
              "</table>\n",
              "</div>"
            ],
            "text/plain": [
              "                   Population_x   L_x   W_x  ...   W-L%  year_y     W/L_y\n",
              "Metropolitan area                            ...                         \n",
              "Atlanta               5789700.0   9.0   7.0  ...  0.556  2018.0  0.555556\n",
              "Baltimore             2798886.0   6.0  10.0  ...  0.290  2018.0  0.290123\n",
              "Boston                4794447.0   5.0  11.0  ...  0.667  2018.0  0.666667\n",
              "Chicago               9512999.0   4.0  12.0  ...  0.483  2018.0  0.482769\n",
              "Cincinnati            2165139.0  10.0   6.0  ...  0.414  2018.0  0.413580\n",
              "\n",
              "[5 rows x 11 columns]"
            ]
          },
          "metadata": {
            "tags": []
          },
          "execution_count": 79
        }
      ]
    },
    {
      "cell_type": "code",
      "metadata": {
        "colab": {
          "base_uri": "https://localhost:8080/"
        },
        "id": "u0jNgWG2V92i",
        "outputId": "62c04cf6-4638-4413-e4ec-c3e3e230e558"
      },
      "source": [
        "stats.ttest_ind(region_nfl_mlb['W/L_x'], region_nfl_mlb['W/L_y'])"
      ],
      "execution_count": null,
      "outputs": [
        {
          "output_type": "execute_result",
          "data": {
            "text/plain": [
              "Ttest_indResult(statistic=0.3344104410458205, pvalue=0.7398170172065339)"
            ]
          },
          "metadata": {
            "tags": []
          },
          "execution_count": 80
        }
      ]
    },
    {
      "cell_type": "code",
      "metadata": {
        "colab": {
          "base_uri": "https://localhost:8080/",
          "height": 235
        },
        "id": "X_xe98vIWTMm",
        "outputId": "e7e127d9-e618-4ef4-a8dc-c319a7154dcd"
      },
      "source": [
        "region_nba_nhl = pd.merge(regions_nba, regions_nhl, how='inner', on='Metropolitan area')\n",
        "region_nba_nhl.head()"
      ],
      "execution_count": null,
      "outputs": [
        {
          "output_type": "execute_result",
          "data": {
            "text/html": [
              "<div>\n",
              "<style scoped>\n",
              "    .dataframe tbody tr th:only-of-type {\n",
              "        vertical-align: middle;\n",
              "    }\n",
              "\n",
              "    .dataframe tbody tr th {\n",
              "        vertical-align: top;\n",
              "    }\n",
              "\n",
              "    .dataframe thead th {\n",
              "        text-align: right;\n",
              "    }\n",
              "</style>\n",
              "<table border=\"1\" class=\"dataframe\">\n",
              "  <thead>\n",
              "    <tr style=\"text-align: right;\">\n",
              "      <th></th>\n",
              "      <th>W/l</th>\n",
              "      <th>Population_x</th>\n",
              "      <th>Population_y</th>\n",
              "      <th>W/L</th>\n",
              "    </tr>\n",
              "    <tr>\n",
              "      <th>Metropolitan area</th>\n",
              "      <th></th>\n",
              "      <th></th>\n",
              "      <th></th>\n",
              "      <th></th>\n",
              "    </tr>\n",
              "  </thead>\n",
              "  <tbody>\n",
              "    <tr>\n",
              "      <th>Boston</th>\n",
              "      <td>0.670732</td>\n",
              "      <td>4794447</td>\n",
              "      <td>4794447</td>\n",
              "      <td>0.714286</td>\n",
              "    </tr>\n",
              "    <tr>\n",
              "      <th>Chicago</th>\n",
              "      <td>0.329268</td>\n",
              "      <td>9512999</td>\n",
              "      <td>9512999</td>\n",
              "      <td>0.458333</td>\n",
              "    </tr>\n",
              "    <tr>\n",
              "      <th>Dallas–Fort Worth</th>\n",
              "      <td>0.292683</td>\n",
              "      <td>7233323</td>\n",
              "      <td>7233323</td>\n",
              "      <td>0.567568</td>\n",
              "    </tr>\n",
              "    <tr>\n",
              "      <th>Denver</th>\n",
              "      <td>0.560976</td>\n",
              "      <td>2853077</td>\n",
              "      <td>2853077</td>\n",
              "      <td>0.589041</td>\n",
              "    </tr>\n",
              "    <tr>\n",
              "      <th>Detroit</th>\n",
              "      <td>0.475610</td>\n",
              "      <td>4297617</td>\n",
              "      <td>4297617</td>\n",
              "      <td>0.434783</td>\n",
              "    </tr>\n",
              "  </tbody>\n",
              "</table>\n",
              "</div>"
            ],
            "text/plain": [
              "                        W/l  Population_x  Population_y       W/L\n",
              "Metropolitan area                                                \n",
              "Boston             0.670732       4794447       4794447  0.714286\n",
              "Chicago            0.329268       9512999       9512999  0.458333\n",
              "Dallas–Fort Worth  0.292683       7233323       7233323  0.567568\n",
              "Denver             0.560976       2853077       2853077  0.589041\n",
              "Detroit            0.475610       4297617       4297617  0.434783"
            ]
          },
          "metadata": {
            "tags": []
          },
          "execution_count": 82
        }
      ]
    },
    {
      "cell_type": "code",
      "metadata": {
        "colab": {
          "base_uri": "https://localhost:8080/"
        },
        "id": "3g_U-PvoW_Po",
        "outputId": "8e37e5d9-aae8-49d0-99b0-33659e830010"
      },
      "source": [
        "stats.ttest_ind(region_nba_nhl['W/L'], region_nba_nhl['W/l'])"
      ],
      "execution_count": null,
      "outputs": [
        {
          "output_type": "execute_result",
          "data": {
            "text/plain": [
              "Ttest_indResult(statistic=1.5050389212319741, pvalue=0.14436675651787648)"
            ]
          },
          "metadata": {
            "tags": []
          },
          "execution_count": 83
        }
      ]
    },
    {
      "cell_type": "code",
      "metadata": {
        "colab": {
          "base_uri": "https://localhost:8080/"
        },
        "id": "luXnHl7ZXKsW",
        "outputId": "41c6d6d6-60fd-442b-f111-5f752c84cdc2"
      },
      "source": [
        "stats.ttest_rel(region_nba_nhl['W/L'], region_nba_nhl['W/l'])"
      ],
      "execution_count": null,
      "outputs": [
        {
          "output_type": "execute_result",
          "data": {
            "text/plain": [
              "Ttest_relResult(statistic=2.593073319204328, pvalue=0.022297049643438753)"
            ]
          },
          "metadata": {
            "tags": []
          },
          "execution_count": 84
        }
      ]
    },
    {
      "cell_type": "code",
      "metadata": {
        "id": "iUiWxr8AXmYL"
      },
      "source": [
        ""
      ],
      "execution_count": null,
      "outputs": []
    }
  ]
}